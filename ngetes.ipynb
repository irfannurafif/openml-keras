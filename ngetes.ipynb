{
 "cells": [
  {
   "cell_type": "code",
   "execution_count": 4,
   "metadata": {
    "collapsed": false
   },
   "outputs": [
    {
     "name": "stdout",
     "output_type": "stream",
     "text": [
      "The autoreload extension is already loaded. To reload it, use:\n",
      "  %reload_ext autoreload\n",
      "_________________________________________________________________\n",
      "Layer (type)                 Output Shape              Param #   \n",
      "=================================================================\n",
      "reshape_2 (Reshape)          (None, 28, 28, 1)         0         \n",
      "_________________________________________________________________\n",
      "conv2d_3 (Conv2D)            (None, 28, 28, 20)        520       \n",
      "_________________________________________________________________\n",
      "max_pooling2d_3 (MaxPooling2 (None, 14, 14, 20)        0         \n",
      "_________________________________________________________________\n",
      "conv2d_4 (Conv2D)            (None, 14, 14, 50)        25050     \n",
      "_________________________________________________________________\n",
      "max_pooling2d_4 (MaxPooling2 (None, 7, 7, 50)          0         \n",
      "_________________________________________________________________\n",
      "flatten_2 (Flatten)          (None, 2450)              0         \n",
      "_________________________________________________________________\n",
      "dense_3 (Dense)              (None, 500)               1225500   \n",
      "_________________________________________________________________\n",
      "activation_3 (Activation)    (None, 500)               0         \n",
      "_________________________________________________________________\n",
      "dense_4 (Dense)              (None, 10)                5010      \n",
      "_________________________________________________________________\n",
      "activation_4 (Activation)    (None, 10)                0         \n",
      "=================================================================\n",
      "Total params: 1,256,080\n",
      "Trainable params: 1,256,080\n",
      "Non-trainable params: 0\n",
      "_________________________________________________________________\n",
      "None\n"
     ]
    }
   ],
   "source": [
    "\n",
    "%load_ext autoreload\n",
    "%autoreload 2\n",
    "#import autosklearn.classification\n",
    "import sklearn.model_selection\n",
    "import sklearn.datasets\n",
    "import sklearn.metrics\n",
    "from keras.datasets import mnist\n",
    "from keras.datasets import cifar10\n",
    "import keras\n",
    "from keras.datasets import mnist\n",
    "from keras.models import Sequential\n",
    "from keras.layers import Dense, Dropout, Flatten\n",
    "from keras.layers import Conv2D, MaxPooling2D\n",
    "from keras import backend as K\n",
    "import openml as oml\n",
    "from keras.models import load_model\n",
    "from keras.layers.core import Activation\n",
    "from keras.layers.core import Flatten\n",
    "from keras.layers.core import Dense\n",
    "from keras.layers.convolutional import Convolution2D\n",
    "from keras.layers.convolutional import MaxPooling2D\n",
    "from keras.layers.convolutional import ZeroPadding2D\n",
    "from keras.layers.advanced_activations import LeakyReLU\n",
    "from keras.utils import np_utils\n",
    "oml.config.apikey = 'b15b073c6fea6dc55b08f051f5e1abf9'\n",
    "from scipy.io import loadmat\n",
    "import numpy as np\n",
    "import matplotlib.pyplot as plt\n",
    "import seaborn as sns\n",
    "\n",
    "\n",
    "from keras.layers import Reshape\n",
    "\n",
    "#task = oml.tasks.get_task(3573)\n",
    "model = Sequential()\n",
    "model.add(Reshape((28, 28, 1), input_shape=(784,)))\n",
    "\n",
    "# first set of CONV => RELU => POOL\n",
    "model.add(Conv2D(20, (5, 5), padding=\"same\",\n",
    "input_shape=(28,28,1), activation='relu'))\n",
    "model.add(MaxPooling2D(pool_size=(2, 2), strides=(2, 2)))\n",
    "\n",
    "# second set of CONV => RELU => POOL\n",
    "model.add(Conv2D(50, (5, 5), padding=\"same\", activation='relu'))\n",
    "model.add(MaxPooling2D(pool_size=(2, 2), strides=(2, 2)))\n",
    "\n",
    "# set of FC => RELU layers\n",
    "model.add(Flatten())\n",
    "model.add(Dense(500))\n",
    "model.add(Activation('relu'))\n",
    "\n",
    "# softmax classifier\n",
    "model.add(Dense(10))\n",
    "model.add(Activation('softmax'))\n",
    "model.compile(loss=keras.losses.categorical_crossentropy,\n",
    "              optimizer=keras.optimizers.Adadelta(),\n",
    "              metrics=['accuracy'])\n",
    "print(model.summary())\n",
    "#run = oml.runs.run_task(task, model)"
   ]
  },
  {
   "cell_type": "code",
   "execution_count": 63,
   "metadata": {
    "collapsed": false
   },
   "outputs": [
    {
     "name": "stdout",
     "output_type": "stream",
     "text": [
      "output=\n",
      "OrderedDict([('copy', 'true'), ('feature_range', '[0, 1]')])\n",
      "\n",
      " OrderedDict([('copy', OrderedDict([('description', None), ('data_type', None)])), ('feature_range', OrderedDict([('description', None), ('data_type', None)]))])\n",
      "\n",
      " OrderedDict()\n",
      "\n",
      " set()\n",
      "\n",
      "\n",
      "output=\n",
      "OrderedDict([('C', '1.0'), ('cache_size', '200'), ('class_weight', 'null'), ('coef0', '0.0'), ('decision_function_shape', 'null'), ('degree', '3'), ('gamma', '\"auto\"'), ('kernel', '\"rbf\"'), ('max_iter', '-1'), ('probability', 'false'), ('random_state', 'null'), ('shrinking', 'true'), ('tol', '0.001'), ('verbose', 'false')])\n",
      "\n",
      " OrderedDict([('C', OrderedDict([('description', None), ('data_type', None)])), ('cache_size', OrderedDict([('description', None), ('data_type', None)])), ('class_weight', OrderedDict([('description', None), ('data_type', None)])), ('coef0', OrderedDict([('description', None), ('data_type', None)])), ('decision_function_shape', OrderedDict([('description', None), ('data_type', None)])), ('degree', OrderedDict([('description', None), ('data_type', None)])), ('gamma', OrderedDict([('description', None), ('data_type', None)])), ('kernel', OrderedDict([('description', None), ('data_type', None)])), ('max_iter', OrderedDict([('description', None), ('data_type', None)])), ('probability', OrderedDict([('description', None), ('data_type', None)])), ('random_state', OrderedDict([('description', None), ('data_type', None)])), ('shrinking', OrderedDict([('description', None), ('data_type', None)])), ('tol', OrderedDict([('description', None), ('data_type', None)])), ('verbose', OrderedDict([('description', None), ('data_type', None)]))])\n",
      "\n",
      " OrderedDict()\n",
      "\n",
      " set()\n",
      "\n",
      "\n",
      "output=\n",
      "OrderedDict([('steps', '[{\"oml-python:serialized_object\": \"component_reference\", \"value\": {\"key\": \"scaler\", \"step_name\": \"scaler\"}}, {\"oml-python:serialized_object\": \"component_reference\", \"value\": {\"key\": \"svm\", \"step_name\": \"svm\"}}]')])\n",
      "\n",
      " OrderedDict([('steps', OrderedDict([('description', None), ('data_type', None)]))])\n",
      "\n",
      " OrderedDict([('scaler', <openml.flows.flow.OpenMLFlow object at 0x7f8dc911f2e8>), ('svm', <openml.flows.flow.OpenMLFlow object at 0x7f8dc9121550>)])\n",
      "\n",
      " {'svm', 'scaler'}\n",
      "\n",
      "\n",
      "output=\n",
      "OrderedDict([('build_fn', '{\"oml-python:serialized_object\": \"component_reference\", \"value\": {\"key\": \"build_fn\", \"step_name\": null}}')])\n",
      "\n",
      " OrderedDict([('build_fn', OrderedDict([('description', None), ('data_type', None)]))])\n",
      "\n",
      " OrderedDict([('build_fn', <openml.flows.flow.OpenMLFlow object at 0x7f8dc91211d0>)])\n",
      "\n",
      " {'build_fn'}\n",
      "\n",
      "\n"
     ]
    },
    {
     "data": {
      "text/plain": [
       "<openml.flows.flow.OpenMLFlow at 0x7f8dc911f3c8>"
      ]
     },
     "execution_count": 63,
     "metadata": {},
     "output_type": "execute_result"
    }
   ],
   "source": [
    "import openml as tes_oml\n",
    "#tes_oml.flows.sklearn_converter._extract_information_from_seq(model)\n",
    "tes_oml.flows.sklearn_converter.sklearn_to_flow(model3)\n",
    "tes_oml.flows.sklearn_converter.sklearn_to_flow(m)\n",
    "tes_oml.flows.sklearn_converter.sklearn_to_flow(model)"
   ]
  },
  {
   "cell_type": "code",
   "execution_count": 9,
   "metadata": {
    "collapsed": false
   },
   "outputs": [
    {
     "name": "stdout",
     "output_type": "stream",
     "text": [
      "skrapapapa\n",
      "=================dsdsdsds\n",
      "{'name': 'conv2d_3', 'trainable': True, 'batch_input_shape': (None, 28, 28, 1), 'dtype': 'float32', 'filters': 20, 'kernel_size': (5, 5), 'strides': (1, 1), 'padding': 'same', 'data_format': 'channels_last', 'dilation_rate': (1, 1), 'activation': 'relu', 'use_bias': True, 'kernel_initializer': {'class_name': 'VarianceScaling', 'config': {'scale': 1.0, 'mode': 'fan_avg', 'distribution': 'uniform', 'seed': None}}, 'bias_initializer': {'class_name': 'Zeros', 'config': {}}, 'kernel_regularizer': None, 'bias_regularizer': None, 'activity_regularizer': None, 'kernel_constraint': None, 'bias_constraint': None}\n",
      "=================dsdsdsds\n",
      "=================debug line start\n",
      "{'bootstrap': True, 'class_weight': None, 'criterion': 'gini', 'max_depth': None, 'max_features': 'auto', 'max_leaf_nodes': None, 'min_impurity_split': 1e-07, 'min_samples_leaf': 1, 'min_samples_split': 2, 'min_weight_fraction_leaf': 0.0, 'n_estimators': 10, 'n_jobs': 1, 'oob_score': False, 'random_state': None, 'verbose': 0, 'warm_start': False}\n",
      "=================debug line end\n"
     ]
    },
    {
     "data": {
      "text/plain": [
       "(OrderedDict([('bootstrap', 'true'),\n",
       "              ('class_weight', 'null'),\n",
       "              ('criterion', '\"gini\"'),\n",
       "              ('max_depth', 'null'),\n",
       "              ('max_features', '\"auto\"'),\n",
       "              ('max_leaf_nodes', 'null'),\n",
       "              ('min_impurity_split', '1e-07'),\n",
       "              ('min_samples_leaf', '1'),\n",
       "              ('min_samples_split', '2'),\n",
       "              ('min_weight_fraction_leaf', '0.0'),\n",
       "              ('n_estimators', '10'),\n",
       "              ('n_jobs', '1'),\n",
       "              ('oob_score', 'false'),\n",
       "              ('random_state', 'null'),\n",
       "              ('verbose', '0'),\n",
       "              ('warm_start', 'false')]),\n",
       " OrderedDict([('bootstrap',\n",
       "               OrderedDict([('description', None), ('data_type', None)])),\n",
       "              ('class_weight',\n",
       "               OrderedDict([('description', None), ('data_type', None)])),\n",
       "              ('criterion',\n",
       "               OrderedDict([('description', None), ('data_type', None)])),\n",
       "              ('max_depth',\n",
       "               OrderedDict([('description', None), ('data_type', None)])),\n",
       "              ('max_features',\n",
       "               OrderedDict([('description', None), ('data_type', None)])),\n",
       "              ('max_leaf_nodes',\n",
       "               OrderedDict([('description', None), ('data_type', None)])),\n",
       "              ('min_impurity_split',\n",
       "               OrderedDict([('description', None), ('data_type', None)])),\n",
       "              ('min_samples_leaf',\n",
       "               OrderedDict([('description', None), ('data_type', None)])),\n",
       "              ('min_samples_split',\n",
       "               OrderedDict([('description', None), ('data_type', None)])),\n",
       "              ('min_weight_fraction_leaf',\n",
       "               OrderedDict([('description', None), ('data_type', None)])),\n",
       "              ('n_estimators',\n",
       "               OrderedDict([('description', None), ('data_type', None)])),\n",
       "              ('n_jobs',\n",
       "               OrderedDict([('description', None), ('data_type', None)])),\n",
       "              ('oob_score',\n",
       "               OrderedDict([('description', None), ('data_type', None)])),\n",
       "              ('random_state',\n",
       "               OrderedDict([('description', None), ('data_type', None)])),\n",
       "              ('verbose',\n",
       "               OrderedDict([('description', None), ('data_type', None)])),\n",
       "              ('warm_start',\n",
       "               OrderedDict([('description', None), ('data_type', None)]))]),\n",
       " OrderedDict(),\n",
       " set())"
      ]
     },
     "execution_count": 9,
     "metadata": {},
     "output_type": "execute_result"
    }
   ],
   "source": [
    "\n",
    "#import openml\n",
    "#importlib.reload(tes_oml)\n",
    "openml.flows.sklearn_converter.tes_function()\n",
    "#tes_oml.flows.sklearn_converter._serialize_model(model)\n",
    "openml.flows.sklearn_converter._extract_information_from_seq(model)\n",
    "openml.flows.sklearn_converter._extract_information_from_model(model2)"
   ]
  },
  {
   "cell_type": "markdown",
   "metadata": {
    "collapsed": false
   },
   "source": [
    "run = tes_oml.runs.run_model_on_task(task, model)"
   ]
  },
  {
   "cell_type": "code",
   "execution_count": 3,
   "metadata": {
    "collapsed": false
   },
   "outputs": [
    {
     "ename": "NameError",
     "evalue": "name 'openml' is not defined",
     "output_type": "error",
     "traceback": [
      "\u001b[0;31m---------------------------------------------------------------------------\u001b[0m",
      "\u001b[0;31mNameError\u001b[0m                                 Traceback (most recent call last)",
      "\u001b[0;32m<ipython-input-3-1ad8ada125c8>\u001b[0m in \u001b[0;36m<module>\u001b[0;34m()\u001b[0m\n\u001b[0;32m----> 1\u001b[0;31m \u001b[0mopenml\u001b[0m\u001b[0;34m.\u001b[0m\u001b[0mruns\u001b[0m\u001b[0;34m.\u001b[0m\u001b[0mattribute\u001b[0m\u001b[0;34m\u001b[0m\u001b[0m\n\u001b[0m",
      "\u001b[0;31mNameError\u001b[0m: name 'openml' is not defined"
     ]
    }
   ],
   "source": [
    "openml.runs.attribute"
   ]
  },
  {
   "cell_type": "code",
   "execution_count": 4,
   "metadata": {
    "collapsed": false
   },
   "outputs": [
    {
     "data": {
      "text/plain": [
       "{'activation': 'relu',\n",
       " 'activity_regularizer': None,\n",
       " 'batch_input_shape': (None, 28, 28, 1),\n",
       " 'bias_constraint': None,\n",
       " 'bias_initializer': {'class_name': 'Zeros', 'config': {}},\n",
       " 'bias_regularizer': None,\n",
       " 'data_format': 'channels_last',\n",
       " 'dilation_rate': (1, 1),\n",
       " 'dtype': 'float32',\n",
       " 'filters': 20,\n",
       " 'kernel_constraint': None,\n",
       " 'kernel_initializer': {'class_name': 'VarianceScaling',\n",
       "  'config': {'distribution': 'uniform',\n",
       "   'mode': 'fan_avg',\n",
       "   'scale': 1.0,\n",
       "   'seed': None}},\n",
       " 'kernel_regularizer': None,\n",
       " 'kernel_size': (5, 5),\n",
       " 'name': 'conv2d_1',\n",
       " 'padding': 'same',\n",
       " 'strides': (1, 1),\n",
       " 'trainable': True,\n",
       " 'use_bias': True}"
      ]
     },
     "execution_count": 4,
     "metadata": {},
     "output_type": "execute_result"
    }
   ],
   "source": [
    "model.layers[1].get_config()"
   ]
  },
  {
   "cell_type": "code",
   "execution_count": 10,
   "metadata": {
    "collapsed": false
   },
   "outputs": [
    {
     "data": {
      "text/plain": [
       "<keras.models.Sequential at 0x7f8b03ecab38>"
      ]
     },
     "execution_count": 10,
     "metadata": {},
     "output_type": "execute_result"
    }
   ],
   "source": [
    "model"
   ]
  },
  {
   "cell_type": "code",
   "execution_count": 2,
   "metadata": {
    "collapsed": false
   },
   "outputs": [
    {
     "data": {
      "text/plain": [
       "True"
      ]
     },
     "execution_count": 2,
     "metadata": {},
     "output_type": "execute_result"
    }
   ],
   "source": [
    "isinstance(model, keras.models.Sequential)"
   ]
  },
  {
   "cell_type": "code",
   "execution_count": 21,
   "metadata": {
    "collapsed": false
   },
   "outputs": [
    {
     "ename": "TypeError",
     "evalue": "the JSON object must be str, bytes or bytearray, not 'Sequential'",
     "output_type": "error",
     "traceback": [
      "\u001b[0;31m---------------------------------------------------------------------------\u001b[0m",
      "\u001b[0;31mTypeError\u001b[0m                                 Traceback (most recent call last)",
      "\u001b[0;32m<ipython-input-21-be9de774dc3f>\u001b[0m in \u001b[0;36m<module>\u001b[0;34m()\u001b[0m\n\u001b[1;32m      1\u001b[0m \u001b[0;32mimport\u001b[0m \u001b[0mjson\u001b[0m\u001b[0;34m\u001b[0m\u001b[0m\n\u001b[0;32m----> 2\u001b[0;31m \u001b[0mjson\u001b[0m\u001b[0;34m.\u001b[0m\u001b[0mloads\u001b[0m\u001b[0;34m(\u001b[0m\u001b[0mmodel\u001b[0m\u001b[0;34m)\u001b[0m\u001b[0;34m\u001b[0m\u001b[0m\n\u001b[0m",
      "\u001b[0;32m/home/irfan/anaconda3/lib/python3.6/json/__init__.py\u001b[0m in \u001b[0;36mloads\u001b[0;34m(s, encoding, cls, object_hook, parse_float, parse_int, parse_constant, object_pairs_hook, **kw)\u001b[0m\n\u001b[1;32m    346\u001b[0m         \u001b[0;32mif\u001b[0m \u001b[0;32mnot\u001b[0m \u001b[0misinstance\u001b[0m\u001b[0;34m(\u001b[0m\u001b[0ms\u001b[0m\u001b[0;34m,\u001b[0m \u001b[0;34m(\u001b[0m\u001b[0mbytes\u001b[0m\u001b[0;34m,\u001b[0m \u001b[0mbytearray\u001b[0m\u001b[0;34m)\u001b[0m\u001b[0;34m)\u001b[0m\u001b[0;34m:\u001b[0m\u001b[0;34m\u001b[0m\u001b[0m\n\u001b[1;32m    347\u001b[0m             raise TypeError('the JSON object must be str, bytes or bytearray, '\n\u001b[0;32m--> 348\u001b[0;31m                             'not {!r}'.format(s.__class__.__name__))\n\u001b[0m\u001b[1;32m    349\u001b[0m         \u001b[0ms\u001b[0m \u001b[0;34m=\u001b[0m \u001b[0ms\u001b[0m\u001b[0;34m.\u001b[0m\u001b[0mdecode\u001b[0m\u001b[0;34m(\u001b[0m\u001b[0mdetect_encoding\u001b[0m\u001b[0;34m(\u001b[0m\u001b[0ms\u001b[0m\u001b[0;34m)\u001b[0m\u001b[0;34m,\u001b[0m \u001b[0;34m'surrogatepass'\u001b[0m\u001b[0;34m)\u001b[0m\u001b[0;34m\u001b[0m\u001b[0m\n\u001b[1;32m    350\u001b[0m \u001b[0;34m\u001b[0m\u001b[0m\n",
      "\u001b[0;31mTypeError\u001b[0m: the JSON object must be str, bytes or bytearray, not 'Sequential'"
     ]
    }
   ],
   "source": [
    "import json\n",
    "json.loads(model)"
   ]
  },
  {
   "cell_type": "code",
   "execution_count": 7,
   "metadata": {
    "collapsed": false
   },
   "outputs": [
    {
     "ename": "NameError",
     "evalue": "name 'pprint' is not defined",
     "output_type": "error",
     "traceback": [
      "\u001b[0;31m---------------------------------------------------------------------------\u001b[0m",
      "\u001b[0;31mNameError\u001b[0m                                 Traceback (most recent call last)",
      "\u001b[0;32m<ipython-input-7-1f7a28c35d27>\u001b[0m in \u001b[0;36m<module>\u001b[0;34m()\u001b[0m\n\u001b[1;32m      2\u001b[0m \u001b[0mmodel2\u001b[0m \u001b[0;34m=\u001b[0m \u001b[0mRandomForestClassifier\u001b[0m\u001b[0;34m(\u001b[0m\u001b[0;34m)\u001b[0m\u001b[0;34m\u001b[0m\u001b[0m\n\u001b[1;32m      3\u001b[0m \u001b[0;31m#run = tes_oml.runs.run_model_on_task(task, model2)\u001b[0m\u001b[0;34m\u001b[0m\u001b[0;34m\u001b[0m\u001b[0m\n\u001b[0;32m----> 4\u001b[0;31m \u001b[0mpprint\u001b[0m\u001b[0;34m(\u001b[0m\u001b[0mvars\u001b[0m\u001b[0;34m(\u001b[0m\u001b[0mrun\u001b[0m\u001b[0;34m)\u001b[0m\u001b[0;34m,\u001b[0m \u001b[0mdepth\u001b[0m\u001b[0;34m=\u001b[0m\u001b[0;36m2\u001b[0m\u001b[0;34m)\u001b[0m\u001b[0;34m\u001b[0m\u001b[0m\n\u001b[0m",
      "\u001b[0;31mNameError\u001b[0m: name 'pprint' is not defined"
     ]
    }
   ],
   "source": [
    "from sklearn.ensemble import RandomForestClassifier\n",
    "model2 = RandomForestClassifier()\n",
    "#run = tes_oml.runs.run_model_on_task(task, model2)\n",
    "pprint(vars(run), depth=2)                         "
   ]
  },
  {
   "cell_type": "code",
   "execution_count": 5,
   "metadata": {
    "collapsed": false
   },
   "outputs": [
    {
     "name": "stdout",
     "output_type": "stream",
     "text": [
      "=================dsdsdsds\n",
      "{'bootstrap': True, 'class_weight': None, 'criterion': 'gini', 'max_depth': None, 'max_features': 'auto', 'max_leaf_nodes': None, 'min_impurity_split': 1e-07, 'min_samples_leaf': 1, 'min_samples_split': 2, 'min_weight_fraction_leaf': 0.0, 'n_estimators': 10, 'n_jobs': 1, 'oob_score': False, 'random_state': 59711, 'verbose': 0, 'warm_start': False}\n",
      "=================dsdsdsds\n"
     ]
    }
   ],
   "source": [
    "run = tes_oml.runs.run_model_on_task(task, model2)"
   ]
  },
  {
   "cell_type": "code",
   "execution_count": 8,
   "metadata": {
    "collapsed": false
   },
   "outputs": [
    {
     "name": "stdout",
     "output_type": "stream",
     "text": [
      "=================dsdsdsds\n",
      "{'bootstrap': True, 'class_weight': None, 'criterion': 'gini', 'max_depth': None, 'max_features': 'auto', 'max_leaf_nodes': None, 'min_impurity_split': 1e-07, 'min_samples_leaf': 1, 'min_samples_split': 2, 'min_weight_fraction_leaf': 0.0, 'n_estimators': 10, 'n_jobs': 1, 'oob_score': False, 'random_state': 59711, 'verbose': 0, 'warm_start': False}\n",
      "=================dsdsdsds\n"
     ]
    },
    {
     "data": {
      "text/plain": [
       "(OrderedDict([('bootstrap', 'true'),\n",
       "              ('class_weight', 'null'),\n",
       "              ('criterion', '\"gini\"'),\n",
       "              ('max_depth', 'null'),\n",
       "              ('max_features', '\"auto\"'),\n",
       "              ('max_leaf_nodes', 'null'),\n",
       "              ('min_impurity_split', '1e-07'),\n",
       "              ('min_samples_leaf', '1'),\n",
       "              ('min_samples_split', '2'),\n",
       "              ('min_weight_fraction_leaf', '0.0'),\n",
       "              ('n_estimators', '10'),\n",
       "              ('n_jobs', '1'),\n",
       "              ('oob_score', 'false'),\n",
       "              ('random_state', '59711'),\n",
       "              ('verbose', '0'),\n",
       "              ('warm_start', 'false')]),\n",
       " OrderedDict([('bootstrap',\n",
       "               OrderedDict([('description', None), ('data_type', None)])),\n",
       "              ('class_weight',\n",
       "               OrderedDict([('description', None), ('data_type', None)])),\n",
       "              ('criterion',\n",
       "               OrderedDict([('description', None), ('data_type', None)])),\n",
       "              ('max_depth',\n",
       "               OrderedDict([('description', None), ('data_type', None)])),\n",
       "              ('max_features',\n",
       "               OrderedDict([('description', None), ('data_type', None)])),\n",
       "              ('max_leaf_nodes',\n",
       "               OrderedDict([('description', None), ('data_type', None)])),\n",
       "              ('min_impurity_split',\n",
       "               OrderedDict([('description', None), ('data_type', None)])),\n",
       "              ('min_samples_leaf',\n",
       "               OrderedDict([('description', None), ('data_type', None)])),\n",
       "              ('min_samples_split',\n",
       "               OrderedDict([('description', None), ('data_type', None)])),\n",
       "              ('min_weight_fraction_leaf',\n",
       "               OrderedDict([('description', None), ('data_type', None)])),\n",
       "              ('n_estimators',\n",
       "               OrderedDict([('description', None), ('data_type', None)])),\n",
       "              ('n_jobs',\n",
       "               OrderedDict([('description', None), ('data_type', None)])),\n",
       "              ('oob_score',\n",
       "               OrderedDict([('description', None), ('data_type', None)])),\n",
       "              ('random_state',\n",
       "               OrderedDict([('description', None), ('data_type', None)])),\n",
       "              ('verbose',\n",
       "               OrderedDict([('description', None), ('data_type', None)])),\n",
       "              ('warm_start',\n",
       "               OrderedDict([('description', None), ('data_type', None)]))]),\n",
       " OrderedDict(),\n",
       " set())"
      ]
     },
     "execution_count": 8,
     "metadata": {},
     "output_type": "execute_result"
    }
   ],
   "source": [
    "tes_oml.flows.sklearn_converter._extract_information_from_model(model2)"
   ]
  },
  {
   "cell_type": "code",
   "execution_count": 9,
   "metadata": {
    "collapsed": false
   },
   "outputs": [
    {
     "ename": "AttributeError",
     "evalue": "'Sequential' object has no attribute 'get_params'",
     "output_type": "error",
     "traceback": [
      "\u001b[0;31m---------------------------------------------------------------------------\u001b[0m",
      "\u001b[0;31mAttributeError\u001b[0m                            Traceback (most recent call last)",
      "\u001b[0;32m<ipython-input-9-b0b502f1fb31>\u001b[0m in \u001b[0;36m<module>\u001b[0;34m()\u001b[0m\n\u001b[0;32m----> 1\u001b[0;31m \u001b[0mtes_oml\u001b[0m\u001b[0;34m.\u001b[0m\u001b[0mflows\u001b[0m\u001b[0;34m.\u001b[0m\u001b[0msklearn_converter\u001b[0m\u001b[0;34m.\u001b[0m\u001b[0m_extract_information_from_model\u001b[0m\u001b[0;34m(\u001b[0m\u001b[0mmodel\u001b[0m\u001b[0;34m)\u001b[0m\u001b[0;34m\u001b[0m\u001b[0m\n\u001b[0m",
      "\u001b[0;32m/home/irfan/irfan/OpenMLKeras/openml-python/openml/flows/sklearn_converter.py\u001b[0m in \u001b[0;36m_extract_information_from_model\u001b[0;34m(model)\u001b[0m\n\u001b[1;32m    359\u001b[0m     \u001b[0mparameters_meta_info\u001b[0m \u001b[0;34m=\u001b[0m \u001b[0mOrderedDict\u001b[0m\u001b[0;34m(\u001b[0m\u001b[0;34m)\u001b[0m\u001b[0;34m\u001b[0m\u001b[0m\n\u001b[1;32m    360\u001b[0m \u001b[0;34m\u001b[0m\u001b[0m\n\u001b[0;32m--> 361\u001b[0;31m     \u001b[0mmodel_parameters\u001b[0m \u001b[0;34m=\u001b[0m \u001b[0mmodel\u001b[0m\u001b[0;34m.\u001b[0m\u001b[0mget_params\u001b[0m\u001b[0;34m(\u001b[0m\u001b[0mdeep\u001b[0m\u001b[0;34m=\u001b[0m\u001b[0;32mFalse\u001b[0m\u001b[0;34m)\u001b[0m\u001b[0;34m\u001b[0m\u001b[0m\n\u001b[0m\u001b[1;32m    362\u001b[0m     \u001b[0mprint\u001b[0m\u001b[0;34m(\u001b[0m\u001b[0;34m\"=================dsdsdsds\"\u001b[0m\u001b[0;34m)\u001b[0m\u001b[0;34m\u001b[0m\u001b[0m\n\u001b[1;32m    363\u001b[0m     \u001b[0mprint\u001b[0m\u001b[0;34m(\u001b[0m\u001b[0mmodel_parameters\u001b[0m\u001b[0;34m)\u001b[0m\u001b[0;34m\u001b[0m\u001b[0m\n",
      "\u001b[0;31mAttributeError\u001b[0m: 'Sequential' object has no attribute 'get_params'"
     ]
    }
   ],
   "source": [
    "tes_oml.flows.sklearn_converter._extract_information_from_model(model)"
   ]
  },
  {
   "cell_type": "code",
   "execution_count": 10,
   "metadata": {
    "collapsed": true
   },
   "outputs": [
    {
     "data": {
      "text/plain": [
       "[{'class_name': 'Reshape',\n",
       "  'config': {'batch_input_shape': (None, 784),\n",
       "   'dtype': 'float32',\n",
       "   'name': 'reshape_1',\n",
       "   'target_shape': (28, 28, 1),\n",
       "   'trainable': True}},\n",
       " {'class_name': 'Conv2D',\n",
       "  'config': {'activation': 'relu',\n",
       "   'activity_regularizer': None,\n",
       "   'batch_input_shape': (None, 28, 28, 1),\n",
       "   'bias_constraint': None,\n",
       "   'bias_initializer': {'class_name': 'Zeros', 'config': {}},\n",
       "   'bias_regularizer': None,\n",
       "   'data_format': 'channels_last',\n",
       "   'dilation_rate': (1, 1),\n",
       "   'dtype': 'float32',\n",
       "   'filters': 20,\n",
       "   'kernel_constraint': None,\n",
       "   'kernel_initializer': {'class_name': 'VarianceScaling',\n",
       "    'config': {'distribution': 'uniform',\n",
       "     'mode': 'fan_avg',\n",
       "     'scale': 1.0,\n",
       "     'seed': None}},\n",
       "   'kernel_regularizer': None,\n",
       "   'kernel_size': (5, 5),\n",
       "   'name': 'conv2d_1',\n",
       "   'padding': 'same',\n",
       "   'strides': (1, 1),\n",
       "   'trainable': True,\n",
       "   'use_bias': True}},\n",
       " {'class_name': 'MaxPooling2D',\n",
       "  'config': {'data_format': 'channels_last',\n",
       "   'name': 'max_pooling2d_1',\n",
       "   'padding': 'valid',\n",
       "   'pool_size': (2, 2),\n",
       "   'strides': (2, 2),\n",
       "   'trainable': True}},\n",
       " {'class_name': 'Conv2D',\n",
       "  'config': {'activation': 'relu',\n",
       "   'activity_regularizer': None,\n",
       "   'bias_constraint': None,\n",
       "   'bias_initializer': {'class_name': 'Zeros', 'config': {}},\n",
       "   'bias_regularizer': None,\n",
       "   'data_format': 'channels_last',\n",
       "   'dilation_rate': (1, 1),\n",
       "   'filters': 50,\n",
       "   'kernel_constraint': None,\n",
       "   'kernel_initializer': {'class_name': 'VarianceScaling',\n",
       "    'config': {'distribution': 'uniform',\n",
       "     'mode': 'fan_avg',\n",
       "     'scale': 1.0,\n",
       "     'seed': None}},\n",
       "   'kernel_regularizer': None,\n",
       "   'kernel_size': (5, 5),\n",
       "   'name': 'conv2d_2',\n",
       "   'padding': 'same',\n",
       "   'strides': (1, 1),\n",
       "   'trainable': True,\n",
       "   'use_bias': True}},\n",
       " {'class_name': 'MaxPooling2D',\n",
       "  'config': {'data_format': 'channels_last',\n",
       "   'name': 'max_pooling2d_2',\n",
       "   'padding': 'valid',\n",
       "   'pool_size': (2, 2),\n",
       "   'strides': (2, 2),\n",
       "   'trainable': True}},\n",
       " {'class_name': 'Flatten', 'config': {'name': 'flatten_1', 'trainable': True}},\n",
       " {'class_name': 'Dense',\n",
       "  'config': {'activation': 'linear',\n",
       "   'activity_regularizer': None,\n",
       "   'bias_constraint': None,\n",
       "   'bias_initializer': {'class_name': 'Zeros', 'config': {}},\n",
       "   'bias_regularizer': None,\n",
       "   'kernel_constraint': None,\n",
       "   'kernel_initializer': {'class_name': 'VarianceScaling',\n",
       "    'config': {'distribution': 'uniform',\n",
       "     'mode': 'fan_avg',\n",
       "     'scale': 1.0,\n",
       "     'seed': None}},\n",
       "   'kernel_regularizer': None,\n",
       "   'name': 'dense_1',\n",
       "   'trainable': True,\n",
       "   'units': 500,\n",
       "   'use_bias': True}},\n",
       " {'class_name': 'Activation',\n",
       "  'config': {'activation': 'relu', 'name': 'activation_1', 'trainable': True}},\n",
       " {'class_name': 'Dense',\n",
       "  'config': {'activation': 'linear',\n",
       "   'activity_regularizer': None,\n",
       "   'bias_constraint': None,\n",
       "   'bias_initializer': {'class_name': 'Zeros', 'config': {}},\n",
       "   'bias_regularizer': None,\n",
       "   'kernel_constraint': None,\n",
       "   'kernel_initializer': {'class_name': 'VarianceScaling',\n",
       "    'config': {'distribution': 'uniform',\n",
       "     'mode': 'fan_avg',\n",
       "     'scale': 1.0,\n",
       "     'seed': None}},\n",
       "   'kernel_regularizer': None,\n",
       "   'name': 'dense_2',\n",
       "   'trainable': True,\n",
       "   'units': 10,\n",
       "   'use_bias': True}},\n",
       " {'class_name': 'Activation',\n",
       "  'config': {'activation': 'softmax',\n",
       "   'name': 'activation_2',\n",
       "   'trainable': True}}]"
      ]
     },
     "execution_count": 10,
     "metadata": {},
     "output_type": "execute_result"
    }
   ],
   "source": [
    "model.get_config()"
   ]
  },
  {
   "cell_type": "code",
   "execution_count": 12,
   "metadata": {
    "collapsed": false
   },
   "outputs": [
    {
     "data": {
      "text/plain": [
       "[array([[[[-0.04546492,  0.04196256,  0.04731012, -0.07161558,  0.02702463,\n",
       "           -0.07066964, -0.04422212,  0.01535291, -0.06754534, -0.01247608,\n",
       "            0.02873721, -0.00927876,  0.09778557, -0.0637673 ,  0.05582332,\n",
       "           -0.02999369, -0.10091609,  0.09661942, -0.09564576,  0.05022899]],\n",
       " \n",
       "         [[-0.05294019,  0.05771635, -0.10388213,  0.08695497, -0.10143067,\n",
       "            0.01322915, -0.03408248,  0.06235642,  0.09255358,  0.02700324,\n",
       "           -0.04817062,  0.09351165, -0.09628619, -0.06676298, -0.06338707,\n",
       "           -0.03843935,  0.03909533, -0.00953914,  0.06376301,  0.07978942]],\n",
       " \n",
       "         [[-0.066965  ,  0.04361603, -0.08075052, -0.10060269,  0.09836311,\n",
       "            0.04969246,  0.01101189, -0.06684376, -0.01623186,  0.10433515,\n",
       "            0.05623146, -0.01557285,  0.07267491,  0.05947415,  0.06731213,\n",
       "            0.06915251, -0.01663493, -0.04001129, -0.0919374 ,  0.00107029]],\n",
       " \n",
       "         [[ 0.04275129, -0.09571794,  0.10231324, -0.08718549,  0.05468214,\n",
       "            0.04267051, -0.03596842,  0.08132521,  0.10023987,  0.02495591,\n",
       "            0.04134002,  0.07640543,  0.05748195,  0.08762478,  0.0781989 ,\n",
       "           -0.0630677 ,  0.03650147,  0.09555563, -0.04249589,  0.01375777]],\n",
       " \n",
       "         [[-0.09051165, -0.02500767, -0.02635558, -0.0453556 ,  0.05416744,\n",
       "           -0.05052827, -0.07460606,  0.04706614,  0.10293109,  0.0462653 ,\n",
       "            0.01991149,  0.034341  , -0.09347774, -0.05996561, -0.09062634,\n",
       "           -0.00073981,  0.09113733,  0.00243308, -0.08376081,  0.02411055]]],\n",
       " \n",
       " \n",
       "        [[[ 0.00902276,  0.06035612,  0.00911321,  0.0799138 ,  0.02689896,\n",
       "           -0.05983376, -0.06718568,  0.02588909,  0.10136508, -0.01216117,\n",
       "            0.06387756,  0.00319956,  0.01583438, -0.10273346, -0.04861287,\n",
       "           -0.02478096,  0.0042268 ,  0.0027364 ,  0.10095865,  0.03187443]],\n",
       " \n",
       "         [[ 0.0401945 , -0.09396803, -0.03110594, -0.01416374,  0.05201735,\n",
       "            0.00198399, -0.07748503, -0.08269358, -0.03581391, -0.03836869,\n",
       "            0.07733027,  0.05921397, -0.08231559, -0.05487119, -0.07957643,\n",
       "            0.09505818,  0.05742621,  0.05592491,  0.04561252,  0.02497733]],\n",
       " \n",
       "         [[ 0.05868278,  0.06128778,  0.01478787, -0.08890744, -0.03720479,\n",
       "           -0.09575324,  0.09600481,  0.03685606,  0.09876484,  0.02559691,\n",
       "           -0.00229879, -0.01799105, -0.01156621, -0.0997494 , -0.05983322,\n",
       "            0.06373567,  0.08749848,  0.04018901,  0.01035927, -0.03100602]],\n",
       " \n",
       "         [[ 0.08203214, -0.06939442,  0.08788263, -0.07953691, -0.05871731,\n",
       "           -0.08362504,  0.0246185 , -0.06154513, -0.07202259,  0.07756758,\n",
       "            0.0160469 ,  0.08728775,  0.05543285,  0.01507058, -0.05659732,\n",
       "           -0.06030116,  0.10225535,  0.06270001, -0.04359438,  0.05590677]],\n",
       " \n",
       "         [[-0.04641949,  0.02639861,  0.07640442,  0.01458251, -0.0807347 ,\n",
       "           -0.05706586, -0.03818811,  0.10531468,  0.06932388, -0.0744905 ,\n",
       "            0.03454197,  0.05249161, -0.01321727,  0.05118158,  0.03219422,\n",
       "           -0.00272772,  0.07477275,  0.03559231, -0.06164242,  0.07137848]]],\n",
       " \n",
       " \n",
       "        [[[ 0.10111337, -0.0070364 , -0.07008082, -0.1044146 , -0.02648817,\n",
       "           -0.02847361, -0.05672315,  0.08335236, -0.07129557,  0.09008612,\n",
       "            0.10325224,  0.07823303, -0.0020407 , -0.03015676,  0.08157938,\n",
       "           -0.07539955, -0.06304204, -0.0544068 ,  0.03967615, -0.06827616]],\n",
       " \n",
       "         [[ 0.08669312,  0.0470693 ,  0.05158471, -0.03148846,  0.04811615,\n",
       "           -0.07343603, -0.03262191,  0.06661589, -0.07735316,  0.10271498,\n",
       "           -0.10437178,  0.04473326,  0.01115149, -0.01283233, -0.10637055,\n",
       "            0.02901611,  0.0980038 ,  0.09999954, -0.02466511, -0.09029679]],\n",
       " \n",
       "         [[ 0.0493403 ,  0.06545608,  0.09212507, -0.0122918 , -0.0383715 ,\n",
       "           -0.08503529, -0.08849384, -0.01219033,  0.05946439, -0.01262175,\n",
       "            0.07290068,  0.03435283,  0.05254523,  0.07573443, -0.04076286,\n",
       "           -0.03771684,  0.01914176, -0.07124243,  0.04826213,  0.07163943]],\n",
       " \n",
       "         [[ 0.09482615,  0.06894501, -0.10146398,  0.04504331,  0.03630468,\n",
       "           -0.04798637,  0.02684469,  0.07592017,  0.06543794, -0.07224803,\n",
       "            0.08250653, -0.03339723, -0.04275592,  0.02237182, -0.00603592,\n",
       "            0.00370703,  0.06782026,  0.08461321, -0.06788543, -0.00344236]],\n",
       " \n",
       "         [[-0.02039029,  0.03679433, -0.00908758, -0.09712536, -0.08173582,\n",
       "           -0.10483813, -0.10136315,  0.0598033 ,  0.01406913,  0.09888922,\n",
       "           -0.07596704,  0.0302529 , -0.10625391, -0.07121222, -0.08039403,\n",
       "           -0.01277149,  0.02312576,  0.02530817,  0.02887071, -0.02297452]]],\n",
       " \n",
       " \n",
       "        [[[ 0.09444866,  0.06321656, -0.03393678,  0.02523016, -0.01098095,\n",
       "            0.07653596,  0.00108283, -0.08782448,  0.0879825 ,  0.09177805,\n",
       "            0.01902566,  0.05809505, -0.02756336,  0.00065007, -0.01776617,\n",
       "           -0.01935476,  0.04605762, -0.0807135 ,  0.06690108, -0.04878205]],\n",
       " \n",
       "         [[-0.09315799,  0.02205702,  0.04634649, -0.071574  ,  0.07051791,\n",
       "            0.08505615, -0.00581777, -0.03659763,  0.10533143,  0.01779089,\n",
       "            0.07087181, -0.06778006,  0.08213348, -0.02415183,  0.04673777,\n",
       "            0.01117048,  0.03611547, -0.09166452,  0.00069983,  0.08917452]],\n",
       " \n",
       "         [[ 0.01163128,  0.1017771 ,  0.04077313, -0.07158611, -0.06524935,\n",
       "            0.08419194,  0.07269073, -0.02711999, -0.0715634 ,  0.09598874,\n",
       "           -0.08798235,  0.07619185, -0.1053035 , -0.00361754, -0.07417467,\n",
       "            0.0425983 ,  0.0394421 , -0.03460297, -0.08784798,  0.02096822]],\n",
       " \n",
       "         [[-0.07132687, -0.07006127, -0.05127425,  0.06404849, -0.01551354,\n",
       "            0.07939864, -0.0526572 ,  0.0684367 ,  0.0127627 , -0.03095821,\n",
       "           -0.08249116, -0.01375005,  0.10277037, -0.07793041,  0.03737173,\n",
       "            0.02345311,  0.0984566 ,  0.09225827, -0.09851642, -0.06485049]],\n",
       " \n",
       "         [[ 0.01517967, -0.02755043,  0.09199635, -0.02657872, -0.03967068,\n",
       "            0.10616314,  0.05814294, -0.04755108,  0.02999835,  0.02784645,\n",
       "            0.00276688, -0.05812036, -0.08445998,  0.10298536, -0.0805321 ,\n",
       "            0.06861974,  0.04184138, -0.05911245, -0.04168397, -0.08499818]]],\n",
       " \n",
       " \n",
       "        [[[-0.09682126,  0.0295201 ,  0.06011415,  0.0604556 , -0.04245415,\n",
       "           -0.08557174,  0.03946251,  0.07864175, -0.04906828,  0.01285761,\n",
       "           -0.01810126, -0.01300873,  0.05074968,  0.02224015,  0.09691279,\n",
       "            0.0094048 ,  0.05835306, -0.0727675 , -0.00825968,  0.00985663]],\n",
       " \n",
       "         [[ 0.06311152, -0.00790952, -0.0407972 ,  0.0100261 ,  0.03390653,\n",
       "           -0.07526693, -0.08748972,  0.1061068 ,  0.04274879, -0.03122418,\n",
       "            0.03749035,  0.02359302,  0.08579148, -0.08347806, -0.02178705,\n",
       "           -0.02328409,  0.1016076 ,  0.0755926 ,  0.0659594 , -0.03149784]],\n",
       " \n",
       "         [[-0.05975635,  0.01301041,  0.02425282,  0.0005879 , -0.04544098,\n",
       "            0.05341511,  0.0450361 , -0.04425933,  0.05939468, -0.08040896,\n",
       "           -0.02743752, -0.10082334,  0.05143917,  0.09913693, -0.09531744,\n",
       "           -0.02656096,  0.02247269, -0.0243196 , -0.02767041, -0.01291241]],\n",
       " \n",
       "         [[-0.02866867,  0.07886515,  0.01735339, -0.06161102, -0.00999489,\n",
       "           -0.04893103, -0.00102419, -0.04360157, -0.07959781, -0.02442456,\n",
       "           -0.09733862,  0.07356424,  0.0197094 , -0.09955656,  0.02220728,\n",
       "            0.04119592, -0.06722679,  0.00057934,  0.02738517,  0.02222066]],\n",
       " \n",
       "         [[-0.06660855,  0.07127062,  0.01290785,  0.07998816, -0.09383328,\n",
       "           -0.06822643, -0.09916539, -0.04163004, -0.05200318,  0.08907922,\n",
       "            0.0284654 , -0.09504077, -0.06301811,  0.05994881, -0.03680877,\n",
       "           -0.1060978 ,  0.07479808, -0.09067704,  0.02372953, -0.05103058]]]], dtype=float32),\n",
       " array([ 0.,  0.,  0.,  0.,  0.,  0.,  0.,  0.,  0.,  0.,  0.,  0.,  0.,\n",
       "         0.,  0.,  0.,  0.,  0.,  0.,  0.], dtype=float32),\n",
       " array([[[[  9.81999561e-03,  -5.79045266e-02,   1.15722157e-02, ...,\n",
       "             2.18764208e-02,   4.65719812e-02,   2.91884691e-03],\n",
       "          [  3.97859998e-02,   5.16181327e-02,  -5.29969856e-02, ...,\n",
       "            -2.53488757e-02,   5.44981174e-02,   2.47225054e-02],\n",
       "          [  4.82673682e-02,   4.22359630e-03,  -5.00910357e-03, ...,\n",
       "            -2.97075137e-03,   4.67989333e-02,  -6.50234520e-03],\n",
       "          ..., \n",
       "          [  3.26140039e-02,  -3.82765085e-02,   1.65240727e-02, ...,\n",
       "            -1.91647299e-02,   5.12585416e-03,   2.90997066e-02],\n",
       "          [  4.28305753e-02,  -3.80453952e-02,   5.05245067e-02, ...,\n",
       "            -4.55236398e-02,   3.43606248e-03,   3.32588702e-03],\n",
       "          [  1.10899471e-02,   1.43884011e-02,   1.31351389e-02, ...,\n",
       "            -3.41270268e-02,  -6.14058971e-03,  -2.96561383e-02]],\n",
       " \n",
       "         [[  4.90290485e-02,  -2.65521333e-02,  -5.75674400e-02, ...,\n",
       "            -5.81013411e-03,  -1.11451298e-02,  -1.15247965e-02],\n",
       "          [  4.66634743e-02,  -2.27263831e-02,   5.71614131e-03, ...,\n",
       "             3.77889834e-02,   2.73008160e-02,   1.23941787e-02],\n",
       "          [ -2.80702971e-02,   7.65925273e-03,  -5.90581819e-03, ...,\n",
       "             4.28729169e-02,  -1.32066831e-02,   3.49029340e-02],\n",
       "          ..., \n",
       "          [  3.37072648e-02,  -2.49542445e-02,  -5.36138788e-02, ...,\n",
       "             1.17591359e-02,  -6.77568838e-03,  -5.58366328e-02],\n",
       "          [ -2.98833996e-02,   4.38518561e-02,  -2.05777287e-02, ...,\n",
       "            -1.58839747e-02,  -2.30105743e-02,  -3.94904613e-02],\n",
       "          [ -4.46715541e-02,   1.99526958e-02,  -3.68287489e-02, ...,\n",
       "             3.38961966e-02,   2.04318874e-02,   2.58228593e-02]],\n",
       " \n",
       "         [[ -4.12145630e-02,  -8.58142972e-04,   2.61844583e-02, ...,\n",
       "             3.95009406e-02,  -3.40719968e-02,   1.97474323e-02],\n",
       "          [  4.04204018e-02,  -3.48104537e-03,   2.77836509e-02, ...,\n",
       "             4.04479615e-02,   1.39611959e-03,  -2.51392052e-02],\n",
       "          [  4.03927751e-02,   4.21476923e-02,  -2.79453509e-02, ...,\n",
       "            -4.47545648e-02,  -8.47142562e-03,  -3.71173769e-02],\n",
       "          ..., \n",
       "          [ -3.57486755e-02,  -2.44986266e-03,   5.50540574e-02, ...,\n",
       "            -1.93371698e-02,  -3.09366249e-02,   4.76464666e-02],\n",
       "          [ -5.20136729e-02,  -2.09955052e-02,   5.55030666e-02, ...,\n",
       "            -1.96769834e-04,   4.60207276e-02,   4.99009229e-02],\n",
       "          [ -3.88125442e-02,   3.27661969e-02,  -3.17559466e-02, ...,\n",
       "             8.18195567e-03,  -3.61794382e-02,   3.43489833e-02]],\n",
       " \n",
       "         [[  4.21262570e-02,   5.34982197e-02,   8.55971500e-03, ...,\n",
       "             4.57895137e-02,  -5.00923209e-02,  -3.70942466e-02],\n",
       "          [  9.51920822e-03,  -2.56674252e-02,   1.25212334e-02, ...,\n",
       "            -1.94444135e-03,   2.09427662e-02,  -4.69358861e-02],\n",
       "          [  5.51859252e-02,  -3.53402272e-02,  -2.64730640e-02, ...,\n",
       "            -3.01587954e-02,  -4.71965112e-02,  -1.19212270e-02],\n",
       "          ..., \n",
       "          [  2.57155038e-02,   3.58731933e-02,   5.62648848e-03, ...,\n",
       "            -3.27207297e-02,  -3.71081084e-02,   1.01722293e-02],\n",
       "          [ -1.65338442e-02,   2.57318132e-02,   5.11014350e-02, ...,\n",
       "             2.40374245e-02,   4.37848456e-02,   1.34623013e-02],\n",
       "          [  3.57368588e-03,  -3.54381576e-02,   5.04046120e-02, ...,\n",
       "             5.83447404e-02,   5.71996011e-02,  -1.47005692e-02]],\n",
       " \n",
       "         [[ -3.43671888e-02,   2.85516195e-02,  -2.61264555e-02, ...,\n",
       "             4.34177853e-02,   8.94839689e-03,  -2.50318646e-02],\n",
       "          [ -3.77740897e-02,  -1.53390057e-02,   4.79789190e-02, ...,\n",
       "             5.25247194e-02,  -3.88514511e-02,   2.44499035e-02],\n",
       "          [ -2.87952311e-02,  -2.32769363e-02,   1.92171335e-03, ...,\n",
       "             7.34521821e-03,  -4.24879193e-02,  -1.17892064e-02],\n",
       "          ..., \n",
       "          [ -3.20409983e-03,   3.35661285e-02,   2.37259604e-02, ...,\n",
       "             2.83079334e-02,  -2.80065536e-02,  -1.72365531e-02],\n",
       "          [ -4.48408127e-02,   4.42769788e-02,   5.51556461e-02, ...,\n",
       "            -5.80944717e-02,  -3.65949422e-02,   2.05788203e-02],\n",
       "          [ -5.81597239e-02,   3.10637318e-02,   2.94895656e-02, ...,\n",
       "             3.40091176e-02,   2.27583386e-02,   4.19767164e-02]]],\n",
       " \n",
       " \n",
       "        [[[  1.82432644e-02,  -4.81123663e-02,  -1.34995207e-03, ...,\n",
       "            -7.29475170e-03,  -2.03809291e-02,   2.42565759e-02],\n",
       "          [ -1.03424937e-02,   3.14066969e-02,  -3.82692777e-02, ...,\n",
       "             3.64028774e-02,  -5.31318001e-02,   2.44927965e-02],\n",
       "          [  3.90165336e-02,  -2.15239823e-04,   8.14838335e-03, ...,\n",
       "            -1.60055123e-02,  -1.09941624e-02,  -5.16573191e-02],\n",
       "          ..., \n",
       "          [  1.76234506e-02,   2.09983103e-02,   1.58635341e-02, ...,\n",
       "            -2.20805332e-02,   5.43906353e-02,   4.89821099e-02],\n",
       "          [  4.11934964e-02,  -1.51399523e-04,   3.36066000e-02, ...,\n",
       "            -4.05498222e-03,  -3.01211011e-02,   3.54994722e-02],\n",
       "          [  1.20202936e-02,   3.44405361e-02,   3.62087041e-03, ...,\n",
       "            -3.57942581e-02,   2.15547048e-02,   2.31495611e-02]],\n",
       " \n",
       "         [[ -4.10957336e-02,  -8.74391943e-03,  -2.59350576e-02, ...,\n",
       "             6.34958968e-03,  -5.40584624e-02,  -3.68727371e-02],\n",
       "          [  4.10114266e-02,  -4.79398444e-02,  -7.10917637e-03, ...,\n",
       "             4.21838723e-02,   5.87892160e-03,  -5.49263768e-02],\n",
       "          [  2.72781439e-02,  -2.65965723e-02,   5.56729622e-02, ...,\n",
       "            -1.69325247e-02,   2.03347765e-02,   4.37260233e-02],\n",
       "          ..., \n",
       "          [  3.84405814e-02,  -5.61655834e-02,   3.58961262e-02, ...,\n",
       "             2.15473734e-02,   3.40391584e-02,   9.96854156e-04],\n",
       "          [ -3.67653556e-02,  -1.22723021e-02,  -2.21751705e-02, ...,\n",
       "            -1.24933384e-02,   3.95784341e-02,   1.67235769e-02],\n",
       "          [  3.02455164e-02,  -1.92640983e-02,   3.37060280e-02, ...,\n",
       "            -4.34372649e-02,  -4.39145677e-02,   9.77485254e-03]],\n",
       " \n",
       "         [[ -2.03567073e-02,   4.56522591e-02,  -3.89256515e-02, ...,\n",
       "            -5.82819171e-02,   5.66986836e-02,   1.44986995e-02],\n",
       "          [ -2.48840526e-02,   1.54393502e-02,   4.48345952e-02, ...,\n",
       "             5.78599237e-02,   1.38983391e-02,   4.48057167e-02],\n",
       "          [ -2.61334628e-02,   5.05843945e-02,   9.33109596e-03, ...,\n",
       "             1.28068589e-02,  -8.03781673e-03,   3.59366573e-02],\n",
       "          ..., \n",
       "          [  1.43009536e-02,  -5.85190579e-03,   3.48394550e-02, ...,\n",
       "            -2.02853568e-02,   9.21953842e-03,  -3.70334238e-02],\n",
       "          [  7.24198297e-03,  -3.83683108e-02,  -4.85252850e-02, ...,\n",
       "             4.54672836e-02,  -5.56241572e-02,  -1.41643099e-02],\n",
       "          [  3.72206010e-02,  -6.76072389e-03,   3.55929136e-03, ...,\n",
       "             5.17822690e-02,  -4.05353904e-02,   5.51703088e-02]],\n",
       " \n",
       "         [[ -5.79969287e-02,   6.58812001e-03,  -5.83818592e-02, ...,\n",
       "             1.12904124e-02,   4.60426696e-02,   3.92982252e-02],\n",
       "          [ -4.27393839e-02,  -4.45215218e-02,   7.21732900e-03, ...,\n",
       "            -5.46046756e-02,  -2.49677449e-02,  -1.28334127e-02],\n",
       "          [  5.08890785e-02,   3.35834511e-02,   1.75820179e-02, ...,\n",
       "            -3.12598348e-02,  -5.50718568e-02,  -3.38380784e-02],\n",
       "          ..., \n",
       "          [  5.46053462e-02,  -3.29688787e-02,  -5.56111895e-02, ...,\n",
       "            -1.62553340e-02,  -2.68004090e-03,   5.25544696e-02],\n",
       "          [ -1.15430988e-02,  -5.41096814e-02,  -5.78058288e-02, ...,\n",
       "             3.45811993e-03,   6.24433160e-04,  -1.69630125e-02],\n",
       "          [  1.60521828e-02,   4.27159481e-02,   2.22004540e-02, ...,\n",
       "             4.18170802e-02,  -1.58105306e-02,  -2.20727436e-02]],\n",
       " \n",
       "         [[  2.85055377e-02,   5.18189706e-02,   1.54210888e-02, ...,\n",
       "             1.14444681e-02,   1.52750649e-02,  -3.00438330e-03],\n",
       "          [ -3.44294533e-02,  -3.03944945e-03,  -2.61800513e-02, ...,\n",
       "            -2.79789958e-02,  -2.49157585e-02,  -1.42321140e-02],\n",
       "          [ -3.61213498e-02,  -3.84990349e-02,  -3.09458934e-02, ...,\n",
       "             2.85817347e-02,   5.14627621e-03,   3.07166539e-02],\n",
       "          ..., \n",
       "          [ -4.51659486e-02,   4.16784249e-02,  -5.45908958e-02, ...,\n",
       "            -5.83007075e-02,  -7.96448439e-03,   3.37356515e-02],\n",
       "          [  2.15478651e-02,  -2.61573792e-02,   2.40734182e-02, ...,\n",
       "            -5.03242612e-02,   4.25653420e-02,   2.44217031e-02],\n",
       "          [ -2.27000117e-02,   2.17038803e-02,   4.26287614e-02, ...,\n",
       "            -4.09800708e-02,  -4.91077825e-02,  -9.02358815e-03]]],\n",
       " \n",
       " \n",
       "        [[[  4.76291291e-02,   4.84695695e-02,   2.06300952e-02, ...,\n",
       "             2.61929221e-02,  -4.70943488e-02,   1.83614679e-02],\n",
       "          [  4.07176428e-02,   5.25426976e-02,  -4.62815464e-02, ...,\n",
       "            -5.22526167e-02,  -2.95731165e-02,  -1.48081183e-02],\n",
       "          [  1.90598853e-02,  -2.73462143e-02,   1.54880174e-02, ...,\n",
       "             5.24702780e-02,  -5.03134951e-02,   8.23370740e-03],\n",
       "          ..., \n",
       "          [ -3.09818275e-02,   1.03731789e-02,   5.93258068e-03, ...,\n",
       "             5.68145551e-02,  -3.34218740e-02,  -1.97430924e-02],\n",
       "          [  5.63789792e-02,  -6.03754818e-03,   1.91134699e-02, ...,\n",
       "             2.26694383e-02,  -1.09574050e-02,   1.54403038e-02],\n",
       "          [  2.16328241e-02,  -2.71625370e-02,   2.59990506e-02, ...,\n",
       "            -1.64393596e-02,   1.33217163e-02,  -1.97123960e-02]],\n",
       " \n",
       "         [[ -3.59728783e-02,   3.29124890e-02,   2.87301503e-02, ...,\n",
       "            -4.94429842e-02,   2.27294527e-02,  -1.90313123e-02],\n",
       "          [  3.11841033e-02,  -1.28867812e-02,   3.56202014e-02, ...,\n",
       "            -3.11024450e-02,   5.01127578e-02,   2.35999785e-02],\n",
       "          [  4.30713631e-02,  -4.18806821e-02,   5.62997535e-03, ...,\n",
       "             5.20994328e-02,  -2.52348930e-02,   7.55339861e-04],\n",
       "          ..., \n",
       "          [  5.36759757e-02,   1.10112093e-02,  -4.37332913e-02, ...,\n",
       "            -5.48763722e-02,  -1.45458058e-02,   4.53807786e-03],\n",
       "          [ -1.02528520e-02,  -3.90950888e-02,   3.13109867e-02, ...,\n",
       "            -4.48342636e-02,   5.80124557e-04,   3.23182344e-03],\n",
       "          [ -1.18786916e-02,  -9.88632441e-03,  -1.75452866e-02, ...,\n",
       "            -5.10609895e-03,  -2.11126208e-02,  -5.47668934e-02]],\n",
       " \n",
       "         [[ -2.06668079e-02,  -9.97893512e-05,  -2.32655443e-02, ...,\n",
       "            -5.94023243e-03,  -5.21365777e-02,   4.90650050e-02],\n",
       "          [  5.76119758e-02,  -5.66606149e-02,  -5.78538924e-02, ...,\n",
       "             3.95564102e-02,   3.21480893e-02,  -3.28299999e-02],\n",
       "          [  2.98116021e-02,   4.06489633e-02,   2.54653879e-02, ...,\n",
       "            -4.43273075e-02,  -1.37305595e-02,  -3.25646400e-02],\n",
       "          ..., \n",
       "          [  4.42346558e-03,   3.09898816e-02,  -8.74143094e-04, ...,\n",
       "             2.95698643e-03,  -3.27087380e-02,   3.56797986e-02],\n",
       "          [  7.95586035e-03,   8.22167844e-04,   3.61551605e-02, ...,\n",
       "            -2.15098187e-02,  -1.09877400e-02,  -4.52089459e-02],\n",
       "          [ -4.53761891e-02,  -1.34506971e-02,   3.98628823e-02, ...,\n",
       "            -2.20058300e-02,  -4.37525176e-02,  -2.36205980e-02]],\n",
       " \n",
       "         [[  5.05740382e-02,   4.15671058e-02,  -3.94221097e-02, ...,\n",
       "            -3.41032520e-02,   4.64622341e-02,  -6.09520450e-03],\n",
       "          [ -1.08483061e-03,  -2.70107873e-02,  -5.23787625e-02, ...,\n",
       "            -1.47534944e-02,   8.25540349e-03,  -4.80868444e-02],\n",
       "          [  1.35063194e-02,  -1.27286948e-02,   4.30608504e-02, ...,\n",
       "             2.59597227e-03,   2.41027027e-03,  -3.05727050e-02],\n",
       "          ..., \n",
       "          [ -2.36696675e-02,   1.40986405e-02,   4.69206646e-03, ...,\n",
       "             4.44056131e-02,  -1.74758881e-02,  -4.70860675e-02],\n",
       "          [  5.53402193e-02,   3.98956276e-02,  -1.74988955e-02, ...,\n",
       "            -5.57484478e-02,  -1.50423460e-02,  -2.46649608e-02],\n",
       "          [ -1.91981345e-03,   3.67092453e-02,   1.10393502e-02, ...,\n",
       "             4.07056250e-02,  -2.09687017e-02,   3.90944630e-03]],\n",
       " \n",
       "         [[  4.36860509e-02,   2.06331946e-02,  -3.95940989e-02, ...,\n",
       "             2.55385451e-02,  -3.80697548e-02,  -2.69022062e-02],\n",
       "          [  1.54017396e-02,  -2.48126611e-02,   4.40122597e-02, ...,\n",
       "            -5.20369187e-02,  -5.59157059e-02,   3.07482816e-02],\n",
       "          [  5.22753187e-02,   2.78433450e-02,  -5.75370193e-02, ...,\n",
       "            -5.31168357e-02,  -4.09097821e-02,   2.02338286e-02],\n",
       "          ..., \n",
       "          [  1.55332871e-02,  -1.60364509e-02,   2.18664370e-02, ...,\n",
       "             1.46735832e-03,   1.67833976e-02,  -5.48098497e-02],\n",
       "          [  1.29001848e-02,  -4.73869592e-02,   4.58839573e-02, ...,\n",
       "            -1.02385022e-02,   3.61847170e-02,  -2.02760994e-02],\n",
       "          [ -1.50248557e-02,  -4.70217392e-02,   1.83202811e-02, ...,\n",
       "             6.66063279e-04,   4.28060815e-03,   7.22273067e-03]]],\n",
       " \n",
       " \n",
       "        [[[ -2.51251347e-02,   5.27399592e-02,  -5.76936416e-02, ...,\n",
       "            -2.29134038e-03,   2.88285129e-02,   2.28804909e-02],\n",
       "          [  1.36362277e-02,  -1.99962780e-02,   4.73056547e-02, ...,\n",
       "             3.83967161e-03,   2.03050263e-02,  -3.85780931e-02],\n",
       "          [ -2.20302865e-03,  -1.27284713e-02,   4.41618748e-02, ...,\n",
       "            -4.84614745e-02,  -1.91807002e-03,   3.29155736e-02],\n",
       "          ..., \n",
       "          [ -2.12094337e-02,   5.57066388e-02,  -1.98814683e-02, ...,\n",
       "             8.68998840e-03,   2.59523951e-02,   4.55116443e-02],\n",
       "          [ -4.97644618e-02,   3.59875001e-02,  -5.79198711e-02, ...,\n",
       "            -2.15317495e-02,   4.90862839e-02,  -3.75296548e-03],\n",
       "          [ -5.52220978e-02,  -5.30730672e-02,  -3.30646858e-02, ...,\n",
       "             4.48142178e-02,  -4.24845517e-02,  -4.56188358e-02]],\n",
       " \n",
       "         [[ -1.09543763e-02,   3.80688645e-02,   5.44803701e-02, ...,\n",
       "            -3.20764743e-02,   5.60627244e-02,  -2.34377757e-03],\n",
       "          [  4.11683582e-02,  -6.12640753e-03,  -2.86630541e-02, ...,\n",
       "             4.36110981e-02,  -2.39346176e-03,  -4.72901762e-03],\n",
       "          [ -5.20874672e-02,   3.50482129e-02,   2.26460658e-02, ...,\n",
       "             1.23057775e-02,  -4.66319099e-02,   4.92916517e-02],\n",
       "          ..., \n",
       "          [  4.11058553e-02,  -3.20548639e-02,  -4.44001667e-02, ...,\n",
       "            -3.27867195e-02,  -4.91856374e-02,  -2.74287350e-02],\n",
       "          [  3.73403989e-02,  -4.91481423e-02,  -2.69045085e-02, ...,\n",
       "            -4.51578647e-02,  -3.66849825e-02,   2.67594196e-02],\n",
       "          [  3.68939303e-02,   4.77191992e-02,  -2.81107258e-02, ...,\n",
       "             5.05355112e-02,  -5.72688840e-02,  -2.25065351e-02]],\n",
       " \n",
       "         [[ -5.45445308e-02,   4.06191833e-02,  -1.81204379e-02, ...,\n",
       "             5.13305776e-02,  -1.99438147e-02,   5.38031794e-02],\n",
       "          [  1.41600929e-02,   9.02563706e-03,   1.99603699e-02, ...,\n",
       "             3.61718722e-02,   3.12377177e-02,   5.45609333e-02],\n",
       "          [ -4.94580045e-02,  -2.42112204e-02,  -2.84333769e-02, ...,\n",
       "             4.86789457e-02,  -5.07052913e-02,  -1.10984184e-02],\n",
       "          ..., \n",
       "          [  1.92281604e-03,  -1.69607811e-02,   4.33250628e-02, ...,\n",
       "            -2.42138989e-02,   4.21930291e-02,   2.15214901e-02],\n",
       "          [ -5.73764481e-02,   1.72460712e-02,  -2.83210240e-02, ...,\n",
       "             3.18042748e-02,   4.13180105e-02,   2.43027695e-02],\n",
       "          [ -3.41989771e-02,   3.25143822e-02,  -3.59206125e-02, ...,\n",
       "            -1.36697069e-02,  -2.69983076e-02,  -4.95180897e-02]],\n",
       " \n",
       "         [[  2.79908590e-02,   5.24008386e-02,  -3.54718715e-02, ...,\n",
       "             5.52992038e-02,  -5.41340150e-02,  -4.89886999e-02],\n",
       "          [  2.84367055e-03,  -1.19240917e-02,   1.45230182e-02, ...,\n",
       "            -4.92893346e-02,  -2.39166133e-02,  -3.98088098e-02],\n",
       "          [  2.51992904e-02,  -1.03635453e-02,  -1.42213255e-02, ...,\n",
       "            -2.64364332e-02,   4.46132943e-03,   2.00641565e-02],\n",
       "          ..., \n",
       "          [  3.33025120e-02,   2.77058370e-02,  -5.39816096e-02, ...,\n",
       "             2.30961926e-02,   2.29576491e-02,  -2.98820063e-03],\n",
       "          [ -4.23595682e-02,   1.55409239e-02,  -5.62251508e-02, ...,\n",
       "             5.03071286e-02,   5.03594242e-02,   8.87488201e-03],\n",
       "          [ -3.14445570e-02,   3.52911539e-02,   1.46737657e-02, ...,\n",
       "             4.06635068e-02,  -5.17808981e-02,   6.91307709e-03]],\n",
       " \n",
       "         [[  4.68238406e-02,  -2.87788827e-02,  -2.95392759e-02, ...,\n",
       "             5.19286431e-02,   5.15513085e-02,   4.07645367e-02],\n",
       "          [ -1.77374370e-02,   5.00132777e-02,   4.28687967e-02, ...,\n",
       "            -2.73935255e-02,   3.16827185e-02,  -4.22025099e-02],\n",
       "          [ -5.25964759e-02,  -1.82431638e-02,  -5.66655882e-02, ...,\n",
       "            -2.19494179e-02,  -3.43814716e-02,   1.76224150e-02],\n",
       "          ..., \n",
       "          [  4.61275540e-02,  -4.12654355e-02,   5.39052747e-02, ...,\n",
       "            -3.33716609e-02,   3.04909535e-02,   3.78075652e-02],\n",
       "          [ -1.85457841e-02,  -1.78066641e-02,  -1.88405141e-02, ...,\n",
       "            -1.80318728e-02,  -1.16950013e-02,  -2.52186283e-02],\n",
       "          [ -3.75662595e-02,  -1.87006742e-02,   3.87581997e-02, ...,\n",
       "            -5.70911132e-02,   2.61937045e-02,  -5.44970557e-02]]],\n",
       " \n",
       " \n",
       "        [[[ -2.76856050e-02,  -4.78390753e-02,   1.68618672e-02, ...,\n",
       "            -2.59668343e-02,  -1.81867629e-02,  -3.63899879e-02],\n",
       "          [  2.55828239e-02,   3.39347869e-04,   3.03379446e-03, ...,\n",
       "            -2.02906877e-02,   2.68021338e-02,   6.12040237e-03],\n",
       "          [ -5.39179519e-02,  -5.00338003e-02,   2.92514972e-02, ...,\n",
       "             4.28651683e-02,  -8.67369771e-03,   4.53865156e-03],\n",
       "          ..., \n",
       "          [  1.12052448e-02,   1.46258622e-03,   2.98822410e-02, ...,\n",
       "            -5.71667366e-02,   2.16345675e-02,   3.41776386e-03],\n",
       "          [  2.29663402e-03,   5.79817034e-02,   4.40320484e-02, ...,\n",
       "             5.34549542e-02,   2.46646069e-02,  -3.08673251e-02],\n",
       "          [ -5.54304309e-02,  -2.30011083e-02,  -2.05790140e-02, ...,\n",
       "            -1.88073739e-02,   3.20793204e-02,   4.26701568e-02]],\n",
       " \n",
       "         [[  4.17147093e-02,  -4.84181121e-02,  -2.89395656e-02, ...,\n",
       "             1.99054815e-02,  -1.93228312e-02,   2.34871767e-02],\n",
       "          [  5.18098511e-02,  -3.11966632e-02,   3.25729214e-02, ...,\n",
       "             1.59255601e-02,  -5.80480807e-02,   3.21359895e-02],\n",
       "          [ -5.79911359e-02,   2.83003934e-02,  -5.48527204e-02, ...,\n",
       "             4.04818989e-02,   1.42643638e-02,   3.22654285e-02],\n",
       "          ..., \n",
       "          [ -1.15824379e-02,  -2.21869387e-02,  -7.20665976e-03, ...,\n",
       "             4.42910083e-02,   2.10265443e-03,  -3.21681947e-02],\n",
       "          [ -5.21498993e-02,  -4.62667085e-02,   2.79792212e-02, ...,\n",
       "            -2.82024872e-02,   4.19458337e-02,   3.29217426e-02],\n",
       "          [ -2.09183618e-02,  -2.29468159e-02,  -3.82401720e-02, ...,\n",
       "            -3.60248983e-02,  -2.85238270e-02,  -4.00975943e-02]],\n",
       " \n",
       "         [[ -1.12666972e-02,  -5.40794134e-02,  -5.25659882e-02, ...,\n",
       "            -3.70137244e-02,   4.68733720e-02,   5.04802801e-02],\n",
       "          [  3.64060737e-02,   1.03084035e-02,  -8.40387121e-03, ...,\n",
       "            -2.41097063e-04,   3.12962271e-02,  -1.89383216e-02],\n",
       "          [  1.06844939e-02,  -1.15275197e-02,   3.36305536e-02, ...,\n",
       "            -1.45997480e-02,   4.33036648e-02,   9.26853344e-03],\n",
       "          ..., \n",
       "          [  5.35011664e-03,  -2.77587771e-03,   3.21028382e-03, ...,\n",
       "             1.76742300e-03,   2.98875310e-02,   4.57697175e-02],\n",
       "          [  3.00297998e-02,   4.40368168e-02,  -3.87638807e-04, ...,\n",
       "            -3.34321223e-02,  -2.09697224e-02,  -1.26274414e-02],\n",
       "          [  5.30330874e-02,  -4.93595563e-02,   4.59080972e-02, ...,\n",
       "             5.30763902e-02,  -3.65117937e-03,  -6.63678348e-03]],\n",
       " \n",
       "         [[  1.01190321e-02,   1.61561482e-02,  -3.21591198e-02, ...,\n",
       "             3.58304009e-03,  -3.58311273e-02,   5.81654720e-02],\n",
       "          [  6.00120053e-03,  -1.66272372e-02,  -5.35849109e-02, ...,\n",
       "             5.56912385e-02,  -2.51314156e-02,   4.03024666e-02],\n",
       "          [ -3.25737000e-02,   1.91331916e-02,   7.50806555e-03, ...,\n",
       "            -2.21241750e-02,  -3.94121930e-03,  -9.01408494e-05],\n",
       "          ..., \n",
       "          [  3.95274125e-02,  -2.76657529e-02,   4.76305075e-02, ...,\n",
       "             1.09235682e-02,  -9.40740108e-03,  -2.59900056e-02],\n",
       "          [ -5.78034259e-02,  -1.19311139e-02,  -2.85956673e-02, ...,\n",
       "             4.99802195e-02,   5.38617857e-02,   5.48240058e-02],\n",
       "          [ -3.37134674e-02,  -4.50261757e-02,   6.96718320e-03, ...,\n",
       "            -3.33209708e-02,  -2.09819078e-02,   2.61273347e-02]],\n",
       " \n",
       "         [[  4.51260470e-02,  -3.90967056e-02,  -4.47051153e-02, ...,\n",
       "             3.59810144e-03,   2.40619518e-02,   1.73040107e-03],\n",
       "          [  3.12258713e-02,  -1.53349973e-02,  -5.61028160e-02, ...,\n",
       "            -4.67418507e-02,  -1.86526924e-02,  -5.00243232e-02],\n",
       "          [ -5.75446971e-02,  -4.10979390e-02,   9.22295824e-03, ...,\n",
       "            -2.75151636e-02,  -2.77219713e-02,   5.23802452e-02],\n",
       "          ..., \n",
       "          [  1.48296915e-02,  -3.72333489e-02,   1.73277967e-02, ...,\n",
       "             5.54049499e-02,  -2.84247231e-02,  -2.10185722e-03],\n",
       "          [  5.60973994e-02,   9.12978128e-03,  -2.33600140e-02, ...,\n",
       "            -3.87474597e-02,   5.11375777e-02,   3.91133130e-03],\n",
       "          [ -9.89079103e-03,   3.10205109e-02,  -5.02720773e-02, ...,\n",
       "             5.65344431e-02,   1.98572874e-04,   4.41577695e-02]]]], dtype=float32),\n",
       " array([ 0.,  0.,  0.,  0.,  0.,  0.,  0.,  0.,  0.,  0.,  0.,  0.,  0.,\n",
       "         0.,  0.,  0.,  0.,  0.,  0.,  0.,  0.,  0.,  0.,  0.,  0.,  0.,\n",
       "         0.,  0.,  0.,  0.,  0.,  0.,  0.,  0.,  0.,  0.,  0.,  0.,  0.,\n",
       "         0.,  0.,  0.,  0.,  0.,  0.,  0.,  0.,  0.,  0.,  0.], dtype=float32),\n",
       " array([[-0.00602514, -0.00175121, -0.02582344, ...,  0.01038946,\n",
       "          0.0423235 , -0.03790725],\n",
       "        [-0.03551476, -0.00470753, -0.0442734 , ..., -0.03979559,\n",
       "         -0.03187235,  0.02635496],\n",
       "        [ 0.04347996,  0.03232865,  0.04394714, ...,  0.02284933,\n",
       "          0.04021007, -0.03964808],\n",
       "        ..., \n",
       "        [-0.04111783, -0.01042615, -0.02871177, ..., -0.00333145,\n",
       "          0.00866542, -0.02091315],\n",
       "        [-0.0067414 ,  0.02650623,  0.04277613, ...,  0.02723223,\n",
       "          0.02906903,  0.00755762],\n",
       "        [ 0.02449127,  0.03474134,  0.04400256, ..., -0.02070909,\n",
       "          0.0243368 ,  0.01482457]], dtype=float32),\n",
       " array([ 0.,  0.,  0.,  0.,  0.,  0.,  0.,  0.,  0.,  0.,  0.,  0.,  0.,\n",
       "         0.,  0.,  0.,  0.,  0.,  0.,  0.,  0.,  0.,  0.,  0.,  0.,  0.,\n",
       "         0.,  0.,  0.,  0.,  0.,  0.,  0.,  0.,  0.,  0.,  0.,  0.,  0.,\n",
       "         0.,  0.,  0.,  0.,  0.,  0.,  0.,  0.,  0.,  0.,  0.,  0.,  0.,\n",
       "         0.,  0.,  0.,  0.,  0.,  0.,  0.,  0.,  0.,  0.,  0.,  0.,  0.,\n",
       "         0.,  0.,  0.,  0.,  0.,  0.,  0.,  0.,  0.,  0.,  0.,  0.,  0.,\n",
       "         0.,  0.,  0.,  0.,  0.,  0.,  0.,  0.,  0.,  0.,  0.,  0.,  0.,\n",
       "         0.,  0.,  0.,  0.,  0.,  0.,  0.,  0.,  0.,  0.,  0.,  0.,  0.,\n",
       "         0.,  0.,  0.,  0.,  0.,  0.,  0.,  0.,  0.,  0.,  0.,  0.,  0.,\n",
       "         0.,  0.,  0.,  0.,  0.,  0.,  0.,  0.,  0.,  0.,  0.,  0.,  0.,\n",
       "         0.,  0.,  0.,  0.,  0.,  0.,  0.,  0.,  0.,  0.,  0.,  0.,  0.,\n",
       "         0.,  0.,  0.,  0.,  0.,  0.,  0.,  0.,  0.,  0.,  0.,  0.,  0.,\n",
       "         0.,  0.,  0.,  0.,  0.,  0.,  0.,  0.,  0.,  0.,  0.,  0.,  0.,\n",
       "         0.,  0.,  0.,  0.,  0.,  0.,  0.,  0.,  0.,  0.,  0.,  0.,  0.,\n",
       "         0.,  0.,  0.,  0.,  0.,  0.,  0.,  0.,  0.,  0.,  0.,  0.,  0.,\n",
       "         0.,  0.,  0.,  0.,  0.,  0.,  0.,  0.,  0.,  0.,  0.,  0.,  0.,\n",
       "         0.,  0.,  0.,  0.,  0.,  0.,  0.,  0.,  0.,  0.,  0.,  0.,  0.,\n",
       "         0.,  0.,  0.,  0.,  0.,  0.,  0.,  0.,  0.,  0.,  0.,  0.,  0.,\n",
       "         0.,  0.,  0.,  0.,  0.,  0.,  0.,  0.,  0.,  0.,  0.,  0.,  0.,\n",
       "         0.,  0.,  0.,  0.,  0.,  0.,  0.,  0.,  0.,  0.,  0.,  0.,  0.,\n",
       "         0.,  0.,  0.,  0.,  0.,  0.,  0.,  0.,  0.,  0.,  0.,  0.,  0.,\n",
       "         0.,  0.,  0.,  0.,  0.,  0.,  0.,  0.,  0.,  0.,  0.,  0.,  0.,\n",
       "         0.,  0.,  0.,  0.,  0.,  0.,  0.,  0.,  0.,  0.,  0.,  0.,  0.,\n",
       "         0.,  0.,  0.,  0.,  0.,  0.,  0.,  0.,  0.,  0.,  0.,  0.,  0.,\n",
       "         0.,  0.,  0.,  0.,  0.,  0.,  0.,  0.,  0.,  0.,  0.,  0.,  0.,\n",
       "         0.,  0.,  0.,  0.,  0.,  0.,  0.,  0.,  0.,  0.,  0.,  0.,  0.,\n",
       "         0.,  0.,  0.,  0.,  0.,  0.,  0.,  0.,  0.,  0.,  0.,  0.,  0.,\n",
       "         0.,  0.,  0.,  0.,  0.,  0.,  0.,  0.,  0.,  0.,  0.,  0.,  0.,\n",
       "         0.,  0.,  0.,  0.,  0.,  0.,  0.,  0.,  0.,  0.,  0.,  0.,  0.,\n",
       "         0.,  0.,  0.,  0.,  0.,  0.,  0.,  0.,  0.,  0.,  0.,  0.,  0.,\n",
       "         0.,  0.,  0.,  0.,  0.,  0.,  0.,  0.,  0.,  0.,  0.,  0.,  0.,\n",
       "         0.,  0.,  0.,  0.,  0.,  0.,  0.,  0.,  0.,  0.,  0.,  0.,  0.,\n",
       "         0.,  0.,  0.,  0.,  0.,  0.,  0.,  0.,  0.,  0.,  0.,  0.,  0.,\n",
       "         0.,  0.,  0.,  0.,  0.,  0.,  0.,  0.,  0.,  0.,  0.,  0.,  0.,\n",
       "         0.,  0.,  0.,  0.,  0.,  0.,  0.,  0.,  0.,  0.,  0.,  0.,  0.,\n",
       "         0.,  0.,  0.,  0.,  0.,  0.,  0.,  0.,  0.,  0.,  0.,  0.,  0.,\n",
       "         0.,  0.,  0.,  0.,  0.,  0.,  0.,  0.,  0.,  0.,  0.,  0.,  0.,\n",
       "         0.,  0.,  0.,  0.,  0.,  0.,  0.,  0.,  0.,  0.,  0.,  0.,  0.,\n",
       "         0.,  0.,  0.,  0.,  0.,  0.], dtype=float32),\n",
       " array([[-0.03106952, -0.07837628, -0.0014057 , ..., -0.04622857,\n",
       "          0.09694987, -0.05610567],\n",
       "        [-0.06123965,  0.02241474, -0.10435706, ..., -0.02145198,\n",
       "          0.08699188, -0.03578009],\n",
       "        [ 0.06127334,  0.0492209 , -0.0774277 , ...,  0.06202026,\n",
       "         -0.02652331,  0.01117041],\n",
       "        ..., \n",
       "        [-0.06352941,  0.0017701 ,  0.0790882 , ..., -0.02889993,\n",
       "          0.02857619, -0.07016452],\n",
       "        [ 0.06867243, -0.02152985,  0.03480204, ...,  0.00525951,\n",
       "          0.03325687,  0.09575222],\n",
       "        [ 0.02715439,  0.01426256,  0.05480387, ...,  0.04754836,\n",
       "         -0.04086187, -0.0161235 ]], dtype=float32),\n",
       " array([ 0.,  0.,  0.,  0.,  0.,  0.,  0.,  0.,  0.,  0.], dtype=float32)]"
      ]
     },
     "execution_count": 12,
     "metadata": {},
     "output_type": "execute_result"
    }
   ],
   "source": [
    "model.get_weights()"
   ]
  },
  {
   "cell_type": "code",
   "execution_count": 13,
   "metadata": {
    "collapsed": false
   },
   "outputs": [
    {
     "name": "stdout",
     "output_type": "stream",
     "text": [
      "RandomForestClassifier(bootstrap=True, class_weight=None, criterion='gini',\n",
      "            max_depth=None, max_features='auto', max_leaf_nodes=None,\n",
      "            min_impurity_split=1e-07, min_samples_leaf=1,\n",
      "            min_samples_split=2, min_weight_fraction_leaf=0.0,\n",
      "            n_estimators=10, n_jobs=1, oob_score=False, random_state=59711,\n",
      "            verbose=0, warm_start=False)\n"
     ]
    }
   ],
   "source": [
    "print(model2)"
   ]
  },
  {
   "cell_type": "code",
   "execution_count": 25,
   "metadata": {
    "collapsed": false
   },
   "outputs": [],
   "source": [
    "from sklearn.pipeline import Pipeline\n",
    "from sklearn.preprocessing import MinMaxScaler\n",
    "from sklearn.svm import SVC\n",
    "model3 = Pipeline([(\"scaler\", MinMaxScaler()), (\"svm\", SVC())])\n",
    "#run=tes_oml.runs.run_model_on_task(task, model3)\n",
    "\n",
    "#myrun = run.publish()\n",
    "#print(\"Uploaded to http://www.openml.org/r/\" + str(myrun.run_id))"
   ]
  },
  {
   "cell_type": "code",
   "execution_count": 29,
   "metadata": {
    "collapsed": false
   },
   "outputs": [],
   "source": [
    "#from sklearn.pipeline import make_pipeline\n",
    "# standard syntax\n",
    "#pipe_long = Pipeline([(\"scaler\", MinMaxScaler()), (\"svm\", SVC(C=100))])\n",
    "# abbreviated syntax\n",
    "#ipe_short = make_pipeline(MinMaxScaler(), SVC(C=100))\n",
    "\n",
    "from sklearn.pipeline import Pipeline\n",
    "from sklearn.preprocessing import MinMaxScaler\n",
    "from sklearn.svm import SVC\n",
    "model3 = Pipeline([(\"scaler\", MinMaxScaler()), (\"svm\", SVC())])\n",
    "#run=tes_oml.runs.run_model_on_task(task, model3)\n",
    "#myrun = run.publish()\n",
    "#print(\"Uploaded to http://www.openml.org/r/\" + str(myrun.run_id))"
   ]
  },
  {
   "cell_type": "code",
   "execution_count": 23,
   "metadata": {
    "collapsed": false
   },
   "outputs": [
    {
     "name": "stdout",
     "output_type": "stream",
     "text": [
      "Uploaded to http://www.openml.org/r/8857838\n"
     ]
    }
   ],
   "source": [
    "myrun = run.publish()\n",
    "print(\"Uploaded to http://www.openml.org/r/\" + str(myrun.run_id))"
   ]
  },
  {
   "cell_type": "code",
   "execution_count": null,
   "metadata": {
    "collapsed": true
   },
   "outputs": [],
   "source": []
  },
  {
   "cell_type": "code",
   "execution_count": 40,
   "metadata": {
    "collapsed": false
   },
   "outputs": [
    {
     "ename": "AttributeError",
     "evalue": "'dict' object has no attribute 'get_params'",
     "output_type": "error",
     "traceback": [
      "\u001b[0;31m---------------------------------------------------------------------------\u001b[0m",
      "\u001b[0;31mAttributeError\u001b[0m                            Traceback (most recent call last)",
      "\u001b[0;32m<ipython-input-40-2af33df08ac3>\u001b[0m in \u001b[0;36m<module>\u001b[0;34m()\u001b[0m\n\u001b[0;32m----> 1\u001b[0;31m \u001b[0mtes_oml\u001b[0m\u001b[0;34m.\u001b[0m\u001b[0mflows\u001b[0m\u001b[0;34m.\u001b[0m\u001b[0msklearn_converter\u001b[0m\u001b[0;34m.\u001b[0m\u001b[0m_extract_information_from_model\u001b[0m\u001b[0;34m(\u001b[0m\u001b[0mm\u001b[0m\u001b[0;34m.\u001b[0m\u001b[0msk_params\u001b[0m\u001b[0;34m)\u001b[0m\u001b[0;34m\u001b[0m\u001b[0m\n\u001b[0m",
      "\u001b[0;32m/home/irfan/irfan/OpenMLKeras/openml-python/openml/flows/sklearn_converter.py\u001b[0m in \u001b[0;36m_extract_information_from_model\u001b[0;34m(model)\u001b[0m\n\u001b[1;32m    359\u001b[0m     \u001b[0mparameters_meta_info\u001b[0m \u001b[0;34m=\u001b[0m \u001b[0mOrderedDict\u001b[0m\u001b[0;34m(\u001b[0m\u001b[0;34m)\u001b[0m\u001b[0;34m\u001b[0m\u001b[0m\n\u001b[1;32m    360\u001b[0m \u001b[0;34m\u001b[0m\u001b[0m\n\u001b[0;32m--> 361\u001b[0;31m     \u001b[0mmodel_parameters\u001b[0m \u001b[0;34m=\u001b[0m \u001b[0mmodel\u001b[0m\u001b[0;34m.\u001b[0m\u001b[0mget_params\u001b[0m\u001b[0;34m(\u001b[0m\u001b[0mdeep\u001b[0m\u001b[0;34m=\u001b[0m\u001b[0;32mFalse\u001b[0m\u001b[0;34m)\u001b[0m\u001b[0;34m\u001b[0m\u001b[0m\n\u001b[0m\u001b[1;32m    362\u001b[0m     \u001b[0mprint\u001b[0m\u001b[0;34m(\u001b[0m\u001b[0;34m\"=================dsdsdsds\"\u001b[0m\u001b[0;34m)\u001b[0m\u001b[0;34m\u001b[0m\u001b[0m\n\u001b[1;32m    363\u001b[0m     \u001b[0mprint\u001b[0m\u001b[0;34m(\u001b[0m\u001b[0mmodel_parameters\u001b[0m\u001b[0;34m)\u001b[0m\u001b[0;34m\u001b[0m\u001b[0m\n",
      "\u001b[0;31mAttributeError\u001b[0m: 'dict' object has no attribute 'get_params'"
     ]
    }
   ],
   "source": [
    "tes_oml.flows.sklearn_converter._extract_information_from_model(m.sk_params)"
   ]
  },
  {
   "cell_type": "code",
   "execution_count": 7,
   "metadata": {
    "collapsed": false
   },
   "outputs": [
    {
     "name": "stdout",
     "output_type": "stream",
     "text": [
      "['__call__', '__class__', '__delattr__', '__dict__', '__dir__', '__doc__', '__eq__', '__format__', '__ge__', '__getattribute__', '__gt__', '__hash__', '__init__', '__init_subclass__', '__le__', '__lt__', '__module__', '__ne__', '__new__', '__reduce__', '__reduce_ex__', '__repr__', '__setattr__', '__sizeof__', '__str__', '__subclasshook__', '__weakref__', '_add_inbound_node', '_built', '_check_num_samples', '_check_trainable_weights_consistency', '_feed_input_names', '_feed_inputs', '_fit_loop', '_flattened_layers', '_gather_list_attr', '_get_deduped_metrics_names', '_get_node_attribute_at_index', '_initial_weights', '_make_predict_function', '_make_test_function', '_make_train_function', '_node_key', '_output_mask_cache', '_output_shape_cache', '_output_tensor_cache', '_predict_loop', '_standardize_user_data', '_test_loop', '_trainable', '_updated_config', 'add', 'add_loss', 'add_update', 'add_weight', 'assert_input_compatibility', 'build', 'built', 'call', 'compile', 'compute_mask', 'compute_output_shape', 'container_nodes', 'count_params', 'evaluate', 'evaluate_generator', 'fit', 'fit_generator', 'from_config', 'get_config', 'get_input_at', 'get_input_mask_at', 'get_input_shape_at', 'get_layer', 'get_losses_for', 'get_output_at', 'get_output_mask_at', 'get_output_shape_at', 'get_updates_for', 'get_weights', 'inbound_nodes', 'input', 'input_layers', 'input_layers_node_indices', 'input_layers_tensor_indices', 'input_mask', 'input_names', 'input_shape', 'input_spec', 'inputs', 'layers', 'legacy_from_config', 'legacy_get_config', 'load_weights', 'loss', 'loss_weights', 'losses', 'metrics', 'metrics_names', 'metrics_tensors', 'model', 'name', 'nodes_by_depth', 'non_trainable_weights', 'optimizer', 'outbound_nodes', 'output', 'output_layers', 'output_layers_node_indices', 'output_layers_tensor_indices', 'output_mask', 'output_names', 'output_shape', 'outputs', 'pop', 'predict', 'predict_classes', 'predict_generator', 'predict_on_batch', 'predict_proba', 'regularizers', 'reset_states', 'run_internal_graph', 'sample_weight_mode', 'sample_weights', 'save', 'save_weights', 'set_weights', 'state_updates', 'stateful', 'summary', 'supports_masking', 'targets', 'test_on_batch', 'to_json', 'to_yaml', 'total_loss', 'train_on_batch', 'trainable', 'trainable_weights', 'updates', 'uses_learning_phase', 'weighted_metrics', 'weights']\n"
     ]
    }
   ],
   "source": [
    "print(dir(model))"
   ]
  },
  {
   "cell_type": "code",
   "execution_count": 20,
   "metadata": {
    "collapsed": false
   },
   "outputs": [
    {
     "ename": "ValueError",
     "evalue": "If fitting from data tensors, you should specify the `steps_per_epoch` argument.",
     "output_type": "error",
     "traceback": [
      "\u001b[0;31m---------------------------------------------------------------------------\u001b[0m",
      "\u001b[0;31mValueError\u001b[0m                                Traceback (most recent call last)",
      "\u001b[0;32m<ipython-input-20-f20db7c3f398>\u001b[0m in \u001b[0;36m<module>\u001b[0;34m()\u001b[0m\n\u001b[0;32m----> 1\u001b[0;31m \u001b[0mprint\u001b[0m\u001b[0;34m(\u001b[0m\u001b[0mdir\u001b[0m\u001b[0;34m(\u001b[0m\u001b[0mmodel\u001b[0m\u001b[0;34m.\u001b[0m\u001b[0mfit\u001b[0m\u001b[0;34m(\u001b[0m\u001b[0;34m)\u001b[0m\u001b[0;34m)\u001b[0m\u001b[0;34m)\u001b[0m\u001b[0;34m\u001b[0m\u001b[0m\n\u001b[0m",
      "\u001b[0;32m/home/irfan/anaconda3/lib/python3.6/site-packages/keras/models.py\u001b[0m in \u001b[0;36mfit\u001b[0;34m(self, x, y, batch_size, epochs, verbose, callbacks, validation_split, validation_data, shuffle, class_weight, sample_weight, initial_epoch, steps_per_epoch, validation_steps, **kwargs)\u001b[0m\n\u001b[1;32m    958\u001b[0m                               \u001b[0minitial_epoch\u001b[0m\u001b[0;34m=\u001b[0m\u001b[0minitial_epoch\u001b[0m\u001b[0;34m,\u001b[0m\u001b[0;34m\u001b[0m\u001b[0m\n\u001b[1;32m    959\u001b[0m                               \u001b[0msteps_per_epoch\u001b[0m\u001b[0;34m=\u001b[0m\u001b[0msteps_per_epoch\u001b[0m\u001b[0;34m,\u001b[0m\u001b[0;34m\u001b[0m\u001b[0m\n\u001b[0;32m--> 960\u001b[0;31m                               validation_steps=validation_steps)\n\u001b[0m\u001b[1;32m    961\u001b[0m \u001b[0;34m\u001b[0m\u001b[0m\n\u001b[1;32m    962\u001b[0m     def evaluate(self, x, y, batch_size=32, verbose=1,\n",
      "\u001b[0;32m/home/irfan/anaconda3/lib/python3.6/site-packages/keras/engine/training.py\u001b[0m in \u001b[0;36mfit\u001b[0;34m(self, x, y, batch_size, epochs, verbose, callbacks, validation_split, validation_data, shuffle, class_weight, sample_weight, initial_epoch, steps_per_epoch, validation_steps, **kwargs)\u001b[0m\n\u001b[1;32m   1570\u001b[0m             \u001b[0;32mraise\u001b[0m \u001b[0mTypeError\u001b[0m\u001b[0;34m(\u001b[0m\u001b[0;34m'Unrecognized keyword arguments: '\u001b[0m \u001b[0;34m+\u001b[0m \u001b[0mstr\u001b[0m\u001b[0;34m(\u001b[0m\u001b[0mkwargs\u001b[0m\u001b[0;34m)\u001b[0m\u001b[0;34m)\u001b[0m\u001b[0;34m\u001b[0m\u001b[0m\n\u001b[1;32m   1571\u001b[0m         \u001b[0;32mif\u001b[0m \u001b[0mx\u001b[0m \u001b[0;32mis\u001b[0m \u001b[0;32mNone\u001b[0m \u001b[0;32mand\u001b[0m \u001b[0my\u001b[0m \u001b[0;32mis\u001b[0m \u001b[0;32mNone\u001b[0m \u001b[0;32mand\u001b[0m \u001b[0msteps_per_epoch\u001b[0m \u001b[0;32mis\u001b[0m \u001b[0;32mNone\u001b[0m\u001b[0;34m:\u001b[0m\u001b[0;34m\u001b[0m\u001b[0m\n\u001b[0;32m-> 1572\u001b[0;31m             raise ValueError('If fitting from data tensors, '\n\u001b[0m\u001b[1;32m   1573\u001b[0m                              \u001b[0;34m'you should specify the `steps_per_epoch` '\u001b[0m\u001b[0;34m\u001b[0m\u001b[0m\n\u001b[1;32m   1574\u001b[0m                              'argument.')\n",
      "\u001b[0;31mValueError\u001b[0m: If fitting from data tensors, you should specify the `steps_per_epoch` argument."
     ]
    }
   ],
   "source": [
    "print(dir(model.fit()))"
   ]
  },
  {
   "cell_type": "code",
   "execution_count": 48,
   "metadata": {
    "collapsed": false
   },
   "outputs": [],
   "source": [
    "from keras.wrappers.scikit_learn import KerasClassifier\n",
    "m=KerasClassifier(model)\n",
    "\n",
    "#print(m.get_params().sk_params)\n",
    "#run = tes_oml.runs.run_model_on_task(task, m)"
   ]
  },
  {
   "cell_type": "code",
   "execution_count": 13,
   "metadata": {
    "collapsed": false
   },
   "outputs": [
    {
     "name": "stdout",
     "output_type": "stream",
     "text": [
      "keras.models\n",
      "{'name': 'activation_4', 'trainable': True, 'activation': 'softmax'}\n",
      "==============\n",
      "{'bootstrap': True, 'class_weight': None, 'criterion': 'gini', 'max_depth': None, 'max_features': 'auto', 'max_leaf_nodes': None, 'min_impurity_split': 1e-07, 'min_samples_leaf': 1, 'min_samples_split': 2, 'min_weight_fraction_leaf': 0.0, 'n_estimators': 10, 'n_jobs': 1, 'oob_score': False, 'random_state': None, 'verbose': 0, 'warm_start': False}\n"
     ]
    }
   ],
   "source": [
    "import pprint\n",
    "print(model.__module__)\n",
    "print(model.get_config()[9]['config'])\n",
    "print(\"==============\")\n",
    "print(model2.get_params())"
   ]
  },
  {
   "cell_type": "code",
   "execution_count": 11,
   "metadata": {
    "collapsed": false
   },
   "outputs": [
    {
     "ename": "AttributeError",
     "evalue": "'RandomForestClassifier' object has no attribute 'items'",
     "output_type": "error",
     "traceback": [
      "\u001b[0;31m---------------------------------------------------------------------------\u001b[0m",
      "\u001b[0;31mAttributeError\u001b[0m                            Traceback (most recent call last)",
      "\u001b[0;32m<ipython-input-11-34f5f4d59584>\u001b[0m in \u001b[0;36m<module>\u001b[0;34m()\u001b[0m\n\u001b[0;32m----> 1\u001b[0;31m \u001b[0mmodel2\u001b[0m\u001b[0;34m.\u001b[0m\u001b[0mitems\u001b[0m\u001b[0;34m(\u001b[0m\u001b[0;34m)\u001b[0m\u001b[0;34m\u001b[0m\u001b[0m\n\u001b[0m",
      "\u001b[0;31mAttributeError\u001b[0m: 'RandomForestClassifier' object has no attribute 'items'"
     ]
    }
   ],
   "source": [
    "model2.items()"
   ]
  },
  {
   "cell_type": "code",
   "execution_count": 49,
   "metadata": {
    "collapsed": false,
    "scrolled": false
   },
   "outputs": [
    {
     "name": "stdout",
     "output_type": "stream",
     "text": [
      "=================debug line start\n",
      "model params=\n",
      "{'build_fn': <keras.models.Sequential object at 0x7f8dcc035518>}\n",
      "=================debug line end\n",
      "sequential\n",
      "model params=\n",
      "{'name': 'reshape_2', 'trainable': True, 'batch_input_shape': (None, 784), 'dtype': 'float32', 'target_shape': (28, 28, 1)}\n",
      "rval=(None, 784)\n",
      "rval=float32\n",
      "rval=reshape_2\n",
      "rval=(28, 28, 1)\n",
      "rval=True\n",
      "model params=\n",
      "{'name': 'conv2d_3', 'trainable': True, 'batch_input_shape': (None, 28, 28, 1), 'dtype': 'float32', 'filters': 20, 'kernel_size': (5, 5), 'strides': (1, 1), 'padding': 'same', 'data_format': 'channels_last', 'dilation_rate': (1, 1), 'activation': 'relu', 'use_bias': True, 'kernel_initializer': {'class_name': 'VarianceScaling', 'config': {'scale': 1.0, 'mode': 'fan_avg', 'distribution': 'uniform', 'seed': None}}, 'bias_initializer': {'class_name': 'Zeros', 'config': {}}, 'kernel_regularizer': None, 'bias_regularizer': None, 'activity_regularizer': None, 'kernel_constraint': None, 'bias_constraint': None}\n",
      "rval=relu\n",
      "rval=None\n",
      "rval=(None, 28, 28, 1)\n",
      "rval=None\n",
      "rval=OrderedDict([('class_name', 'Zeros'), ('config', OrderedDict())])\n",
      "rval=None\n",
      "rval=channels_last\n",
      "rval=(1, 1)\n",
      "rval=float32\n",
      "rval=20\n",
      "rval=None\n",
      "rval=OrderedDict([('class_name', 'VarianceScaling'), ('config', OrderedDict([('distribution', 'uniform'), ('mode', 'fan_avg'), ('scale', 1.0), ('seed', None)]))])\n",
      "rval=None\n",
      "rval=(5, 5)\n",
      "rval=conv2d_3\n",
      "rval=same\n",
      "rval=(1, 1)\n",
      "rval=True\n",
      "rval=True\n",
      "model params=\n",
      "{'name': 'max_pooling2d_3', 'trainable': True, 'pool_size': (2, 2), 'padding': 'valid', 'strides': (2, 2), 'data_format': 'channels_last'}\n",
      "rval=channels_last\n",
      "rval=max_pooling2d_3\n",
      "rval=valid\n",
      "rval=(2, 2)\n",
      "rval=(2, 2)\n",
      "rval=True\n",
      "model params=\n",
      "{'name': 'conv2d_4', 'trainable': True, 'filters': 50, 'kernel_size': (5, 5), 'strides': (1, 1), 'padding': 'same', 'data_format': 'channels_last', 'dilation_rate': (1, 1), 'activation': 'relu', 'use_bias': True, 'kernel_initializer': {'class_name': 'VarianceScaling', 'config': {'scale': 1.0, 'mode': 'fan_avg', 'distribution': 'uniform', 'seed': None}}, 'bias_initializer': {'class_name': 'Zeros', 'config': {}}, 'kernel_regularizer': None, 'bias_regularizer': None, 'activity_regularizer': None, 'kernel_constraint': None, 'bias_constraint': None}\n",
      "rval=relu\n",
      "rval=None\n",
      "rval=None\n",
      "rval=OrderedDict([('class_name', 'Zeros'), ('config', OrderedDict())])\n",
      "rval=None\n",
      "rval=channels_last\n",
      "rval=(1, 1)\n",
      "rval=50\n",
      "rval=None\n",
      "rval=OrderedDict([('class_name', 'VarianceScaling'), ('config', OrderedDict([('distribution', 'uniform'), ('mode', 'fan_avg'), ('scale', 1.0), ('seed', None)]))])\n",
      "rval=None\n",
      "rval=(5, 5)\n",
      "rval=conv2d_4\n",
      "rval=same\n",
      "rval=(1, 1)\n",
      "rval=True\n",
      "rval=True\n",
      "model params=\n",
      "{'name': 'max_pooling2d_4', 'trainable': True, 'pool_size': (2, 2), 'padding': 'valid', 'strides': (2, 2), 'data_format': 'channels_last'}\n",
      "rval=channels_last\n",
      "rval=max_pooling2d_4\n",
      "rval=valid\n",
      "rval=(2, 2)\n",
      "rval=(2, 2)\n",
      "rval=True\n",
      "model params=\n",
      "{'name': 'flatten_2', 'trainable': True}\n",
      "rval=flatten_2\n",
      "rval=True\n",
      "model params=\n",
      "{'name': 'dense_3', 'trainable': True, 'units': 500, 'activation': 'linear', 'use_bias': True, 'kernel_initializer': {'class_name': 'VarianceScaling', 'config': {'scale': 1.0, 'mode': 'fan_avg', 'distribution': 'uniform', 'seed': None}}, 'bias_initializer': {'class_name': 'Zeros', 'config': {}}, 'kernel_regularizer': None, 'bias_regularizer': None, 'activity_regularizer': None, 'kernel_constraint': None, 'bias_constraint': None}\n",
      "rval=linear\n",
      "rval=None\n",
      "rval=None\n",
      "rval=OrderedDict([('class_name', 'Zeros'), ('config', OrderedDict())])\n",
      "rval=None\n",
      "rval=None\n",
      "rval=OrderedDict([('class_name', 'VarianceScaling'), ('config', OrderedDict([('distribution', 'uniform'), ('mode', 'fan_avg'), ('scale', 1.0), ('seed', None)]))])\n",
      "rval=None\n",
      "rval=dense_3\n",
      "rval=True\n",
      "rval=500\n",
      "rval=True\n",
      "model params=\n",
      "{'name': 'activation_3', 'trainable': True, 'activation': 'relu'}\n",
      "rval=relu\n",
      "rval=activation_3\n",
      "rval=True\n",
      "model params=\n",
      "{'name': 'dense_4', 'trainable': True, 'units': 10, 'activation': 'linear', 'use_bias': True, 'kernel_initializer': {'class_name': 'VarianceScaling', 'config': {'scale': 1.0, 'mode': 'fan_avg', 'distribution': 'uniform', 'seed': None}}, 'bias_initializer': {'class_name': 'Zeros', 'config': {}}, 'kernel_regularizer': None, 'bias_regularizer': None, 'activity_regularizer': None, 'kernel_constraint': None, 'bias_constraint': None}\n",
      "rval=linear\n",
      "rval=None\n",
      "rval=None\n",
      "rval=OrderedDict([('class_name', 'Zeros'), ('config', OrderedDict())])\n",
      "rval=None\n",
      "rval=None\n",
      "rval=OrderedDict([('class_name', 'VarianceScaling'), ('config', OrderedDict([('distribution', 'uniform'), ('mode', 'fan_avg'), ('scale', 1.0), ('seed', None)]))])\n",
      "rval=None\n",
      "rval=dense_4\n",
      "rval=True\n",
      "rval=10\n",
      "rval=True\n",
      "model params=\n",
      "{'name': 'activation_4', 'trainable': True, 'activation': 'softmax'}\n",
      "rval=softmax\n",
      "rval=activation_4\n",
      "rval=True\n",
      "rval=<openml.flows.flow.OpenMLFlow object at 0x7f8dc90660f0>\n",
      "output=OrderedDict([('build_fn', '{\"oml-python:serialized_object\": \"component_reference\", \"value\": {\"key\": \"build_fn\", \"step_name\": null}}')])\n",
      "\n",
      " OrderedDict([('build_fn', OrderedDict([('description', None), ('data_type', None)]))])\n",
      "\n",
      " OrderedDict([('build_fn', <openml.flows.flow.OpenMLFlow object at 0x7f8dc90660f0>)])\n",
      "\n",
      " {'build_fn'}\n",
      "\n",
      "\n"
     ]
    },
    {
     "ename": "TypeError",
     "evalue": "can't pickle _thread.lock objects",
     "output_type": "error",
     "traceback": [
      "\u001b[0;31m---------------------------------------------------------------------------\u001b[0m",
      "\u001b[0;31mTypeError\u001b[0m                                 Traceback (most recent call last)",
      "\u001b[0;32m<ipython-input-49-3ce1ebaf36c5>\u001b[0m in \u001b[0;36m<module>\u001b[0;34m()\u001b[0m\n\u001b[1;32m      1\u001b[0m \u001b[0;31m#task = oml.tasks.get_task(3573)\u001b[0m\u001b[0;34m\u001b[0m\u001b[0;34m\u001b[0m\u001b[0m\n\u001b[0;32m----> 2\u001b[0;31m \u001b[0mrun\u001b[0m \u001b[0;34m=\u001b[0m \u001b[0mtes_oml\u001b[0m\u001b[0;34m.\u001b[0m\u001b[0mruns\u001b[0m\u001b[0;34m.\u001b[0m\u001b[0mrun_model_on_task\u001b[0m\u001b[0;34m(\u001b[0m\u001b[0mtask\u001b[0m\u001b[0;34m,\u001b[0m \u001b[0mm\u001b[0m\u001b[0;34m)\u001b[0m\u001b[0;34m\u001b[0m\u001b[0m\n\u001b[0m\u001b[1;32m      3\u001b[0m \u001b[0;31m#myrun = run.publish()\u001b[0m\u001b[0;34m\u001b[0m\u001b[0;34m\u001b[0m\u001b[0m\n\u001b[1;32m      4\u001b[0m \u001b[0;31m#print(\"Uploaded to http://www.openml.org/r/\" + str(myrun.run_id))\u001b[0m\u001b[0;34m\u001b[0m\u001b[0;34m\u001b[0m\u001b[0m\n",
      "\u001b[0;32m/home/irfan/irfan/OpenMLKeras/openml-python/openml/runs/functions.py\u001b[0m in \u001b[0;36mrun_model_on_task\u001b[0;34m(task, model, avoid_duplicate_runs, flow_tags, seed)\u001b[0m\n\u001b[1;32m     87\u001b[0m     return run_flow_on_task(task=task, flow=flow,\n\u001b[1;32m     88\u001b[0m                             \u001b[0mavoid_duplicate_runs\u001b[0m\u001b[0;34m=\u001b[0m\u001b[0mavoid_duplicate_runs\u001b[0m\u001b[0;34m,\u001b[0m\u001b[0;34m\u001b[0m\u001b[0m\n\u001b[0;32m---> 89\u001b[0;31m                             flow_tags=flow_tags, seed=seed)\n\u001b[0m\u001b[1;32m     90\u001b[0m \u001b[0;34m\u001b[0m\u001b[0m\n\u001b[1;32m     91\u001b[0m \u001b[0;34m\u001b[0m\u001b[0m\n",
      "\u001b[0;32m/home/irfan/irfan/OpenMLKeras/openml-python/openml/runs/functions.py\u001b[0m in \u001b[0;36mrun_flow_on_task\u001b[0;34m(task, flow, avoid_duplicate_runs, flow_tags, seed)\u001b[0m\n\u001b[1;32m    147\u001b[0m \u001b[0;34m\u001b[0m\u001b[0m\n\u001b[1;32m    148\u001b[0m     \u001b[0;31m# execute the run\u001b[0m\u001b[0;34m\u001b[0m\u001b[0;34m\u001b[0m\u001b[0m\n\u001b[0;32m--> 149\u001b[0;31m     \u001b[0mres\u001b[0m \u001b[0;34m=\u001b[0m \u001b[0m_run_task_get_arffcontent\u001b[0m\u001b[0;34m(\u001b[0m\u001b[0mflow\u001b[0m\u001b[0;34m.\u001b[0m\u001b[0mmodel\u001b[0m\u001b[0;34m,\u001b[0m \u001b[0mtask\u001b[0m\u001b[0;34m)\u001b[0m\u001b[0;34m\u001b[0m\u001b[0m\n\u001b[0m\u001b[1;32m    150\u001b[0m \u001b[0;34m\u001b[0m\u001b[0m\n\u001b[1;32m    151\u001b[0m     \u001b[0;31m# in case the flow not exists, we will get a \"False\" back (which can be\u001b[0m\u001b[0;34m\u001b[0m\u001b[0;34m\u001b[0m\u001b[0m\n",
      "\u001b[0;32m/home/irfan/irfan/OpenMLKeras/openml-python/openml/runs/functions.py\u001b[0m in \u001b[0;36m_run_task_get_arffcontent\u001b[0;34m(model, task)\u001b[0m\n\u001b[1;32m    449\u001b[0m         \u001b[0;32mfor\u001b[0m \u001b[0mfold_no\u001b[0m \u001b[0;32min\u001b[0m \u001b[0mrange\u001b[0m\u001b[0;34m(\u001b[0m\u001b[0mnum_folds\u001b[0m\u001b[0;34m)\u001b[0m\u001b[0;34m:\u001b[0m\u001b[0;34m\u001b[0m\u001b[0m\n\u001b[1;32m    450\u001b[0m             \u001b[0;32mfor\u001b[0m \u001b[0msample_no\u001b[0m \u001b[0;32min\u001b[0m \u001b[0mrange\u001b[0m\u001b[0;34m(\u001b[0m\u001b[0mnum_samples\u001b[0m\u001b[0;34m)\u001b[0m\u001b[0;34m:\u001b[0m\u001b[0;34m\u001b[0m\u001b[0m\n\u001b[0;32m--> 451\u001b[0;31m                 \u001b[0mmodel_fold\u001b[0m \u001b[0;34m=\u001b[0m \u001b[0msklearn\u001b[0m\u001b[0;34m.\u001b[0m\u001b[0mbase\u001b[0m\u001b[0;34m.\u001b[0m\u001b[0mclone\u001b[0m\u001b[0;34m(\u001b[0m\u001b[0mmodel\u001b[0m\u001b[0;34m,\u001b[0m \u001b[0msafe\u001b[0m\u001b[0;34m=\u001b[0m\u001b[0;32mTrue\u001b[0m\u001b[0;34m)\u001b[0m\u001b[0;34m\u001b[0m\u001b[0m\n\u001b[0m\u001b[1;32m    452\u001b[0m                 \u001b[0mres\u001b[0m \u001b[0;34m=\u001b[0m\u001b[0m_run_model_on_fold\u001b[0m\u001b[0;34m(\u001b[0m\u001b[0mmodel_fold\u001b[0m\u001b[0;34m,\u001b[0m \u001b[0mtask\u001b[0m\u001b[0;34m,\u001b[0m \u001b[0mrep_no\u001b[0m\u001b[0;34m,\u001b[0m \u001b[0mfold_no\u001b[0m\u001b[0;34m,\u001b[0m \u001b[0msample_no\u001b[0m\u001b[0;34m,\u001b[0m \u001b[0mcan_measure_runtime\u001b[0m\u001b[0;34m)\u001b[0m\u001b[0;34m\u001b[0m\u001b[0m\n\u001b[1;32m    453\u001b[0m                 \u001b[0marff_datacontent_fold\u001b[0m\u001b[0;34m,\u001b[0m \u001b[0marff_tracecontent_fold\u001b[0m\u001b[0;34m,\u001b[0m \u001b[0muser_defined_measures_fold\u001b[0m\u001b[0;34m,\u001b[0m \u001b[0mmodel_fold\u001b[0m \u001b[0;34m=\u001b[0m \u001b[0mres\u001b[0m\u001b[0;34m\u001b[0m\u001b[0m\n",
      "\u001b[0;32m/home/irfan/anaconda3/lib/python3.6/site-packages/sklearn/base.py\u001b[0m in \u001b[0;36mclone\u001b[0;34m(estimator, safe)\u001b[0m\n\u001b[1;32m     67\u001b[0m     \u001b[0mnew_object_params\u001b[0m \u001b[0;34m=\u001b[0m \u001b[0mestimator\u001b[0m\u001b[0;34m.\u001b[0m\u001b[0mget_params\u001b[0m\u001b[0;34m(\u001b[0m\u001b[0mdeep\u001b[0m\u001b[0;34m=\u001b[0m\u001b[0;32mFalse\u001b[0m\u001b[0;34m)\u001b[0m\u001b[0;34m\u001b[0m\u001b[0m\n\u001b[1;32m     68\u001b[0m     \u001b[0;32mfor\u001b[0m \u001b[0mname\u001b[0m\u001b[0;34m,\u001b[0m \u001b[0mparam\u001b[0m \u001b[0;32min\u001b[0m \u001b[0msix\u001b[0m\u001b[0;34m.\u001b[0m\u001b[0miteritems\u001b[0m\u001b[0;34m(\u001b[0m\u001b[0mnew_object_params\u001b[0m\u001b[0;34m)\u001b[0m\u001b[0;34m:\u001b[0m\u001b[0;34m\u001b[0m\u001b[0m\n\u001b[0;32m---> 69\u001b[0;31m         \u001b[0mnew_object_params\u001b[0m\u001b[0;34m[\u001b[0m\u001b[0mname\u001b[0m\u001b[0;34m]\u001b[0m \u001b[0;34m=\u001b[0m \u001b[0mclone\u001b[0m\u001b[0;34m(\u001b[0m\u001b[0mparam\u001b[0m\u001b[0;34m,\u001b[0m \u001b[0msafe\u001b[0m\u001b[0;34m=\u001b[0m\u001b[0;32mFalse\u001b[0m\u001b[0;34m)\u001b[0m\u001b[0;34m\u001b[0m\u001b[0m\n\u001b[0m\u001b[1;32m     70\u001b[0m     \u001b[0mnew_object\u001b[0m \u001b[0;34m=\u001b[0m \u001b[0mklass\u001b[0m\u001b[0;34m(\u001b[0m\u001b[0;34m**\u001b[0m\u001b[0mnew_object_params\u001b[0m\u001b[0;34m)\u001b[0m\u001b[0;34m\u001b[0m\u001b[0m\n\u001b[1;32m     71\u001b[0m     \u001b[0mparams_set\u001b[0m \u001b[0;34m=\u001b[0m \u001b[0mnew_object\u001b[0m\u001b[0;34m.\u001b[0m\u001b[0mget_params\u001b[0m\u001b[0;34m(\u001b[0m\u001b[0mdeep\u001b[0m\u001b[0;34m=\u001b[0m\u001b[0;32mFalse\u001b[0m\u001b[0;34m)\u001b[0m\u001b[0;34m\u001b[0m\u001b[0m\n",
      "\u001b[0;32m/home/irfan/anaconda3/lib/python3.6/site-packages/sklearn/base.py\u001b[0m in \u001b[0;36mclone\u001b[0;34m(estimator, safe)\u001b[0m\n\u001b[1;32m     58\u001b[0m     \u001b[0;32melif\u001b[0m \u001b[0;32mnot\u001b[0m \u001b[0mhasattr\u001b[0m\u001b[0;34m(\u001b[0m\u001b[0mestimator\u001b[0m\u001b[0;34m,\u001b[0m \u001b[0;34m'get_params'\u001b[0m\u001b[0;34m)\u001b[0m\u001b[0;34m:\u001b[0m\u001b[0;34m\u001b[0m\u001b[0m\n\u001b[1;32m     59\u001b[0m         \u001b[0;32mif\u001b[0m \u001b[0;32mnot\u001b[0m \u001b[0msafe\u001b[0m\u001b[0;34m:\u001b[0m\u001b[0;34m\u001b[0m\u001b[0m\n\u001b[0;32m---> 60\u001b[0;31m             \u001b[0;32mreturn\u001b[0m \u001b[0mcopy\u001b[0m\u001b[0;34m.\u001b[0m\u001b[0mdeepcopy\u001b[0m\u001b[0;34m(\u001b[0m\u001b[0mestimator\u001b[0m\u001b[0;34m)\u001b[0m\u001b[0;34m\u001b[0m\u001b[0m\n\u001b[0m\u001b[1;32m     61\u001b[0m         \u001b[0;32melse\u001b[0m\u001b[0;34m:\u001b[0m\u001b[0;34m\u001b[0m\u001b[0m\n\u001b[1;32m     62\u001b[0m             raise TypeError(\"Cannot clone object '%s' (type %s): \"\n",
      "\u001b[0;32m/home/irfan/anaconda3/lib/python3.6/copy.py\u001b[0m in \u001b[0;36mdeepcopy\u001b[0;34m(x, memo, _nil)\u001b[0m\n\u001b[1;32m    178\u001b[0m                     \u001b[0my\u001b[0m \u001b[0;34m=\u001b[0m \u001b[0mx\u001b[0m\u001b[0;34m\u001b[0m\u001b[0m\n\u001b[1;32m    179\u001b[0m                 \u001b[0;32melse\u001b[0m\u001b[0;34m:\u001b[0m\u001b[0;34m\u001b[0m\u001b[0m\n\u001b[0;32m--> 180\u001b[0;31m                     \u001b[0my\u001b[0m \u001b[0;34m=\u001b[0m \u001b[0m_reconstruct\u001b[0m\u001b[0;34m(\u001b[0m\u001b[0mx\u001b[0m\u001b[0;34m,\u001b[0m \u001b[0mmemo\u001b[0m\u001b[0;34m,\u001b[0m \u001b[0;34m*\u001b[0m\u001b[0mrv\u001b[0m\u001b[0;34m)\u001b[0m\u001b[0;34m\u001b[0m\u001b[0m\n\u001b[0m\u001b[1;32m    181\u001b[0m \u001b[0;34m\u001b[0m\u001b[0m\n\u001b[1;32m    182\u001b[0m     \u001b[0;31m# If is its own copy, don't memoize.\u001b[0m\u001b[0;34m\u001b[0m\u001b[0;34m\u001b[0m\u001b[0m\n",
      "\u001b[0;32m/home/irfan/anaconda3/lib/python3.6/copy.py\u001b[0m in \u001b[0;36m_reconstruct\u001b[0;34m(x, memo, func, args, state, listiter, dictiter, deepcopy)\u001b[0m\n\u001b[1;32m    278\u001b[0m     \u001b[0;32mif\u001b[0m \u001b[0mstate\u001b[0m \u001b[0;32mis\u001b[0m \u001b[0;32mnot\u001b[0m \u001b[0;32mNone\u001b[0m\u001b[0;34m:\u001b[0m\u001b[0;34m\u001b[0m\u001b[0m\n\u001b[1;32m    279\u001b[0m         \u001b[0;32mif\u001b[0m \u001b[0mdeep\u001b[0m\u001b[0;34m:\u001b[0m\u001b[0;34m\u001b[0m\u001b[0m\n\u001b[0;32m--> 280\u001b[0;31m             \u001b[0mstate\u001b[0m \u001b[0;34m=\u001b[0m \u001b[0mdeepcopy\u001b[0m\u001b[0;34m(\u001b[0m\u001b[0mstate\u001b[0m\u001b[0;34m,\u001b[0m \u001b[0mmemo\u001b[0m\u001b[0;34m)\u001b[0m\u001b[0;34m\u001b[0m\u001b[0m\n\u001b[0m\u001b[1;32m    281\u001b[0m         \u001b[0;32mif\u001b[0m \u001b[0mhasattr\u001b[0m\u001b[0;34m(\u001b[0m\u001b[0my\u001b[0m\u001b[0;34m,\u001b[0m \u001b[0;34m'__setstate__'\u001b[0m\u001b[0;34m)\u001b[0m\u001b[0;34m:\u001b[0m\u001b[0;34m\u001b[0m\u001b[0m\n\u001b[1;32m    282\u001b[0m             \u001b[0my\u001b[0m\u001b[0;34m.\u001b[0m\u001b[0m__setstate__\u001b[0m\u001b[0;34m(\u001b[0m\u001b[0mstate\u001b[0m\u001b[0;34m)\u001b[0m\u001b[0;34m\u001b[0m\u001b[0m\n",
      "\u001b[0;32m/home/irfan/anaconda3/lib/python3.6/copy.py\u001b[0m in \u001b[0;36mdeepcopy\u001b[0;34m(x, memo, _nil)\u001b[0m\n\u001b[1;32m    148\u001b[0m     \u001b[0mcopier\u001b[0m \u001b[0;34m=\u001b[0m \u001b[0m_deepcopy_dispatch\u001b[0m\u001b[0;34m.\u001b[0m\u001b[0mget\u001b[0m\u001b[0;34m(\u001b[0m\u001b[0mcls\u001b[0m\u001b[0;34m)\u001b[0m\u001b[0;34m\u001b[0m\u001b[0m\n\u001b[1;32m    149\u001b[0m     \u001b[0;32mif\u001b[0m \u001b[0mcopier\u001b[0m\u001b[0;34m:\u001b[0m\u001b[0;34m\u001b[0m\u001b[0m\n\u001b[0;32m--> 150\u001b[0;31m         \u001b[0my\u001b[0m \u001b[0;34m=\u001b[0m \u001b[0mcopier\u001b[0m\u001b[0;34m(\u001b[0m\u001b[0mx\u001b[0m\u001b[0;34m,\u001b[0m \u001b[0mmemo\u001b[0m\u001b[0;34m)\u001b[0m\u001b[0;34m\u001b[0m\u001b[0m\n\u001b[0m\u001b[1;32m    151\u001b[0m     \u001b[0;32melse\u001b[0m\u001b[0;34m:\u001b[0m\u001b[0;34m\u001b[0m\u001b[0m\n\u001b[1;32m    152\u001b[0m         \u001b[0;32mtry\u001b[0m\u001b[0;34m:\u001b[0m\u001b[0;34m\u001b[0m\u001b[0m\n",
      "\u001b[0;32m/home/irfan/anaconda3/lib/python3.6/copy.py\u001b[0m in \u001b[0;36m_deepcopy_dict\u001b[0;34m(x, memo, deepcopy)\u001b[0m\n\u001b[1;32m    238\u001b[0m     \u001b[0mmemo\u001b[0m\u001b[0;34m[\u001b[0m\u001b[0mid\u001b[0m\u001b[0;34m(\u001b[0m\u001b[0mx\u001b[0m\u001b[0;34m)\u001b[0m\u001b[0;34m]\u001b[0m \u001b[0;34m=\u001b[0m \u001b[0my\u001b[0m\u001b[0;34m\u001b[0m\u001b[0m\n\u001b[1;32m    239\u001b[0m     \u001b[0;32mfor\u001b[0m \u001b[0mkey\u001b[0m\u001b[0;34m,\u001b[0m \u001b[0mvalue\u001b[0m \u001b[0;32min\u001b[0m \u001b[0mx\u001b[0m\u001b[0;34m.\u001b[0m\u001b[0mitems\u001b[0m\u001b[0;34m(\u001b[0m\u001b[0;34m)\u001b[0m\u001b[0;34m:\u001b[0m\u001b[0;34m\u001b[0m\u001b[0m\n\u001b[0;32m--> 240\u001b[0;31m         \u001b[0my\u001b[0m\u001b[0;34m[\u001b[0m\u001b[0mdeepcopy\u001b[0m\u001b[0;34m(\u001b[0m\u001b[0mkey\u001b[0m\u001b[0;34m,\u001b[0m \u001b[0mmemo\u001b[0m\u001b[0;34m)\u001b[0m\u001b[0;34m]\u001b[0m \u001b[0;34m=\u001b[0m \u001b[0mdeepcopy\u001b[0m\u001b[0;34m(\u001b[0m\u001b[0mvalue\u001b[0m\u001b[0;34m,\u001b[0m \u001b[0mmemo\u001b[0m\u001b[0;34m)\u001b[0m\u001b[0;34m\u001b[0m\u001b[0m\n\u001b[0m\u001b[1;32m    241\u001b[0m     \u001b[0;32mreturn\u001b[0m \u001b[0my\u001b[0m\u001b[0;34m\u001b[0m\u001b[0m\n\u001b[1;32m    242\u001b[0m \u001b[0md\u001b[0m\u001b[0;34m[\u001b[0m\u001b[0mdict\u001b[0m\u001b[0;34m]\u001b[0m \u001b[0;34m=\u001b[0m \u001b[0m_deepcopy_dict\u001b[0m\u001b[0;34m\u001b[0m\u001b[0m\n",
      "\u001b[0;32m/home/irfan/anaconda3/lib/python3.6/copy.py\u001b[0m in \u001b[0;36mdeepcopy\u001b[0;34m(x, memo, _nil)\u001b[0m\n\u001b[1;32m    148\u001b[0m     \u001b[0mcopier\u001b[0m \u001b[0;34m=\u001b[0m \u001b[0m_deepcopy_dispatch\u001b[0m\u001b[0;34m.\u001b[0m\u001b[0mget\u001b[0m\u001b[0;34m(\u001b[0m\u001b[0mcls\u001b[0m\u001b[0;34m)\u001b[0m\u001b[0;34m\u001b[0m\u001b[0m\n\u001b[1;32m    149\u001b[0m     \u001b[0;32mif\u001b[0m \u001b[0mcopier\u001b[0m\u001b[0;34m:\u001b[0m\u001b[0;34m\u001b[0m\u001b[0m\n\u001b[0;32m--> 150\u001b[0;31m         \u001b[0my\u001b[0m \u001b[0;34m=\u001b[0m \u001b[0mcopier\u001b[0m\u001b[0;34m(\u001b[0m\u001b[0mx\u001b[0m\u001b[0;34m,\u001b[0m \u001b[0mmemo\u001b[0m\u001b[0;34m)\u001b[0m\u001b[0;34m\u001b[0m\u001b[0m\n\u001b[0m\u001b[1;32m    151\u001b[0m     \u001b[0;32melse\u001b[0m\u001b[0;34m:\u001b[0m\u001b[0;34m\u001b[0m\u001b[0m\n\u001b[1;32m    152\u001b[0m         \u001b[0;32mtry\u001b[0m\u001b[0;34m:\u001b[0m\u001b[0;34m\u001b[0m\u001b[0m\n",
      "\u001b[0;32m/home/irfan/anaconda3/lib/python3.6/copy.py\u001b[0m in \u001b[0;36m_deepcopy_list\u001b[0;34m(x, memo, deepcopy)\u001b[0m\n\u001b[1;32m    213\u001b[0m     \u001b[0mappend\u001b[0m \u001b[0;34m=\u001b[0m \u001b[0my\u001b[0m\u001b[0;34m.\u001b[0m\u001b[0mappend\u001b[0m\u001b[0;34m\u001b[0m\u001b[0m\n\u001b[1;32m    214\u001b[0m     \u001b[0;32mfor\u001b[0m \u001b[0ma\u001b[0m \u001b[0;32min\u001b[0m \u001b[0mx\u001b[0m\u001b[0;34m:\u001b[0m\u001b[0;34m\u001b[0m\u001b[0m\n\u001b[0;32m--> 215\u001b[0;31m         \u001b[0mappend\u001b[0m\u001b[0;34m(\u001b[0m\u001b[0mdeepcopy\u001b[0m\u001b[0;34m(\u001b[0m\u001b[0ma\u001b[0m\u001b[0;34m,\u001b[0m \u001b[0mmemo\u001b[0m\u001b[0;34m)\u001b[0m\u001b[0;34m)\u001b[0m\u001b[0;34m\u001b[0m\u001b[0m\n\u001b[0m\u001b[1;32m    216\u001b[0m     \u001b[0;32mreturn\u001b[0m \u001b[0my\u001b[0m\u001b[0;34m\u001b[0m\u001b[0m\n\u001b[1;32m    217\u001b[0m \u001b[0md\u001b[0m\u001b[0;34m[\u001b[0m\u001b[0mlist\u001b[0m\u001b[0;34m]\u001b[0m \u001b[0;34m=\u001b[0m \u001b[0m_deepcopy_list\u001b[0m\u001b[0;34m\u001b[0m\u001b[0m\n",
      "\u001b[0;32m/home/irfan/anaconda3/lib/python3.6/copy.py\u001b[0m in \u001b[0;36mdeepcopy\u001b[0;34m(x, memo, _nil)\u001b[0m\n\u001b[1;32m    178\u001b[0m                     \u001b[0my\u001b[0m \u001b[0;34m=\u001b[0m \u001b[0mx\u001b[0m\u001b[0;34m\u001b[0m\u001b[0m\n\u001b[1;32m    179\u001b[0m                 \u001b[0;32melse\u001b[0m\u001b[0;34m:\u001b[0m\u001b[0;34m\u001b[0m\u001b[0m\n\u001b[0;32m--> 180\u001b[0;31m                     \u001b[0my\u001b[0m \u001b[0;34m=\u001b[0m \u001b[0m_reconstruct\u001b[0m\u001b[0;34m(\u001b[0m\u001b[0mx\u001b[0m\u001b[0;34m,\u001b[0m \u001b[0mmemo\u001b[0m\u001b[0;34m,\u001b[0m \u001b[0;34m*\u001b[0m\u001b[0mrv\u001b[0m\u001b[0;34m)\u001b[0m\u001b[0;34m\u001b[0m\u001b[0m\n\u001b[0m\u001b[1;32m    181\u001b[0m \u001b[0;34m\u001b[0m\u001b[0m\n\u001b[1;32m    182\u001b[0m     \u001b[0;31m# If is its own copy, don't memoize.\u001b[0m\u001b[0;34m\u001b[0m\u001b[0;34m\u001b[0m\u001b[0m\n",
      "\u001b[0;32m/home/irfan/anaconda3/lib/python3.6/copy.py\u001b[0m in \u001b[0;36m_reconstruct\u001b[0;34m(x, memo, func, args, state, listiter, dictiter, deepcopy)\u001b[0m\n\u001b[1;32m    278\u001b[0m     \u001b[0;32mif\u001b[0m \u001b[0mstate\u001b[0m \u001b[0;32mis\u001b[0m \u001b[0;32mnot\u001b[0m \u001b[0;32mNone\u001b[0m\u001b[0;34m:\u001b[0m\u001b[0;34m\u001b[0m\u001b[0m\n\u001b[1;32m    279\u001b[0m         \u001b[0;32mif\u001b[0m \u001b[0mdeep\u001b[0m\u001b[0;34m:\u001b[0m\u001b[0;34m\u001b[0m\u001b[0m\n\u001b[0;32m--> 280\u001b[0;31m             \u001b[0mstate\u001b[0m \u001b[0;34m=\u001b[0m \u001b[0mdeepcopy\u001b[0m\u001b[0;34m(\u001b[0m\u001b[0mstate\u001b[0m\u001b[0;34m,\u001b[0m \u001b[0mmemo\u001b[0m\u001b[0;34m)\u001b[0m\u001b[0;34m\u001b[0m\u001b[0m\n\u001b[0m\u001b[1;32m    281\u001b[0m         \u001b[0;32mif\u001b[0m \u001b[0mhasattr\u001b[0m\u001b[0;34m(\u001b[0m\u001b[0my\u001b[0m\u001b[0;34m,\u001b[0m \u001b[0;34m'__setstate__'\u001b[0m\u001b[0;34m)\u001b[0m\u001b[0;34m:\u001b[0m\u001b[0;34m\u001b[0m\u001b[0m\n\u001b[1;32m    282\u001b[0m             \u001b[0my\u001b[0m\u001b[0;34m.\u001b[0m\u001b[0m__setstate__\u001b[0m\u001b[0;34m(\u001b[0m\u001b[0mstate\u001b[0m\u001b[0;34m)\u001b[0m\u001b[0;34m\u001b[0m\u001b[0m\n",
      "\u001b[0;32m/home/irfan/anaconda3/lib/python3.6/copy.py\u001b[0m in \u001b[0;36mdeepcopy\u001b[0;34m(x, memo, _nil)\u001b[0m\n\u001b[1;32m    148\u001b[0m     \u001b[0mcopier\u001b[0m \u001b[0;34m=\u001b[0m \u001b[0m_deepcopy_dispatch\u001b[0m\u001b[0;34m.\u001b[0m\u001b[0mget\u001b[0m\u001b[0;34m(\u001b[0m\u001b[0mcls\u001b[0m\u001b[0;34m)\u001b[0m\u001b[0;34m\u001b[0m\u001b[0m\n\u001b[1;32m    149\u001b[0m     \u001b[0;32mif\u001b[0m \u001b[0mcopier\u001b[0m\u001b[0;34m:\u001b[0m\u001b[0;34m\u001b[0m\u001b[0m\n\u001b[0;32m--> 150\u001b[0;31m         \u001b[0my\u001b[0m \u001b[0;34m=\u001b[0m \u001b[0mcopier\u001b[0m\u001b[0;34m(\u001b[0m\u001b[0mx\u001b[0m\u001b[0;34m,\u001b[0m \u001b[0mmemo\u001b[0m\u001b[0;34m)\u001b[0m\u001b[0;34m\u001b[0m\u001b[0m\n\u001b[0m\u001b[1;32m    151\u001b[0m     \u001b[0;32melse\u001b[0m\u001b[0;34m:\u001b[0m\u001b[0;34m\u001b[0m\u001b[0m\n\u001b[1;32m    152\u001b[0m         \u001b[0;32mtry\u001b[0m\u001b[0;34m:\u001b[0m\u001b[0;34m\u001b[0m\u001b[0m\n",
      "\u001b[0;32m/home/irfan/anaconda3/lib/python3.6/copy.py\u001b[0m in \u001b[0;36m_deepcopy_dict\u001b[0;34m(x, memo, deepcopy)\u001b[0m\n\u001b[1;32m    238\u001b[0m     \u001b[0mmemo\u001b[0m\u001b[0;34m[\u001b[0m\u001b[0mid\u001b[0m\u001b[0;34m(\u001b[0m\u001b[0mx\u001b[0m\u001b[0;34m)\u001b[0m\u001b[0;34m]\u001b[0m \u001b[0;34m=\u001b[0m \u001b[0my\u001b[0m\u001b[0;34m\u001b[0m\u001b[0m\n\u001b[1;32m    239\u001b[0m     \u001b[0;32mfor\u001b[0m \u001b[0mkey\u001b[0m\u001b[0;34m,\u001b[0m \u001b[0mvalue\u001b[0m \u001b[0;32min\u001b[0m \u001b[0mx\u001b[0m\u001b[0;34m.\u001b[0m\u001b[0mitems\u001b[0m\u001b[0;34m(\u001b[0m\u001b[0;34m)\u001b[0m\u001b[0;34m:\u001b[0m\u001b[0;34m\u001b[0m\u001b[0m\n\u001b[0;32m--> 240\u001b[0;31m         \u001b[0my\u001b[0m\u001b[0;34m[\u001b[0m\u001b[0mdeepcopy\u001b[0m\u001b[0;34m(\u001b[0m\u001b[0mkey\u001b[0m\u001b[0;34m,\u001b[0m \u001b[0mmemo\u001b[0m\u001b[0;34m)\u001b[0m\u001b[0;34m]\u001b[0m \u001b[0;34m=\u001b[0m \u001b[0mdeepcopy\u001b[0m\u001b[0;34m(\u001b[0m\u001b[0mvalue\u001b[0m\u001b[0;34m,\u001b[0m \u001b[0mmemo\u001b[0m\u001b[0;34m)\u001b[0m\u001b[0;34m\u001b[0m\u001b[0m\n\u001b[0m\u001b[1;32m    241\u001b[0m     \u001b[0;32mreturn\u001b[0m \u001b[0my\u001b[0m\u001b[0;34m\u001b[0m\u001b[0m\n\u001b[1;32m    242\u001b[0m \u001b[0md\u001b[0m\u001b[0;34m[\u001b[0m\u001b[0mdict\u001b[0m\u001b[0;34m]\u001b[0m \u001b[0;34m=\u001b[0m \u001b[0m_deepcopy_dict\u001b[0m\u001b[0;34m\u001b[0m\u001b[0m\n",
      "\u001b[0;32m/home/irfan/anaconda3/lib/python3.6/copy.py\u001b[0m in \u001b[0;36mdeepcopy\u001b[0;34m(x, memo, _nil)\u001b[0m\n\u001b[1;32m    148\u001b[0m     \u001b[0mcopier\u001b[0m \u001b[0;34m=\u001b[0m \u001b[0m_deepcopy_dispatch\u001b[0m\u001b[0;34m.\u001b[0m\u001b[0mget\u001b[0m\u001b[0;34m(\u001b[0m\u001b[0mcls\u001b[0m\u001b[0;34m)\u001b[0m\u001b[0;34m\u001b[0m\u001b[0m\n\u001b[1;32m    149\u001b[0m     \u001b[0;32mif\u001b[0m \u001b[0mcopier\u001b[0m\u001b[0;34m:\u001b[0m\u001b[0;34m\u001b[0m\u001b[0m\n\u001b[0;32m--> 150\u001b[0;31m         \u001b[0my\u001b[0m \u001b[0;34m=\u001b[0m \u001b[0mcopier\u001b[0m\u001b[0;34m(\u001b[0m\u001b[0mx\u001b[0m\u001b[0;34m,\u001b[0m \u001b[0mmemo\u001b[0m\u001b[0;34m)\u001b[0m\u001b[0;34m\u001b[0m\u001b[0m\n\u001b[0m\u001b[1;32m    151\u001b[0m     \u001b[0;32melse\u001b[0m\u001b[0;34m:\u001b[0m\u001b[0;34m\u001b[0m\u001b[0m\n\u001b[1;32m    152\u001b[0m         \u001b[0;32mtry\u001b[0m\u001b[0;34m:\u001b[0m\u001b[0;34m\u001b[0m\u001b[0m\n",
      "\u001b[0;32m/home/irfan/anaconda3/lib/python3.6/copy.py\u001b[0m in \u001b[0;36m_deepcopy_list\u001b[0;34m(x, memo, deepcopy)\u001b[0m\n\u001b[1;32m    213\u001b[0m     \u001b[0mappend\u001b[0m \u001b[0;34m=\u001b[0m \u001b[0my\u001b[0m\u001b[0;34m.\u001b[0m\u001b[0mappend\u001b[0m\u001b[0;34m\u001b[0m\u001b[0m\n\u001b[1;32m    214\u001b[0m     \u001b[0;32mfor\u001b[0m \u001b[0ma\u001b[0m \u001b[0;32min\u001b[0m \u001b[0mx\u001b[0m\u001b[0;34m:\u001b[0m\u001b[0;34m\u001b[0m\u001b[0m\n\u001b[0;32m--> 215\u001b[0;31m         \u001b[0mappend\u001b[0m\u001b[0;34m(\u001b[0m\u001b[0mdeepcopy\u001b[0m\u001b[0;34m(\u001b[0m\u001b[0ma\u001b[0m\u001b[0;34m,\u001b[0m \u001b[0mmemo\u001b[0m\u001b[0;34m)\u001b[0m\u001b[0;34m)\u001b[0m\u001b[0;34m\u001b[0m\u001b[0m\n\u001b[0m\u001b[1;32m    216\u001b[0m     \u001b[0;32mreturn\u001b[0m \u001b[0my\u001b[0m\u001b[0;34m\u001b[0m\u001b[0m\n\u001b[1;32m    217\u001b[0m \u001b[0md\u001b[0m\u001b[0;34m[\u001b[0m\u001b[0mlist\u001b[0m\u001b[0;34m]\u001b[0m \u001b[0;34m=\u001b[0m \u001b[0m_deepcopy_list\u001b[0m\u001b[0;34m\u001b[0m\u001b[0m\n",
      "\u001b[0;32m/home/irfan/anaconda3/lib/python3.6/copy.py\u001b[0m in \u001b[0;36mdeepcopy\u001b[0;34m(x, memo, _nil)\u001b[0m\n\u001b[1;32m    178\u001b[0m                     \u001b[0my\u001b[0m \u001b[0;34m=\u001b[0m \u001b[0mx\u001b[0m\u001b[0;34m\u001b[0m\u001b[0m\n\u001b[1;32m    179\u001b[0m                 \u001b[0;32melse\u001b[0m\u001b[0;34m:\u001b[0m\u001b[0;34m\u001b[0m\u001b[0m\n\u001b[0;32m--> 180\u001b[0;31m                     \u001b[0my\u001b[0m \u001b[0;34m=\u001b[0m \u001b[0m_reconstruct\u001b[0m\u001b[0;34m(\u001b[0m\u001b[0mx\u001b[0m\u001b[0;34m,\u001b[0m \u001b[0mmemo\u001b[0m\u001b[0;34m,\u001b[0m \u001b[0;34m*\u001b[0m\u001b[0mrv\u001b[0m\u001b[0;34m)\u001b[0m\u001b[0;34m\u001b[0m\u001b[0m\n\u001b[0m\u001b[1;32m    181\u001b[0m \u001b[0;34m\u001b[0m\u001b[0m\n\u001b[1;32m    182\u001b[0m     \u001b[0;31m# If is its own copy, don't memoize.\u001b[0m\u001b[0;34m\u001b[0m\u001b[0;34m\u001b[0m\u001b[0m\n",
      "\u001b[0;32m/home/irfan/anaconda3/lib/python3.6/copy.py\u001b[0m in \u001b[0;36m_reconstruct\u001b[0;34m(x, memo, func, args, state, listiter, dictiter, deepcopy)\u001b[0m\n\u001b[1;32m    278\u001b[0m     \u001b[0;32mif\u001b[0m \u001b[0mstate\u001b[0m \u001b[0;32mis\u001b[0m \u001b[0;32mnot\u001b[0m \u001b[0;32mNone\u001b[0m\u001b[0;34m:\u001b[0m\u001b[0;34m\u001b[0m\u001b[0m\n\u001b[1;32m    279\u001b[0m         \u001b[0;32mif\u001b[0m \u001b[0mdeep\u001b[0m\u001b[0;34m:\u001b[0m\u001b[0;34m\u001b[0m\u001b[0m\n\u001b[0;32m--> 280\u001b[0;31m             \u001b[0mstate\u001b[0m \u001b[0;34m=\u001b[0m \u001b[0mdeepcopy\u001b[0m\u001b[0;34m(\u001b[0m\u001b[0mstate\u001b[0m\u001b[0;34m,\u001b[0m \u001b[0mmemo\u001b[0m\u001b[0;34m)\u001b[0m\u001b[0;34m\u001b[0m\u001b[0m\n\u001b[0m\u001b[1;32m    281\u001b[0m         \u001b[0;32mif\u001b[0m \u001b[0mhasattr\u001b[0m\u001b[0;34m(\u001b[0m\u001b[0my\u001b[0m\u001b[0;34m,\u001b[0m \u001b[0;34m'__setstate__'\u001b[0m\u001b[0;34m)\u001b[0m\u001b[0;34m:\u001b[0m\u001b[0;34m\u001b[0m\u001b[0m\n\u001b[1;32m    282\u001b[0m             \u001b[0my\u001b[0m\u001b[0;34m.\u001b[0m\u001b[0m__setstate__\u001b[0m\u001b[0;34m(\u001b[0m\u001b[0mstate\u001b[0m\u001b[0;34m)\u001b[0m\u001b[0;34m\u001b[0m\u001b[0m\n",
      "\u001b[0;32m/home/irfan/anaconda3/lib/python3.6/copy.py\u001b[0m in \u001b[0;36mdeepcopy\u001b[0;34m(x, memo, _nil)\u001b[0m\n\u001b[1;32m    148\u001b[0m     \u001b[0mcopier\u001b[0m \u001b[0;34m=\u001b[0m \u001b[0m_deepcopy_dispatch\u001b[0m\u001b[0;34m.\u001b[0m\u001b[0mget\u001b[0m\u001b[0;34m(\u001b[0m\u001b[0mcls\u001b[0m\u001b[0;34m)\u001b[0m\u001b[0;34m\u001b[0m\u001b[0m\n\u001b[1;32m    149\u001b[0m     \u001b[0;32mif\u001b[0m \u001b[0mcopier\u001b[0m\u001b[0;34m:\u001b[0m\u001b[0;34m\u001b[0m\u001b[0m\n\u001b[0;32m--> 150\u001b[0;31m         \u001b[0my\u001b[0m \u001b[0;34m=\u001b[0m \u001b[0mcopier\u001b[0m\u001b[0;34m(\u001b[0m\u001b[0mx\u001b[0m\u001b[0;34m,\u001b[0m \u001b[0mmemo\u001b[0m\u001b[0;34m)\u001b[0m\u001b[0;34m\u001b[0m\u001b[0m\n\u001b[0m\u001b[1;32m    151\u001b[0m     \u001b[0;32melse\u001b[0m\u001b[0;34m:\u001b[0m\u001b[0;34m\u001b[0m\u001b[0m\n\u001b[1;32m    152\u001b[0m         \u001b[0;32mtry\u001b[0m\u001b[0;34m:\u001b[0m\u001b[0;34m\u001b[0m\u001b[0m\n",
      "\u001b[0;32m/home/irfan/anaconda3/lib/python3.6/copy.py\u001b[0m in \u001b[0;36m_deepcopy_dict\u001b[0;34m(x, memo, deepcopy)\u001b[0m\n\u001b[1;32m    238\u001b[0m     \u001b[0mmemo\u001b[0m\u001b[0;34m[\u001b[0m\u001b[0mid\u001b[0m\u001b[0;34m(\u001b[0m\u001b[0mx\u001b[0m\u001b[0;34m)\u001b[0m\u001b[0;34m]\u001b[0m \u001b[0;34m=\u001b[0m \u001b[0my\u001b[0m\u001b[0;34m\u001b[0m\u001b[0m\n\u001b[1;32m    239\u001b[0m     \u001b[0;32mfor\u001b[0m \u001b[0mkey\u001b[0m\u001b[0;34m,\u001b[0m \u001b[0mvalue\u001b[0m \u001b[0;32min\u001b[0m \u001b[0mx\u001b[0m\u001b[0;34m.\u001b[0m\u001b[0mitems\u001b[0m\u001b[0;34m(\u001b[0m\u001b[0;34m)\u001b[0m\u001b[0;34m:\u001b[0m\u001b[0;34m\u001b[0m\u001b[0m\n\u001b[0;32m--> 240\u001b[0;31m         \u001b[0my\u001b[0m\u001b[0;34m[\u001b[0m\u001b[0mdeepcopy\u001b[0m\u001b[0;34m(\u001b[0m\u001b[0mkey\u001b[0m\u001b[0;34m,\u001b[0m \u001b[0mmemo\u001b[0m\u001b[0;34m)\u001b[0m\u001b[0;34m]\u001b[0m \u001b[0;34m=\u001b[0m \u001b[0mdeepcopy\u001b[0m\u001b[0;34m(\u001b[0m\u001b[0mvalue\u001b[0m\u001b[0;34m,\u001b[0m \u001b[0mmemo\u001b[0m\u001b[0;34m)\u001b[0m\u001b[0;34m\u001b[0m\u001b[0m\n\u001b[0m\u001b[1;32m    241\u001b[0m     \u001b[0;32mreturn\u001b[0m \u001b[0my\u001b[0m\u001b[0;34m\u001b[0m\u001b[0m\n\u001b[1;32m    242\u001b[0m \u001b[0md\u001b[0m\u001b[0;34m[\u001b[0m\u001b[0mdict\u001b[0m\u001b[0;34m]\u001b[0m \u001b[0;34m=\u001b[0m \u001b[0m_deepcopy_dict\u001b[0m\u001b[0;34m\u001b[0m\u001b[0m\n",
      "\u001b[0;32m/home/irfan/anaconda3/lib/python3.6/copy.py\u001b[0m in \u001b[0;36mdeepcopy\u001b[0;34m(x, memo, _nil)\u001b[0m\n\u001b[1;32m    148\u001b[0m     \u001b[0mcopier\u001b[0m \u001b[0;34m=\u001b[0m \u001b[0m_deepcopy_dispatch\u001b[0m\u001b[0;34m.\u001b[0m\u001b[0mget\u001b[0m\u001b[0;34m(\u001b[0m\u001b[0mcls\u001b[0m\u001b[0;34m)\u001b[0m\u001b[0;34m\u001b[0m\u001b[0m\n\u001b[1;32m    149\u001b[0m     \u001b[0;32mif\u001b[0m \u001b[0mcopier\u001b[0m\u001b[0;34m:\u001b[0m\u001b[0;34m\u001b[0m\u001b[0m\n\u001b[0;32m--> 150\u001b[0;31m         \u001b[0my\u001b[0m \u001b[0;34m=\u001b[0m \u001b[0mcopier\u001b[0m\u001b[0;34m(\u001b[0m\u001b[0mx\u001b[0m\u001b[0;34m,\u001b[0m \u001b[0mmemo\u001b[0m\u001b[0;34m)\u001b[0m\u001b[0;34m\u001b[0m\u001b[0m\n\u001b[0m\u001b[1;32m    151\u001b[0m     \u001b[0;32melse\u001b[0m\u001b[0;34m:\u001b[0m\u001b[0;34m\u001b[0m\u001b[0m\n\u001b[1;32m    152\u001b[0m         \u001b[0;32mtry\u001b[0m\u001b[0;34m:\u001b[0m\u001b[0;34m\u001b[0m\u001b[0m\n",
      "\u001b[0;32m/home/irfan/anaconda3/lib/python3.6/copy.py\u001b[0m in \u001b[0;36m_deepcopy_list\u001b[0;34m(x, memo, deepcopy)\u001b[0m\n\u001b[1;32m    213\u001b[0m     \u001b[0mappend\u001b[0m \u001b[0;34m=\u001b[0m \u001b[0my\u001b[0m\u001b[0;34m.\u001b[0m\u001b[0mappend\u001b[0m\u001b[0;34m\u001b[0m\u001b[0m\n\u001b[1;32m    214\u001b[0m     \u001b[0;32mfor\u001b[0m \u001b[0ma\u001b[0m \u001b[0;32min\u001b[0m \u001b[0mx\u001b[0m\u001b[0;34m:\u001b[0m\u001b[0;34m\u001b[0m\u001b[0m\n\u001b[0;32m--> 215\u001b[0;31m         \u001b[0mappend\u001b[0m\u001b[0;34m(\u001b[0m\u001b[0mdeepcopy\u001b[0m\u001b[0;34m(\u001b[0m\u001b[0ma\u001b[0m\u001b[0;34m,\u001b[0m \u001b[0mmemo\u001b[0m\u001b[0;34m)\u001b[0m\u001b[0;34m)\u001b[0m\u001b[0;34m\u001b[0m\u001b[0m\n\u001b[0m\u001b[1;32m    216\u001b[0m     \u001b[0;32mreturn\u001b[0m \u001b[0my\u001b[0m\u001b[0;34m\u001b[0m\u001b[0m\n\u001b[1;32m    217\u001b[0m \u001b[0md\u001b[0m\u001b[0;34m[\u001b[0m\u001b[0mlist\u001b[0m\u001b[0;34m]\u001b[0m \u001b[0;34m=\u001b[0m \u001b[0m_deepcopy_list\u001b[0m\u001b[0;34m\u001b[0m\u001b[0m\n",
      "\u001b[0;32m/home/irfan/anaconda3/lib/python3.6/copy.py\u001b[0m in \u001b[0;36mdeepcopy\u001b[0;34m(x, memo, _nil)\u001b[0m\n\u001b[1;32m    178\u001b[0m                     \u001b[0my\u001b[0m \u001b[0;34m=\u001b[0m \u001b[0mx\u001b[0m\u001b[0;34m\u001b[0m\u001b[0m\n\u001b[1;32m    179\u001b[0m                 \u001b[0;32melse\u001b[0m\u001b[0;34m:\u001b[0m\u001b[0;34m\u001b[0m\u001b[0m\n\u001b[0;32m--> 180\u001b[0;31m                     \u001b[0my\u001b[0m \u001b[0;34m=\u001b[0m \u001b[0m_reconstruct\u001b[0m\u001b[0;34m(\u001b[0m\u001b[0mx\u001b[0m\u001b[0;34m,\u001b[0m \u001b[0mmemo\u001b[0m\u001b[0;34m,\u001b[0m \u001b[0;34m*\u001b[0m\u001b[0mrv\u001b[0m\u001b[0;34m)\u001b[0m\u001b[0;34m\u001b[0m\u001b[0m\n\u001b[0m\u001b[1;32m    181\u001b[0m \u001b[0;34m\u001b[0m\u001b[0m\n\u001b[1;32m    182\u001b[0m     \u001b[0;31m# If is its own copy, don't memoize.\u001b[0m\u001b[0;34m\u001b[0m\u001b[0;34m\u001b[0m\u001b[0m\n",
      "\u001b[0;32m/home/irfan/anaconda3/lib/python3.6/copy.py\u001b[0m in \u001b[0;36m_reconstruct\u001b[0;34m(x, memo, func, args, state, listiter, dictiter, deepcopy)\u001b[0m\n\u001b[1;32m    278\u001b[0m     \u001b[0;32mif\u001b[0m \u001b[0mstate\u001b[0m \u001b[0;32mis\u001b[0m \u001b[0;32mnot\u001b[0m \u001b[0;32mNone\u001b[0m\u001b[0;34m:\u001b[0m\u001b[0;34m\u001b[0m\u001b[0m\n\u001b[1;32m    279\u001b[0m         \u001b[0;32mif\u001b[0m \u001b[0mdeep\u001b[0m\u001b[0;34m:\u001b[0m\u001b[0;34m\u001b[0m\u001b[0m\n\u001b[0;32m--> 280\u001b[0;31m             \u001b[0mstate\u001b[0m \u001b[0;34m=\u001b[0m \u001b[0mdeepcopy\u001b[0m\u001b[0;34m(\u001b[0m\u001b[0mstate\u001b[0m\u001b[0;34m,\u001b[0m \u001b[0mmemo\u001b[0m\u001b[0;34m)\u001b[0m\u001b[0;34m\u001b[0m\u001b[0m\n\u001b[0m\u001b[1;32m    281\u001b[0m         \u001b[0;32mif\u001b[0m \u001b[0mhasattr\u001b[0m\u001b[0;34m(\u001b[0m\u001b[0my\u001b[0m\u001b[0;34m,\u001b[0m \u001b[0;34m'__setstate__'\u001b[0m\u001b[0;34m)\u001b[0m\u001b[0;34m:\u001b[0m\u001b[0;34m\u001b[0m\u001b[0m\n\u001b[1;32m    282\u001b[0m             \u001b[0my\u001b[0m\u001b[0;34m.\u001b[0m\u001b[0m__setstate__\u001b[0m\u001b[0;34m(\u001b[0m\u001b[0mstate\u001b[0m\u001b[0;34m)\u001b[0m\u001b[0;34m\u001b[0m\u001b[0m\n",
      "\u001b[0;32m/home/irfan/anaconda3/lib/python3.6/copy.py\u001b[0m in \u001b[0;36mdeepcopy\u001b[0;34m(x, memo, _nil)\u001b[0m\n\u001b[1;32m    148\u001b[0m     \u001b[0mcopier\u001b[0m \u001b[0;34m=\u001b[0m \u001b[0m_deepcopy_dispatch\u001b[0m\u001b[0;34m.\u001b[0m\u001b[0mget\u001b[0m\u001b[0;34m(\u001b[0m\u001b[0mcls\u001b[0m\u001b[0;34m)\u001b[0m\u001b[0;34m\u001b[0m\u001b[0m\n\u001b[1;32m    149\u001b[0m     \u001b[0;32mif\u001b[0m \u001b[0mcopier\u001b[0m\u001b[0;34m:\u001b[0m\u001b[0;34m\u001b[0m\u001b[0m\n\u001b[0;32m--> 150\u001b[0;31m         \u001b[0my\u001b[0m \u001b[0;34m=\u001b[0m \u001b[0mcopier\u001b[0m\u001b[0;34m(\u001b[0m\u001b[0mx\u001b[0m\u001b[0;34m,\u001b[0m \u001b[0mmemo\u001b[0m\u001b[0;34m)\u001b[0m\u001b[0;34m\u001b[0m\u001b[0m\n\u001b[0m\u001b[1;32m    151\u001b[0m     \u001b[0;32melse\u001b[0m\u001b[0;34m:\u001b[0m\u001b[0;34m\u001b[0m\u001b[0m\n\u001b[1;32m    152\u001b[0m         \u001b[0;32mtry\u001b[0m\u001b[0;34m:\u001b[0m\u001b[0;34m\u001b[0m\u001b[0m\n",
      "\u001b[0;32m/home/irfan/anaconda3/lib/python3.6/copy.py\u001b[0m in \u001b[0;36m_deepcopy_dict\u001b[0;34m(x, memo, deepcopy)\u001b[0m\n\u001b[1;32m    238\u001b[0m     \u001b[0mmemo\u001b[0m\u001b[0;34m[\u001b[0m\u001b[0mid\u001b[0m\u001b[0;34m(\u001b[0m\u001b[0mx\u001b[0m\u001b[0;34m)\u001b[0m\u001b[0;34m]\u001b[0m \u001b[0;34m=\u001b[0m \u001b[0my\u001b[0m\u001b[0;34m\u001b[0m\u001b[0m\n\u001b[1;32m    239\u001b[0m     \u001b[0;32mfor\u001b[0m \u001b[0mkey\u001b[0m\u001b[0;34m,\u001b[0m \u001b[0mvalue\u001b[0m \u001b[0;32min\u001b[0m \u001b[0mx\u001b[0m\u001b[0;34m.\u001b[0m\u001b[0mitems\u001b[0m\u001b[0;34m(\u001b[0m\u001b[0;34m)\u001b[0m\u001b[0;34m:\u001b[0m\u001b[0;34m\u001b[0m\u001b[0m\n\u001b[0;32m--> 240\u001b[0;31m         \u001b[0my\u001b[0m\u001b[0;34m[\u001b[0m\u001b[0mdeepcopy\u001b[0m\u001b[0;34m(\u001b[0m\u001b[0mkey\u001b[0m\u001b[0;34m,\u001b[0m \u001b[0mmemo\u001b[0m\u001b[0;34m)\u001b[0m\u001b[0;34m]\u001b[0m \u001b[0;34m=\u001b[0m \u001b[0mdeepcopy\u001b[0m\u001b[0;34m(\u001b[0m\u001b[0mvalue\u001b[0m\u001b[0;34m,\u001b[0m \u001b[0mmemo\u001b[0m\u001b[0;34m)\u001b[0m\u001b[0;34m\u001b[0m\u001b[0m\n\u001b[0m\u001b[1;32m    241\u001b[0m     \u001b[0;32mreturn\u001b[0m \u001b[0my\u001b[0m\u001b[0;34m\u001b[0m\u001b[0m\n\u001b[1;32m    242\u001b[0m \u001b[0md\u001b[0m\u001b[0;34m[\u001b[0m\u001b[0mdict\u001b[0m\u001b[0;34m]\u001b[0m \u001b[0;34m=\u001b[0m \u001b[0m_deepcopy_dict\u001b[0m\u001b[0;34m\u001b[0m\u001b[0m\n",
      "\u001b[0;32m/home/irfan/anaconda3/lib/python3.6/copy.py\u001b[0m in \u001b[0;36mdeepcopy\u001b[0;34m(x, memo, _nil)\u001b[0m\n\u001b[1;32m    148\u001b[0m     \u001b[0mcopier\u001b[0m \u001b[0;34m=\u001b[0m \u001b[0m_deepcopy_dispatch\u001b[0m\u001b[0;34m.\u001b[0m\u001b[0mget\u001b[0m\u001b[0;34m(\u001b[0m\u001b[0mcls\u001b[0m\u001b[0;34m)\u001b[0m\u001b[0;34m\u001b[0m\u001b[0m\n\u001b[1;32m    149\u001b[0m     \u001b[0;32mif\u001b[0m \u001b[0mcopier\u001b[0m\u001b[0;34m:\u001b[0m\u001b[0;34m\u001b[0m\u001b[0m\n\u001b[0;32m--> 150\u001b[0;31m         \u001b[0my\u001b[0m \u001b[0;34m=\u001b[0m \u001b[0mcopier\u001b[0m\u001b[0;34m(\u001b[0m\u001b[0mx\u001b[0m\u001b[0;34m,\u001b[0m \u001b[0mmemo\u001b[0m\u001b[0;34m)\u001b[0m\u001b[0;34m\u001b[0m\u001b[0m\n\u001b[0m\u001b[1;32m    151\u001b[0m     \u001b[0;32melse\u001b[0m\u001b[0;34m:\u001b[0m\u001b[0;34m\u001b[0m\u001b[0m\n\u001b[1;32m    152\u001b[0m         \u001b[0;32mtry\u001b[0m\u001b[0;34m:\u001b[0m\u001b[0;34m\u001b[0m\u001b[0m\n",
      "\u001b[0;32m/home/irfan/anaconda3/lib/python3.6/copy.py\u001b[0m in \u001b[0;36m_deepcopy_list\u001b[0;34m(x, memo, deepcopy)\u001b[0m\n\u001b[1;32m    213\u001b[0m     \u001b[0mappend\u001b[0m \u001b[0;34m=\u001b[0m \u001b[0my\u001b[0m\u001b[0;34m.\u001b[0m\u001b[0mappend\u001b[0m\u001b[0;34m\u001b[0m\u001b[0m\n\u001b[1;32m    214\u001b[0m     \u001b[0;32mfor\u001b[0m \u001b[0ma\u001b[0m \u001b[0;32min\u001b[0m \u001b[0mx\u001b[0m\u001b[0;34m:\u001b[0m\u001b[0;34m\u001b[0m\u001b[0m\n\u001b[0;32m--> 215\u001b[0;31m         \u001b[0mappend\u001b[0m\u001b[0;34m(\u001b[0m\u001b[0mdeepcopy\u001b[0m\u001b[0;34m(\u001b[0m\u001b[0ma\u001b[0m\u001b[0;34m,\u001b[0m \u001b[0mmemo\u001b[0m\u001b[0;34m)\u001b[0m\u001b[0;34m)\u001b[0m\u001b[0;34m\u001b[0m\u001b[0m\n\u001b[0m\u001b[1;32m    216\u001b[0m     \u001b[0;32mreturn\u001b[0m \u001b[0my\u001b[0m\u001b[0;34m\u001b[0m\u001b[0m\n\u001b[1;32m    217\u001b[0m \u001b[0md\u001b[0m\u001b[0;34m[\u001b[0m\u001b[0mlist\u001b[0m\u001b[0;34m]\u001b[0m \u001b[0;34m=\u001b[0m \u001b[0m_deepcopy_list\u001b[0m\u001b[0;34m\u001b[0m\u001b[0m\n",
      "\u001b[0;32m/home/irfan/anaconda3/lib/python3.6/copy.py\u001b[0m in \u001b[0;36mdeepcopy\u001b[0;34m(x, memo, _nil)\u001b[0m\n\u001b[1;32m    178\u001b[0m                     \u001b[0my\u001b[0m \u001b[0;34m=\u001b[0m \u001b[0mx\u001b[0m\u001b[0;34m\u001b[0m\u001b[0m\n\u001b[1;32m    179\u001b[0m                 \u001b[0;32melse\u001b[0m\u001b[0;34m:\u001b[0m\u001b[0;34m\u001b[0m\u001b[0m\n\u001b[0;32m--> 180\u001b[0;31m                     \u001b[0my\u001b[0m \u001b[0;34m=\u001b[0m \u001b[0m_reconstruct\u001b[0m\u001b[0;34m(\u001b[0m\u001b[0mx\u001b[0m\u001b[0;34m,\u001b[0m \u001b[0mmemo\u001b[0m\u001b[0;34m,\u001b[0m \u001b[0;34m*\u001b[0m\u001b[0mrv\u001b[0m\u001b[0;34m)\u001b[0m\u001b[0;34m\u001b[0m\u001b[0m\n\u001b[0m\u001b[1;32m    181\u001b[0m \u001b[0;34m\u001b[0m\u001b[0m\n\u001b[1;32m    182\u001b[0m     \u001b[0;31m# If is its own copy, don't memoize.\u001b[0m\u001b[0;34m\u001b[0m\u001b[0;34m\u001b[0m\u001b[0m\n",
      "\u001b[0;32m/home/irfan/anaconda3/lib/python3.6/copy.py\u001b[0m in \u001b[0;36m_reconstruct\u001b[0;34m(x, memo, func, args, state, listiter, dictiter, deepcopy)\u001b[0m\n\u001b[1;32m    278\u001b[0m     \u001b[0;32mif\u001b[0m \u001b[0mstate\u001b[0m \u001b[0;32mis\u001b[0m \u001b[0;32mnot\u001b[0m \u001b[0;32mNone\u001b[0m\u001b[0;34m:\u001b[0m\u001b[0;34m\u001b[0m\u001b[0m\n\u001b[1;32m    279\u001b[0m         \u001b[0;32mif\u001b[0m \u001b[0mdeep\u001b[0m\u001b[0;34m:\u001b[0m\u001b[0;34m\u001b[0m\u001b[0m\n\u001b[0;32m--> 280\u001b[0;31m             \u001b[0mstate\u001b[0m \u001b[0;34m=\u001b[0m \u001b[0mdeepcopy\u001b[0m\u001b[0;34m(\u001b[0m\u001b[0mstate\u001b[0m\u001b[0;34m,\u001b[0m \u001b[0mmemo\u001b[0m\u001b[0;34m)\u001b[0m\u001b[0;34m\u001b[0m\u001b[0m\n\u001b[0m\u001b[1;32m    281\u001b[0m         \u001b[0;32mif\u001b[0m \u001b[0mhasattr\u001b[0m\u001b[0;34m(\u001b[0m\u001b[0my\u001b[0m\u001b[0;34m,\u001b[0m \u001b[0;34m'__setstate__'\u001b[0m\u001b[0;34m)\u001b[0m\u001b[0;34m:\u001b[0m\u001b[0;34m\u001b[0m\u001b[0m\n\u001b[1;32m    282\u001b[0m             \u001b[0my\u001b[0m\u001b[0;34m.\u001b[0m\u001b[0m__setstate__\u001b[0m\u001b[0;34m(\u001b[0m\u001b[0mstate\u001b[0m\u001b[0;34m)\u001b[0m\u001b[0;34m\u001b[0m\u001b[0m\n",
      "\u001b[0;32m/home/irfan/anaconda3/lib/python3.6/copy.py\u001b[0m in \u001b[0;36mdeepcopy\u001b[0;34m(x, memo, _nil)\u001b[0m\n\u001b[1;32m    148\u001b[0m     \u001b[0mcopier\u001b[0m \u001b[0;34m=\u001b[0m \u001b[0m_deepcopy_dispatch\u001b[0m\u001b[0;34m.\u001b[0m\u001b[0mget\u001b[0m\u001b[0;34m(\u001b[0m\u001b[0mcls\u001b[0m\u001b[0;34m)\u001b[0m\u001b[0;34m\u001b[0m\u001b[0m\n\u001b[1;32m    149\u001b[0m     \u001b[0;32mif\u001b[0m \u001b[0mcopier\u001b[0m\u001b[0;34m:\u001b[0m\u001b[0;34m\u001b[0m\u001b[0m\n\u001b[0;32m--> 150\u001b[0;31m         \u001b[0my\u001b[0m \u001b[0;34m=\u001b[0m \u001b[0mcopier\u001b[0m\u001b[0;34m(\u001b[0m\u001b[0mx\u001b[0m\u001b[0;34m,\u001b[0m \u001b[0mmemo\u001b[0m\u001b[0;34m)\u001b[0m\u001b[0;34m\u001b[0m\u001b[0m\n\u001b[0m\u001b[1;32m    151\u001b[0m     \u001b[0;32melse\u001b[0m\u001b[0;34m:\u001b[0m\u001b[0;34m\u001b[0m\u001b[0m\n\u001b[1;32m    152\u001b[0m         \u001b[0;32mtry\u001b[0m\u001b[0;34m:\u001b[0m\u001b[0;34m\u001b[0m\u001b[0m\n",
      "\u001b[0;32m/home/irfan/anaconda3/lib/python3.6/copy.py\u001b[0m in \u001b[0;36m_deepcopy_dict\u001b[0;34m(x, memo, deepcopy)\u001b[0m\n\u001b[1;32m    238\u001b[0m     \u001b[0mmemo\u001b[0m\u001b[0;34m[\u001b[0m\u001b[0mid\u001b[0m\u001b[0;34m(\u001b[0m\u001b[0mx\u001b[0m\u001b[0;34m)\u001b[0m\u001b[0;34m]\u001b[0m \u001b[0;34m=\u001b[0m \u001b[0my\u001b[0m\u001b[0;34m\u001b[0m\u001b[0m\n\u001b[1;32m    239\u001b[0m     \u001b[0;32mfor\u001b[0m \u001b[0mkey\u001b[0m\u001b[0;34m,\u001b[0m \u001b[0mvalue\u001b[0m \u001b[0;32min\u001b[0m \u001b[0mx\u001b[0m\u001b[0;34m.\u001b[0m\u001b[0mitems\u001b[0m\u001b[0;34m(\u001b[0m\u001b[0;34m)\u001b[0m\u001b[0;34m:\u001b[0m\u001b[0;34m\u001b[0m\u001b[0m\n\u001b[0;32m--> 240\u001b[0;31m         \u001b[0my\u001b[0m\u001b[0;34m[\u001b[0m\u001b[0mdeepcopy\u001b[0m\u001b[0;34m(\u001b[0m\u001b[0mkey\u001b[0m\u001b[0;34m,\u001b[0m \u001b[0mmemo\u001b[0m\u001b[0;34m)\u001b[0m\u001b[0;34m]\u001b[0m \u001b[0;34m=\u001b[0m \u001b[0mdeepcopy\u001b[0m\u001b[0;34m(\u001b[0m\u001b[0mvalue\u001b[0m\u001b[0;34m,\u001b[0m \u001b[0mmemo\u001b[0m\u001b[0;34m)\u001b[0m\u001b[0;34m\u001b[0m\u001b[0m\n\u001b[0m\u001b[1;32m    241\u001b[0m     \u001b[0;32mreturn\u001b[0m \u001b[0my\u001b[0m\u001b[0;34m\u001b[0m\u001b[0m\n\u001b[1;32m    242\u001b[0m \u001b[0md\u001b[0m\u001b[0;34m[\u001b[0m\u001b[0mdict\u001b[0m\u001b[0;34m]\u001b[0m \u001b[0;34m=\u001b[0m \u001b[0m_deepcopy_dict\u001b[0m\u001b[0;34m\u001b[0m\u001b[0m\n",
      "\u001b[0;32m/home/irfan/anaconda3/lib/python3.6/copy.py\u001b[0m in \u001b[0;36mdeepcopy\u001b[0;34m(x, memo, _nil)\u001b[0m\n\u001b[1;32m    148\u001b[0m     \u001b[0mcopier\u001b[0m \u001b[0;34m=\u001b[0m \u001b[0m_deepcopy_dispatch\u001b[0m\u001b[0;34m.\u001b[0m\u001b[0mget\u001b[0m\u001b[0;34m(\u001b[0m\u001b[0mcls\u001b[0m\u001b[0;34m)\u001b[0m\u001b[0;34m\u001b[0m\u001b[0m\n\u001b[1;32m    149\u001b[0m     \u001b[0;32mif\u001b[0m \u001b[0mcopier\u001b[0m\u001b[0;34m:\u001b[0m\u001b[0;34m\u001b[0m\u001b[0m\n\u001b[0;32m--> 150\u001b[0;31m         \u001b[0my\u001b[0m \u001b[0;34m=\u001b[0m \u001b[0mcopier\u001b[0m\u001b[0;34m(\u001b[0m\u001b[0mx\u001b[0m\u001b[0;34m,\u001b[0m \u001b[0mmemo\u001b[0m\u001b[0;34m)\u001b[0m\u001b[0;34m\u001b[0m\u001b[0m\n\u001b[0m\u001b[1;32m    151\u001b[0m     \u001b[0;32melse\u001b[0m\u001b[0;34m:\u001b[0m\u001b[0;34m\u001b[0m\u001b[0m\n\u001b[1;32m    152\u001b[0m         \u001b[0;32mtry\u001b[0m\u001b[0;34m:\u001b[0m\u001b[0;34m\u001b[0m\u001b[0m\n",
      "\u001b[0;32m/home/irfan/anaconda3/lib/python3.6/copy.py\u001b[0m in \u001b[0;36m_deepcopy_list\u001b[0;34m(x, memo, deepcopy)\u001b[0m\n\u001b[1;32m    213\u001b[0m     \u001b[0mappend\u001b[0m \u001b[0;34m=\u001b[0m \u001b[0my\u001b[0m\u001b[0;34m.\u001b[0m\u001b[0mappend\u001b[0m\u001b[0;34m\u001b[0m\u001b[0m\n\u001b[1;32m    214\u001b[0m     \u001b[0;32mfor\u001b[0m \u001b[0ma\u001b[0m \u001b[0;32min\u001b[0m \u001b[0mx\u001b[0m\u001b[0;34m:\u001b[0m\u001b[0;34m\u001b[0m\u001b[0m\n\u001b[0;32m--> 215\u001b[0;31m         \u001b[0mappend\u001b[0m\u001b[0;34m(\u001b[0m\u001b[0mdeepcopy\u001b[0m\u001b[0;34m(\u001b[0m\u001b[0ma\u001b[0m\u001b[0;34m,\u001b[0m \u001b[0mmemo\u001b[0m\u001b[0;34m)\u001b[0m\u001b[0;34m)\u001b[0m\u001b[0;34m\u001b[0m\u001b[0m\n\u001b[0m\u001b[1;32m    216\u001b[0m     \u001b[0;32mreturn\u001b[0m \u001b[0my\u001b[0m\u001b[0;34m\u001b[0m\u001b[0m\n\u001b[1;32m    217\u001b[0m \u001b[0md\u001b[0m\u001b[0;34m[\u001b[0m\u001b[0mlist\u001b[0m\u001b[0;34m]\u001b[0m \u001b[0;34m=\u001b[0m \u001b[0m_deepcopy_list\u001b[0m\u001b[0;34m\u001b[0m\u001b[0m\n",
      "\u001b[0;32m/home/irfan/anaconda3/lib/python3.6/copy.py\u001b[0m in \u001b[0;36mdeepcopy\u001b[0;34m(x, memo, _nil)\u001b[0m\n\u001b[1;32m    178\u001b[0m                     \u001b[0my\u001b[0m \u001b[0;34m=\u001b[0m \u001b[0mx\u001b[0m\u001b[0;34m\u001b[0m\u001b[0m\n\u001b[1;32m    179\u001b[0m                 \u001b[0;32melse\u001b[0m\u001b[0;34m:\u001b[0m\u001b[0;34m\u001b[0m\u001b[0m\n\u001b[0;32m--> 180\u001b[0;31m                     \u001b[0my\u001b[0m \u001b[0;34m=\u001b[0m \u001b[0m_reconstruct\u001b[0m\u001b[0;34m(\u001b[0m\u001b[0mx\u001b[0m\u001b[0;34m,\u001b[0m \u001b[0mmemo\u001b[0m\u001b[0;34m,\u001b[0m \u001b[0;34m*\u001b[0m\u001b[0mrv\u001b[0m\u001b[0;34m)\u001b[0m\u001b[0;34m\u001b[0m\u001b[0m\n\u001b[0m\u001b[1;32m    181\u001b[0m \u001b[0;34m\u001b[0m\u001b[0m\n\u001b[1;32m    182\u001b[0m     \u001b[0;31m# If is its own copy, don't memoize.\u001b[0m\u001b[0;34m\u001b[0m\u001b[0;34m\u001b[0m\u001b[0m\n",
      "\u001b[0;32m/home/irfan/anaconda3/lib/python3.6/copy.py\u001b[0m in \u001b[0;36m_reconstruct\u001b[0;34m(x, memo, func, args, state, listiter, dictiter, deepcopy)\u001b[0m\n\u001b[1;32m    278\u001b[0m     \u001b[0;32mif\u001b[0m \u001b[0mstate\u001b[0m \u001b[0;32mis\u001b[0m \u001b[0;32mnot\u001b[0m \u001b[0;32mNone\u001b[0m\u001b[0;34m:\u001b[0m\u001b[0;34m\u001b[0m\u001b[0m\n\u001b[1;32m    279\u001b[0m         \u001b[0;32mif\u001b[0m \u001b[0mdeep\u001b[0m\u001b[0;34m:\u001b[0m\u001b[0;34m\u001b[0m\u001b[0m\n\u001b[0;32m--> 280\u001b[0;31m             \u001b[0mstate\u001b[0m \u001b[0;34m=\u001b[0m \u001b[0mdeepcopy\u001b[0m\u001b[0;34m(\u001b[0m\u001b[0mstate\u001b[0m\u001b[0;34m,\u001b[0m \u001b[0mmemo\u001b[0m\u001b[0;34m)\u001b[0m\u001b[0;34m\u001b[0m\u001b[0m\n\u001b[0m\u001b[1;32m    281\u001b[0m         \u001b[0;32mif\u001b[0m \u001b[0mhasattr\u001b[0m\u001b[0;34m(\u001b[0m\u001b[0my\u001b[0m\u001b[0;34m,\u001b[0m \u001b[0;34m'__setstate__'\u001b[0m\u001b[0;34m)\u001b[0m\u001b[0;34m:\u001b[0m\u001b[0;34m\u001b[0m\u001b[0m\n\u001b[1;32m    282\u001b[0m             \u001b[0my\u001b[0m\u001b[0;34m.\u001b[0m\u001b[0m__setstate__\u001b[0m\u001b[0;34m(\u001b[0m\u001b[0mstate\u001b[0m\u001b[0;34m)\u001b[0m\u001b[0;34m\u001b[0m\u001b[0m\n",
      "\u001b[0;32m/home/irfan/anaconda3/lib/python3.6/copy.py\u001b[0m in \u001b[0;36mdeepcopy\u001b[0;34m(x, memo, _nil)\u001b[0m\n\u001b[1;32m    148\u001b[0m     \u001b[0mcopier\u001b[0m \u001b[0;34m=\u001b[0m \u001b[0m_deepcopy_dispatch\u001b[0m\u001b[0;34m.\u001b[0m\u001b[0mget\u001b[0m\u001b[0;34m(\u001b[0m\u001b[0mcls\u001b[0m\u001b[0;34m)\u001b[0m\u001b[0;34m\u001b[0m\u001b[0m\n\u001b[1;32m    149\u001b[0m     \u001b[0;32mif\u001b[0m \u001b[0mcopier\u001b[0m\u001b[0;34m:\u001b[0m\u001b[0;34m\u001b[0m\u001b[0m\n\u001b[0;32m--> 150\u001b[0;31m         \u001b[0my\u001b[0m \u001b[0;34m=\u001b[0m \u001b[0mcopier\u001b[0m\u001b[0;34m(\u001b[0m\u001b[0mx\u001b[0m\u001b[0;34m,\u001b[0m \u001b[0mmemo\u001b[0m\u001b[0;34m)\u001b[0m\u001b[0;34m\u001b[0m\u001b[0m\n\u001b[0m\u001b[1;32m    151\u001b[0m     \u001b[0;32melse\u001b[0m\u001b[0;34m:\u001b[0m\u001b[0;34m\u001b[0m\u001b[0m\n\u001b[1;32m    152\u001b[0m         \u001b[0;32mtry\u001b[0m\u001b[0;34m:\u001b[0m\u001b[0;34m\u001b[0m\u001b[0m\n",
      "\u001b[0;32m/home/irfan/anaconda3/lib/python3.6/copy.py\u001b[0m in \u001b[0;36m_deepcopy_dict\u001b[0;34m(x, memo, deepcopy)\u001b[0m\n\u001b[1;32m    238\u001b[0m     \u001b[0mmemo\u001b[0m\u001b[0;34m[\u001b[0m\u001b[0mid\u001b[0m\u001b[0;34m(\u001b[0m\u001b[0mx\u001b[0m\u001b[0;34m)\u001b[0m\u001b[0;34m]\u001b[0m \u001b[0;34m=\u001b[0m \u001b[0my\u001b[0m\u001b[0;34m\u001b[0m\u001b[0m\n\u001b[1;32m    239\u001b[0m     \u001b[0;32mfor\u001b[0m \u001b[0mkey\u001b[0m\u001b[0;34m,\u001b[0m \u001b[0mvalue\u001b[0m \u001b[0;32min\u001b[0m \u001b[0mx\u001b[0m\u001b[0;34m.\u001b[0m\u001b[0mitems\u001b[0m\u001b[0;34m(\u001b[0m\u001b[0;34m)\u001b[0m\u001b[0;34m:\u001b[0m\u001b[0;34m\u001b[0m\u001b[0m\n\u001b[0;32m--> 240\u001b[0;31m         \u001b[0my\u001b[0m\u001b[0;34m[\u001b[0m\u001b[0mdeepcopy\u001b[0m\u001b[0;34m(\u001b[0m\u001b[0mkey\u001b[0m\u001b[0;34m,\u001b[0m \u001b[0mmemo\u001b[0m\u001b[0;34m)\u001b[0m\u001b[0;34m]\u001b[0m \u001b[0;34m=\u001b[0m \u001b[0mdeepcopy\u001b[0m\u001b[0;34m(\u001b[0m\u001b[0mvalue\u001b[0m\u001b[0;34m,\u001b[0m \u001b[0mmemo\u001b[0m\u001b[0;34m)\u001b[0m\u001b[0;34m\u001b[0m\u001b[0m\n\u001b[0m\u001b[1;32m    241\u001b[0m     \u001b[0;32mreturn\u001b[0m \u001b[0my\u001b[0m\u001b[0;34m\u001b[0m\u001b[0m\n\u001b[1;32m    242\u001b[0m \u001b[0md\u001b[0m\u001b[0;34m[\u001b[0m\u001b[0mdict\u001b[0m\u001b[0;34m]\u001b[0m \u001b[0;34m=\u001b[0m \u001b[0m_deepcopy_dict\u001b[0m\u001b[0;34m\u001b[0m\u001b[0m\n",
      "\u001b[0;32m/home/irfan/anaconda3/lib/python3.6/copy.py\u001b[0m in \u001b[0;36mdeepcopy\u001b[0;34m(x, memo, _nil)\u001b[0m\n\u001b[1;32m    178\u001b[0m                     \u001b[0my\u001b[0m \u001b[0;34m=\u001b[0m \u001b[0mx\u001b[0m\u001b[0;34m\u001b[0m\u001b[0m\n\u001b[1;32m    179\u001b[0m                 \u001b[0;32melse\u001b[0m\u001b[0;34m:\u001b[0m\u001b[0;34m\u001b[0m\u001b[0m\n\u001b[0;32m--> 180\u001b[0;31m                     \u001b[0my\u001b[0m \u001b[0;34m=\u001b[0m \u001b[0m_reconstruct\u001b[0m\u001b[0;34m(\u001b[0m\u001b[0mx\u001b[0m\u001b[0;34m,\u001b[0m \u001b[0mmemo\u001b[0m\u001b[0;34m,\u001b[0m \u001b[0;34m*\u001b[0m\u001b[0mrv\u001b[0m\u001b[0;34m)\u001b[0m\u001b[0;34m\u001b[0m\u001b[0m\n\u001b[0m\u001b[1;32m    181\u001b[0m \u001b[0;34m\u001b[0m\u001b[0m\n\u001b[1;32m    182\u001b[0m     \u001b[0;31m# If is its own copy, don't memoize.\u001b[0m\u001b[0;34m\u001b[0m\u001b[0;34m\u001b[0m\u001b[0m\n",
      "\u001b[0;32m/home/irfan/anaconda3/lib/python3.6/copy.py\u001b[0m in \u001b[0;36m_reconstruct\u001b[0;34m(x, memo, func, args, state, listiter, dictiter, deepcopy)\u001b[0m\n\u001b[1;32m    278\u001b[0m     \u001b[0;32mif\u001b[0m \u001b[0mstate\u001b[0m \u001b[0;32mis\u001b[0m \u001b[0;32mnot\u001b[0m \u001b[0;32mNone\u001b[0m\u001b[0;34m:\u001b[0m\u001b[0;34m\u001b[0m\u001b[0m\n\u001b[1;32m    279\u001b[0m         \u001b[0;32mif\u001b[0m \u001b[0mdeep\u001b[0m\u001b[0;34m:\u001b[0m\u001b[0;34m\u001b[0m\u001b[0m\n\u001b[0;32m--> 280\u001b[0;31m             \u001b[0mstate\u001b[0m \u001b[0;34m=\u001b[0m \u001b[0mdeepcopy\u001b[0m\u001b[0;34m(\u001b[0m\u001b[0mstate\u001b[0m\u001b[0;34m,\u001b[0m \u001b[0mmemo\u001b[0m\u001b[0;34m)\u001b[0m\u001b[0;34m\u001b[0m\u001b[0m\n\u001b[0m\u001b[1;32m    281\u001b[0m         \u001b[0;32mif\u001b[0m \u001b[0mhasattr\u001b[0m\u001b[0;34m(\u001b[0m\u001b[0my\u001b[0m\u001b[0;34m,\u001b[0m \u001b[0;34m'__setstate__'\u001b[0m\u001b[0;34m)\u001b[0m\u001b[0;34m:\u001b[0m\u001b[0;34m\u001b[0m\u001b[0m\n\u001b[1;32m    282\u001b[0m             \u001b[0my\u001b[0m\u001b[0;34m.\u001b[0m\u001b[0m__setstate__\u001b[0m\u001b[0;34m(\u001b[0m\u001b[0mstate\u001b[0m\u001b[0;34m)\u001b[0m\u001b[0;34m\u001b[0m\u001b[0m\n",
      "\u001b[0;32m/home/irfan/anaconda3/lib/python3.6/copy.py\u001b[0m in \u001b[0;36mdeepcopy\u001b[0;34m(x, memo, _nil)\u001b[0m\n\u001b[1;32m    148\u001b[0m     \u001b[0mcopier\u001b[0m \u001b[0;34m=\u001b[0m \u001b[0m_deepcopy_dispatch\u001b[0m\u001b[0;34m.\u001b[0m\u001b[0mget\u001b[0m\u001b[0;34m(\u001b[0m\u001b[0mcls\u001b[0m\u001b[0;34m)\u001b[0m\u001b[0;34m\u001b[0m\u001b[0m\n\u001b[1;32m    149\u001b[0m     \u001b[0;32mif\u001b[0m \u001b[0mcopier\u001b[0m\u001b[0;34m:\u001b[0m\u001b[0;34m\u001b[0m\u001b[0m\n\u001b[0;32m--> 150\u001b[0;31m         \u001b[0my\u001b[0m \u001b[0;34m=\u001b[0m \u001b[0mcopier\u001b[0m\u001b[0;34m(\u001b[0m\u001b[0mx\u001b[0m\u001b[0;34m,\u001b[0m \u001b[0mmemo\u001b[0m\u001b[0;34m)\u001b[0m\u001b[0;34m\u001b[0m\u001b[0m\n\u001b[0m\u001b[1;32m    151\u001b[0m     \u001b[0;32melse\u001b[0m\u001b[0;34m:\u001b[0m\u001b[0;34m\u001b[0m\u001b[0m\n\u001b[1;32m    152\u001b[0m         \u001b[0;32mtry\u001b[0m\u001b[0;34m:\u001b[0m\u001b[0;34m\u001b[0m\u001b[0m\n",
      "\u001b[0;32m/home/irfan/anaconda3/lib/python3.6/copy.py\u001b[0m in \u001b[0;36m_deepcopy_dict\u001b[0;34m(x, memo, deepcopy)\u001b[0m\n\u001b[1;32m    238\u001b[0m     \u001b[0mmemo\u001b[0m\u001b[0;34m[\u001b[0m\u001b[0mid\u001b[0m\u001b[0;34m(\u001b[0m\u001b[0mx\u001b[0m\u001b[0;34m)\u001b[0m\u001b[0;34m]\u001b[0m \u001b[0;34m=\u001b[0m \u001b[0my\u001b[0m\u001b[0;34m\u001b[0m\u001b[0m\n\u001b[1;32m    239\u001b[0m     \u001b[0;32mfor\u001b[0m \u001b[0mkey\u001b[0m\u001b[0;34m,\u001b[0m \u001b[0mvalue\u001b[0m \u001b[0;32min\u001b[0m \u001b[0mx\u001b[0m\u001b[0;34m.\u001b[0m\u001b[0mitems\u001b[0m\u001b[0;34m(\u001b[0m\u001b[0;34m)\u001b[0m\u001b[0;34m:\u001b[0m\u001b[0;34m\u001b[0m\u001b[0m\n\u001b[0;32m--> 240\u001b[0;31m         \u001b[0my\u001b[0m\u001b[0;34m[\u001b[0m\u001b[0mdeepcopy\u001b[0m\u001b[0;34m(\u001b[0m\u001b[0mkey\u001b[0m\u001b[0;34m,\u001b[0m \u001b[0mmemo\u001b[0m\u001b[0;34m)\u001b[0m\u001b[0;34m]\u001b[0m \u001b[0;34m=\u001b[0m \u001b[0mdeepcopy\u001b[0m\u001b[0;34m(\u001b[0m\u001b[0mvalue\u001b[0m\u001b[0;34m,\u001b[0m \u001b[0mmemo\u001b[0m\u001b[0;34m)\u001b[0m\u001b[0;34m\u001b[0m\u001b[0m\n\u001b[0m\u001b[1;32m    241\u001b[0m     \u001b[0;32mreturn\u001b[0m \u001b[0my\u001b[0m\u001b[0;34m\u001b[0m\u001b[0m\n\u001b[1;32m    242\u001b[0m \u001b[0md\u001b[0m\u001b[0;34m[\u001b[0m\u001b[0mdict\u001b[0m\u001b[0;34m]\u001b[0m \u001b[0;34m=\u001b[0m \u001b[0m_deepcopy_dict\u001b[0m\u001b[0;34m\u001b[0m\u001b[0m\n",
      "\u001b[0;32m/home/irfan/anaconda3/lib/python3.6/copy.py\u001b[0m in \u001b[0;36mdeepcopy\u001b[0;34m(x, memo, _nil)\u001b[0m\n\u001b[1;32m    178\u001b[0m                     \u001b[0my\u001b[0m \u001b[0;34m=\u001b[0m \u001b[0mx\u001b[0m\u001b[0;34m\u001b[0m\u001b[0m\n\u001b[1;32m    179\u001b[0m                 \u001b[0;32melse\u001b[0m\u001b[0;34m:\u001b[0m\u001b[0;34m\u001b[0m\u001b[0m\n\u001b[0;32m--> 180\u001b[0;31m                     \u001b[0my\u001b[0m \u001b[0;34m=\u001b[0m \u001b[0m_reconstruct\u001b[0m\u001b[0;34m(\u001b[0m\u001b[0mx\u001b[0m\u001b[0;34m,\u001b[0m \u001b[0mmemo\u001b[0m\u001b[0;34m,\u001b[0m \u001b[0;34m*\u001b[0m\u001b[0mrv\u001b[0m\u001b[0;34m)\u001b[0m\u001b[0;34m\u001b[0m\u001b[0m\n\u001b[0m\u001b[1;32m    181\u001b[0m \u001b[0;34m\u001b[0m\u001b[0m\n\u001b[1;32m    182\u001b[0m     \u001b[0;31m# If is its own copy, don't memoize.\u001b[0m\u001b[0;34m\u001b[0m\u001b[0;34m\u001b[0m\u001b[0m\n",
      "\u001b[0;32m/home/irfan/anaconda3/lib/python3.6/copy.py\u001b[0m in \u001b[0;36m_reconstruct\u001b[0;34m(x, memo, func, args, state, listiter, dictiter, deepcopy)\u001b[0m\n\u001b[1;32m    278\u001b[0m     \u001b[0;32mif\u001b[0m \u001b[0mstate\u001b[0m \u001b[0;32mis\u001b[0m \u001b[0;32mnot\u001b[0m \u001b[0;32mNone\u001b[0m\u001b[0;34m:\u001b[0m\u001b[0;34m\u001b[0m\u001b[0m\n\u001b[1;32m    279\u001b[0m         \u001b[0;32mif\u001b[0m \u001b[0mdeep\u001b[0m\u001b[0;34m:\u001b[0m\u001b[0;34m\u001b[0m\u001b[0m\n\u001b[0;32m--> 280\u001b[0;31m             \u001b[0mstate\u001b[0m \u001b[0;34m=\u001b[0m \u001b[0mdeepcopy\u001b[0m\u001b[0;34m(\u001b[0m\u001b[0mstate\u001b[0m\u001b[0;34m,\u001b[0m \u001b[0mmemo\u001b[0m\u001b[0;34m)\u001b[0m\u001b[0;34m\u001b[0m\u001b[0m\n\u001b[0m\u001b[1;32m    281\u001b[0m         \u001b[0;32mif\u001b[0m \u001b[0mhasattr\u001b[0m\u001b[0;34m(\u001b[0m\u001b[0my\u001b[0m\u001b[0;34m,\u001b[0m \u001b[0;34m'__setstate__'\u001b[0m\u001b[0;34m)\u001b[0m\u001b[0;34m:\u001b[0m\u001b[0;34m\u001b[0m\u001b[0m\n\u001b[1;32m    282\u001b[0m             \u001b[0my\u001b[0m\u001b[0;34m.\u001b[0m\u001b[0m__setstate__\u001b[0m\u001b[0;34m(\u001b[0m\u001b[0mstate\u001b[0m\u001b[0;34m)\u001b[0m\u001b[0;34m\u001b[0m\u001b[0m\n",
      "\u001b[0;32m/home/irfan/anaconda3/lib/python3.6/copy.py\u001b[0m in \u001b[0;36mdeepcopy\u001b[0;34m(x, memo, _nil)\u001b[0m\n\u001b[1;32m    148\u001b[0m     \u001b[0mcopier\u001b[0m \u001b[0;34m=\u001b[0m \u001b[0m_deepcopy_dispatch\u001b[0m\u001b[0;34m.\u001b[0m\u001b[0mget\u001b[0m\u001b[0;34m(\u001b[0m\u001b[0mcls\u001b[0m\u001b[0;34m)\u001b[0m\u001b[0;34m\u001b[0m\u001b[0m\n\u001b[1;32m    149\u001b[0m     \u001b[0;32mif\u001b[0m \u001b[0mcopier\u001b[0m\u001b[0;34m:\u001b[0m\u001b[0;34m\u001b[0m\u001b[0m\n\u001b[0;32m--> 150\u001b[0;31m         \u001b[0my\u001b[0m \u001b[0;34m=\u001b[0m \u001b[0mcopier\u001b[0m\u001b[0;34m(\u001b[0m\u001b[0mx\u001b[0m\u001b[0;34m,\u001b[0m \u001b[0mmemo\u001b[0m\u001b[0;34m)\u001b[0m\u001b[0;34m\u001b[0m\u001b[0m\n\u001b[0m\u001b[1;32m    151\u001b[0m     \u001b[0;32melse\u001b[0m\u001b[0;34m:\u001b[0m\u001b[0;34m\u001b[0m\u001b[0m\n\u001b[1;32m    152\u001b[0m         \u001b[0;32mtry\u001b[0m\u001b[0;34m:\u001b[0m\u001b[0;34m\u001b[0m\u001b[0m\n",
      "\u001b[0;32m/home/irfan/anaconda3/lib/python3.6/copy.py\u001b[0m in \u001b[0;36m_deepcopy_dict\u001b[0;34m(x, memo, deepcopy)\u001b[0m\n\u001b[1;32m    238\u001b[0m     \u001b[0mmemo\u001b[0m\u001b[0;34m[\u001b[0m\u001b[0mid\u001b[0m\u001b[0;34m(\u001b[0m\u001b[0mx\u001b[0m\u001b[0;34m)\u001b[0m\u001b[0;34m]\u001b[0m \u001b[0;34m=\u001b[0m \u001b[0my\u001b[0m\u001b[0;34m\u001b[0m\u001b[0m\n\u001b[1;32m    239\u001b[0m     \u001b[0;32mfor\u001b[0m \u001b[0mkey\u001b[0m\u001b[0;34m,\u001b[0m \u001b[0mvalue\u001b[0m \u001b[0;32min\u001b[0m \u001b[0mx\u001b[0m\u001b[0;34m.\u001b[0m\u001b[0mitems\u001b[0m\u001b[0;34m(\u001b[0m\u001b[0;34m)\u001b[0m\u001b[0;34m:\u001b[0m\u001b[0;34m\u001b[0m\u001b[0m\n\u001b[0;32m--> 240\u001b[0;31m         \u001b[0my\u001b[0m\u001b[0;34m[\u001b[0m\u001b[0mdeepcopy\u001b[0m\u001b[0;34m(\u001b[0m\u001b[0mkey\u001b[0m\u001b[0;34m,\u001b[0m \u001b[0mmemo\u001b[0m\u001b[0;34m)\u001b[0m\u001b[0;34m]\u001b[0m \u001b[0;34m=\u001b[0m \u001b[0mdeepcopy\u001b[0m\u001b[0;34m(\u001b[0m\u001b[0mvalue\u001b[0m\u001b[0;34m,\u001b[0m \u001b[0mmemo\u001b[0m\u001b[0;34m)\u001b[0m\u001b[0;34m\u001b[0m\u001b[0m\n\u001b[0m\u001b[1;32m    241\u001b[0m     \u001b[0;32mreturn\u001b[0m \u001b[0my\u001b[0m\u001b[0;34m\u001b[0m\u001b[0m\n\u001b[1;32m    242\u001b[0m \u001b[0md\u001b[0m\u001b[0;34m[\u001b[0m\u001b[0mdict\u001b[0m\u001b[0;34m]\u001b[0m \u001b[0;34m=\u001b[0m \u001b[0m_deepcopy_dict\u001b[0m\u001b[0;34m\u001b[0m\u001b[0m\n",
      "\u001b[0;32m/home/irfan/anaconda3/lib/python3.6/copy.py\u001b[0m in \u001b[0;36mdeepcopy\u001b[0;34m(x, memo, _nil)\u001b[0m\n\u001b[1;32m    167\u001b[0m                     \u001b[0mreductor\u001b[0m \u001b[0;34m=\u001b[0m \u001b[0mgetattr\u001b[0m\u001b[0;34m(\u001b[0m\u001b[0mx\u001b[0m\u001b[0;34m,\u001b[0m \u001b[0;34m\"__reduce_ex__\"\u001b[0m\u001b[0;34m,\u001b[0m \u001b[0;32mNone\u001b[0m\u001b[0;34m)\u001b[0m\u001b[0;34m\u001b[0m\u001b[0m\n\u001b[1;32m    168\u001b[0m                     \u001b[0;32mif\u001b[0m \u001b[0mreductor\u001b[0m\u001b[0;34m:\u001b[0m\u001b[0;34m\u001b[0m\u001b[0m\n\u001b[0;32m--> 169\u001b[0;31m                         \u001b[0mrv\u001b[0m \u001b[0;34m=\u001b[0m \u001b[0mreductor\u001b[0m\u001b[0;34m(\u001b[0m\u001b[0;36m4\u001b[0m\u001b[0;34m)\u001b[0m\u001b[0;34m\u001b[0m\u001b[0m\n\u001b[0m\u001b[1;32m    170\u001b[0m                     \u001b[0;32melse\u001b[0m\u001b[0;34m:\u001b[0m\u001b[0;34m\u001b[0m\u001b[0m\n\u001b[1;32m    171\u001b[0m                         \u001b[0mreductor\u001b[0m \u001b[0;34m=\u001b[0m \u001b[0mgetattr\u001b[0m\u001b[0;34m(\u001b[0m\u001b[0mx\u001b[0m\u001b[0;34m,\u001b[0m \u001b[0;34m\"__reduce__\"\u001b[0m\u001b[0;34m,\u001b[0m \u001b[0;32mNone\u001b[0m\u001b[0;34m)\u001b[0m\u001b[0;34m\u001b[0m\u001b[0m\n",
      "\u001b[0;31mTypeError\u001b[0m: can't pickle _thread.lock objects"
     ]
    }
   ],
   "source": [
    "#task = oml.tasks.get_task(3573)\n",
    "run = tes_oml.runs.run_model_on_task(task, m)\n",
    "#myrun = run.publish()\n",
    "#print(\"Uploaded to http://www.openml.org/r/\" + str(myrun.run_id))"
   ]
  },
  {
   "cell_type": "code",
   "execution_count": 57,
   "metadata": {
    "collapsed": false
   },
   "outputs": [
    {
     "name": "stdout",
     "output_type": "stream",
     "text": [
      "<keras.models.Sequential object at 0x7f8dcc035518>\n"
     ]
    }
   ],
   "source": [
    "print(m.build_fn)"
   ]
  },
  {
   "cell_type": "code",
   "execution_count": null,
   "metadata": {
    "collapsed": true
   },
   "outputs": [],
   "source": []
  }
 ],
 "metadata": {
  "kernelspec": {
   "display_name": "Python 3",
   "language": "python",
   "name": "python3"
  },
  "language_info": {
   "codemirror_mode": {
    "name": "ipython",
    "version": 3
   },
   "file_extension": ".py",
   "mimetype": "text/x-python",
   "name": "python",
   "nbconvert_exporter": "python",
   "pygments_lexer": "ipython3",
   "version": "3.6.0"
  }
 },
 "nbformat": 4,
 "nbformat_minor": 2
}
